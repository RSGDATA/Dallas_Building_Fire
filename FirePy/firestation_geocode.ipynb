{
 "cells": [
  {
   "cell_type": "code",
   "execution_count": 1,
   "id": "1d8481a5",
   "metadata": {},
   "outputs": [],
   "source": [
    "import matplotlib.pyplot as plt\n",
    "import pandas as pd\n",
    "import numpy as np\n",
    "import requests\n",
    "import gmaps\n",
    "import os\n",
    "from config import gkey\n"
   ]
  },
  {
   "cell_type": "code",
   "execution_count": 10,
   "id": "40c1ced8",
   "metadata": {},
   "outputs": [
    {
     "data": {
      "text/html": [
       "<div>\n",
       "<style scoped>\n",
       "    .dataframe tbody tr th:only-of-type {\n",
       "        vertical-align: middle;\n",
       "    }\n",
       "\n",
       "    .dataframe tbody tr th {\n",
       "        vertical-align: top;\n",
       "    }\n",
       "\n",
       "    .dataframe thead th {\n",
       "        text-align: right;\n",
       "    }\n",
       "</style>\n",
       "<table border=\"1\" class=\"dataframe\">\n",
       "  <thead>\n",
       "    <tr style=\"text-align: right;\">\n",
       "      <th></th>\n",
       "      <th>Address</th>\n",
       "    </tr>\n",
       "  </thead>\n",
       "  <tbody>\n",
       "    <tr>\n",
       "      <th>1</th>\n",
       "      <td>1901 Irving Blvd.</td>\n",
       "    </tr>\n",
       "    <tr>\n",
       "      <th>2</th>\n",
       "      <td>4211 Northhaven Road</td>\n",
       "    </tr>\n",
       "    <tr>\n",
       "      <th>3</th>\n",
       "      <td>500 N. Malcolm X Blvd.</td>\n",
       "    </tr>\n",
       "    <tr>\n",
       "      <th>4</th>\n",
       "      <td>816 South Akard Street</td>\n",
       "    </tr>\n",
       "    <tr>\n",
       "      <th>5</th>\n",
       "      <td>2039 St. Augustine Drive</td>\n",
       "    </tr>\n",
       "  </tbody>\n",
       "</table>\n",
       "</div>"
      ],
      "text/plain": [
       "                    Address\n",
       "1         1901 Irving Blvd.\n",
       "2      4211 Northhaven Road\n",
       "3    500 N. Malcolm X Blvd.\n",
       "4    816 South Akard Street\n",
       "5  2039 St. Augustine Drive"
      ]
     },
     "execution_count": 10,
     "metadata": {},
     "output_type": "execute_result"
    }
   ],
   "source": [
    "stations_df = pd.read_csv('data/fire_stations.csv')\n",
    "# organized so that index = Station Number\n",
    "#stations_df = stations_df.drop(axis=0, index=0)\n",
    "stations_df.head()"
   ]
  },
  {
   "cell_type": "code",
   "execution_count": 12,
   "id": "63464b92",
   "metadata": {},
   "outputs": [
    {
     "name": "stdout",
     "output_type": "stream",
     "text": [
      "58: 32.9309666, -96.984529\n"
     ]
    }
   ],
   "source": [
    "from IPython.display import clear_output\n",
    "\n",
    "lats = []\n",
    "lngs = []\n",
    "# geocoordinates\n",
    "places_url = \"https://maps.googleapis.com/maps/api/place/findplacefromtext/json\"\n",
    "geocode_url = \"https://maps.googleapis.com/maps/api/geocode/json\"\n",
    "for index, row in stations_df.iterrows():\n",
    "    address = row['Address'] + \", Dallas, TX\"\n",
    "       \n",
    "    \n",
    "    params = {\n",
    "        \"input\": address.replace(\" \", \"+\"),\n",
    "        \"inputtype\": \"textquery\",\n",
    "        \"key\": gkey,\n",
    "        \"fields\": \"geometry\"\n",
    "    }\n",
    "    \n",
    "    \n",
    "        \n",
    "    try:\n",
    "        geo_data = requests.get(places_url, params=params).json()\n",
    "        lat = geo_data[\"candidates\"][0][\"geometry\"][\"location\"][\"lat\"]\n",
    "        lng = geo_data[\"candidates\"][0][\"geometry\"][\"location\"][\"lng\"]\n",
    "        \n",
    "    except:\n",
    "        lat = None\n",
    "        lng = None\n",
    "\n",
    "    clear_output(wait=True)\n",
    "    print(f\"{index}: {lat}, {lng}\")\n",
    "\n",
    "    \n",
    "    lats.append(lat)\n",
    "    lngs.append(lng)\n",
    "\n",
    "        \n",
    "    \n",
    "stations_df['Lat'] = lats\n",
    "stations_df['Lng'] = lngs\n"
   ]
  },
  {
   "cell_type": "code",
   "execution_count": 14,
   "id": "52aa420d",
   "metadata": {},
   "outputs": [],
   "source": [
    "stations_df.to_csv(r'data/fire_stations.csv', index = False)"
   ]
  },
  {
   "cell_type": "code",
   "execution_count": null,
   "id": "ad6b032f",
   "metadata": {},
   "outputs": [],
   "source": []
  }
 ],
 "metadata": {
  "kernelspec": {
   "display_name": "Python 3 (ipykernel)",
   "language": "python",
   "name": "python3"
  },
  "language_info": {
   "codemirror_mode": {
    "name": "ipython",
    "version": 3
   },
   "file_extension": ".py",
   "mimetype": "text/x-python",
   "name": "python",
   "nbconvert_exporter": "python",
   "pygments_lexer": "ipython3",
   "version": "3.8.12"
  }
 },
 "nbformat": 4,
 "nbformat_minor": 5
}
