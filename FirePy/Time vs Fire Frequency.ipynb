{
 "cells": [
  {
   "cell_type": "code",
   "execution_count": 43,
   "id": "9855f285",
   "metadata": {},
   "outputs": [],
   "source": [
    "import matplotlib.pyplot as plt\n",
    "import pandas as pd\n",
    "import numpy as np\n",
    "import requests\n",
    "import gmaps\n",
    "import os\n",
    "import seaborn as sns\n",
    "import seaborn as sb\n",
    "import datetime as dt\n",
    "\n"
   ]
  },
  {
   "cell_type": "code",
   "execution_count": 44,
   "id": "2eb6e675",
   "metadata": {},
   "outputs": [
    {
     "data": {
      "text/html": [
       "<div>\n",
       "<style scoped>\n",
       "    .dataframe tbody tr th:only-of-type {\n",
       "        vertical-align: middle;\n",
       "    }\n",
       "\n",
       "    .dataframe tbody tr th {\n",
       "        vertical-align: top;\n",
       "    }\n",
       "\n",
       "    .dataframe thead th {\n",
       "        text-align: right;\n",
       "    }\n",
       "</style>\n",
       "<table border=\"1\" class=\"dataframe\">\n",
       "  <thead>\n",
       "    <tr style=\"text-align: right;\">\n",
       "      <th></th>\n",
       "      <th>index</th>\n",
       "      <th>ID</th>\n",
       "      <th>DATE</th>\n",
       "      <th>TIME</th>\n",
       "      <th>ZIP</th>\n",
       "      <th>BATTALION</th>\n",
       "      <th>SHIFT</th>\n",
       "      <th>COUNCIL DISTRICT</th>\n",
       "      <th>STRUCTURE TYPE</th>\n",
       "      <th>BUILDING STORIES</th>\n",
       "      <th>...</th>\n",
       "      <th>TOTAL VALUE</th>\n",
       "      <th>STRUCTURE LOSS</th>\n",
       "      <th>CONTENTS LOSS</th>\n",
       "      <th>TOTAL SAVED</th>\n",
       "      <th>PERCENTAGE LOSS</th>\n",
       "      <th>SPRINKER SYSTEM</th>\n",
       "      <th>ALARM SYSTEM</th>\n",
       "      <th>ADDRESS</th>\n",
       "      <th>Lat</th>\n",
       "      <th>Lng</th>\n",
       "    </tr>\n",
       "  </thead>\n",
       "  <tbody>\n",
       "    <tr>\n",
       "      <th>0</th>\n",
       "      <td>0</td>\n",
       "      <td>17961.0</td>\n",
       "      <td>10/29/2019</td>\n",
       "      <td>08:21 PM</td>\n",
       "      <td>75216.0</td>\n",
       "      <td>6</td>\n",
       "      <td>A</td>\n",
       "      <td>4.0</td>\n",
       "      <td>DWELLING</td>\n",
       "      <td>1.0</td>\n",
       "      <td>...</td>\n",
       "      <td>166370.0</td>\n",
       "      <td>-5000.0</td>\n",
       "      <td>0.0</td>\n",
       "      <td>161370.0</td>\n",
       "      <td>3.01</td>\n",
       "      <td>NaN</td>\n",
       "      <td>NaN</td>\n",
       "      <td>1325 S MARSALIS AVE</td>\n",
       "      <td>32.732107</td>\n",
       "      <td>-96.814783</td>\n",
       "    </tr>\n",
       "    <tr>\n",
       "      <th>1</th>\n",
       "      <td>1</td>\n",
       "      <td>17962.0</td>\n",
       "      <td>10/30/2019</td>\n",
       "      <td>03:42 AM</td>\n",
       "      <td>75229.0</td>\n",
       "      <td>7</td>\n",
       "      <td>A</td>\n",
       "      <td>13.0</td>\n",
       "      <td>DWELLING</td>\n",
       "      <td>1.0</td>\n",
       "      <td>...</td>\n",
       "      <td>535470.0</td>\n",
       "      <td>-10000.0</td>\n",
       "      <td>0.0</td>\n",
       "      <td>525470.0</td>\n",
       "      <td>1.87</td>\n",
       "      <td>NaN</td>\n",
       "      <td>NaN</td>\n",
       "      <td>10728 LATHROP DR</td>\n",
       "      <td>32.894248</td>\n",
       "      <td>-96.857108</td>\n",
       "    </tr>\n",
       "    <tr>\n",
       "      <th>2</th>\n",
       "      <td>2</td>\n",
       "      <td>17963.0</td>\n",
       "      <td>10/30/2019</td>\n",
       "      <td>10:47 AM</td>\n",
       "      <td>75241.0</td>\n",
       "      <td>5</td>\n",
       "      <td>B</td>\n",
       "      <td>3.0</td>\n",
       "      <td>DWELLING</td>\n",
       "      <td>1.0</td>\n",
       "      <td>...</td>\n",
       "      <td>306000.0</td>\n",
       "      <td>-5000.0</td>\n",
       "      <td>-15000.0</td>\n",
       "      <td>286000.0</td>\n",
       "      <td>6.54</td>\n",
       "      <td>NaN</td>\n",
       "      <td>NaN</td>\n",
       "      <td>6205 S R L THORNTON SERV</td>\n",
       "      <td>32.694543</td>\n",
       "      <td>-96.824020</td>\n",
       "    </tr>\n",
       "    <tr>\n",
       "      <th>3</th>\n",
       "      <td>3</td>\n",
       "      <td>17964.0</td>\n",
       "      <td>10/30/2019</td>\n",
       "      <td>05:32 PM</td>\n",
       "      <td>75243.0</td>\n",
       "      <td>2</td>\n",
       "      <td>B</td>\n",
       "      <td>10.0</td>\n",
       "      <td>DWELLING</td>\n",
       "      <td>1.0</td>\n",
       "      <td>...</td>\n",
       "      <td>126710.0</td>\n",
       "      <td>-8000.0</td>\n",
       "      <td>-4000.0</td>\n",
       "      <td>114710.0</td>\n",
       "      <td>9.47</td>\n",
       "      <td>NaN</td>\n",
       "      <td>NaN</td>\n",
       "      <td>12044 WILLOWDELL DR</td>\n",
       "      <td>32.913584</td>\n",
       "      <td>-96.764435</td>\n",
       "    </tr>\n",
       "    <tr>\n",
       "      <th>4</th>\n",
       "      <td>4</td>\n",
       "      <td>17965.0</td>\n",
       "      <td>10/30/2019</td>\n",
       "      <td>11:03 AM</td>\n",
       "      <td>75212.0</td>\n",
       "      <td>9</td>\n",
       "      <td>B</td>\n",
       "      <td>6.0</td>\n",
       "      <td>DWELLING</td>\n",
       "      <td>1.0</td>\n",
       "      <td>...</td>\n",
       "      <td>84000.0</td>\n",
       "      <td>-45000.0</td>\n",
       "      <td>-10000.0</td>\n",
       "      <td>29000.0</td>\n",
       "      <td>65.48</td>\n",
       "      <td>NaN</td>\n",
       "      <td>NaN</td>\n",
       "      <td>2212 LAPSLEY ST</td>\n",
       "      <td>32.769986</td>\n",
       "      <td>-96.908816</td>\n",
       "    </tr>\n",
       "    <tr>\n",
       "      <th>...</th>\n",
       "      <td>...</td>\n",
       "      <td>...</td>\n",
       "      <td>...</td>\n",
       "      <td>...</td>\n",
       "      <td>...</td>\n",
       "      <td>...</td>\n",
       "      <td>...</td>\n",
       "      <td>...</td>\n",
       "      <td>...</td>\n",
       "      <td>...</td>\n",
       "      <td>...</td>\n",
       "      <td>...</td>\n",
       "      <td>...</td>\n",
       "      <td>...</td>\n",
       "      <td>...</td>\n",
       "      <td>...</td>\n",
       "      <td>...</td>\n",
       "      <td>...</td>\n",
       "      <td>...</td>\n",
       "      <td>...</td>\n",
       "      <td>...</td>\n",
       "    </tr>\n",
       "    <tr>\n",
       "      <th>616</th>\n",
       "      <td>616</td>\n",
       "      <td>18414.0</td>\n",
       "      <td>09/03/2020</td>\n",
       "      <td>02:12 AM</td>\n",
       "      <td>75227.0</td>\n",
       "      <td>8</td>\n",
       "      <td>A</td>\n",
       "      <td>7.0</td>\n",
       "      <td>DWELLING</td>\n",
       "      <td>1.0</td>\n",
       "      <td>...</td>\n",
       "      <td>261000.0</td>\n",
       "      <td>-15000.0</td>\n",
       "      <td>-2500.0</td>\n",
       "      <td>243500.0</td>\n",
       "      <td>6.70</td>\n",
       "      <td>NO</td>\n",
       "      <td>YES</td>\n",
       "      <td>5024 URBAN AVE</td>\n",
       "      <td>32.783636</td>\n",
       "      <td>-96.694285</td>\n",
       "    </tr>\n",
       "    <tr>\n",
       "      <th>617</th>\n",
       "      <td>617</td>\n",
       "      <td>18459.0</td>\n",
       "      <td>09/19/2020</td>\n",
       "      <td>08:49 AM</td>\n",
       "      <td>75214.0</td>\n",
       "      <td>3</td>\n",
       "      <td>C</td>\n",
       "      <td>14.0</td>\n",
       "      <td>APARTMENTS</td>\n",
       "      <td>2.0</td>\n",
       "      <td>...</td>\n",
       "      <td>2240263.0</td>\n",
       "      <td>-2500.0</td>\n",
       "      <td>0.0</td>\n",
       "      <td>2237763.0</td>\n",
       "      <td>0.11</td>\n",
       "      <td>NaN</td>\n",
       "      <td>UNK</td>\n",
       "      <td>5307 GASTON AVE</td>\n",
       "      <td>32.803882</td>\n",
       "      <td>-96.765385</td>\n",
       "    </tr>\n",
       "    <tr>\n",
       "      <th>618</th>\n",
       "      <td>618</td>\n",
       "      <td>18496.0</td>\n",
       "      <td>09/24/2020</td>\n",
       "      <td>07:11 PM</td>\n",
       "      <td>75243.0</td>\n",
       "      <td>4</td>\n",
       "      <td>B</td>\n",
       "      <td>10.0</td>\n",
       "      <td>APARTMENTS</td>\n",
       "      <td>3.0</td>\n",
       "      <td>...</td>\n",
       "      <td>7357830.0</td>\n",
       "      <td>-200.0</td>\n",
       "      <td>0.0</td>\n",
       "      <td>7357630.0</td>\n",
       "      <td>0.00</td>\n",
       "      <td>YES</td>\n",
       "      <td>UKN</td>\n",
       "      <td>218 W FERRIS BRANCH BLVD</td>\n",
       "      <td>32.903830</td>\n",
       "      <td>-96.726209</td>\n",
       "    </tr>\n",
       "    <tr>\n",
       "      <th>619</th>\n",
       "      <td>619</td>\n",
       "      <td>18514.0</td>\n",
       "      <td>09/30/2020</td>\n",
       "      <td>07:15 AM</td>\n",
       "      <td>75253.0</td>\n",
       "      <td>8</td>\n",
       "      <td>B</td>\n",
       "      <td>8.0</td>\n",
       "      <td>SHED</td>\n",
       "      <td>1.0</td>\n",
       "      <td>...</td>\n",
       "      <td>1500.0</td>\n",
       "      <td>-500.0</td>\n",
       "      <td>-100.0</td>\n",
       "      <td>900.0</td>\n",
       "      <td>40.00</td>\n",
       "      <td>NO</td>\n",
       "      <td>NO</td>\n",
       "      <td>14770 LASATER RD</td>\n",
       "      <td>32.692136</td>\n",
       "      <td>-96.567056</td>\n",
       "    </tr>\n",
       "    <tr>\n",
       "      <th>620</th>\n",
       "      <td>620</td>\n",
       "      <td>NaN</td>\n",
       "      <td>02/01/2020</td>\n",
       "      <td>04:29 PM</td>\n",
       "      <td>75216.0</td>\n",
       "      <td>5</td>\n",
       "      <td>C</td>\n",
       "      <td>4.0</td>\n",
       "      <td>DWELLING</td>\n",
       "      <td>1.0</td>\n",
       "      <td>...</td>\n",
       "      <td>171340.0</td>\n",
       "      <td>-2000.0</td>\n",
       "      <td>-40.0</td>\n",
       "      <td>169300.0</td>\n",
       "      <td>1.19</td>\n",
       "      <td>NO</td>\n",
       "      <td>NO</td>\n",
       "      <td>1542 FORDHAM RD</td>\n",
       "      <td>32.696174</td>\n",
       "      <td>-96.802091</td>\n",
       "    </tr>\n",
       "  </tbody>\n",
       "</table>\n",
       "<p>621 rows × 22 columns</p>\n",
       "</div>"
      ],
      "text/plain": [
       "     index       ID        DATE      TIME      ZIP BATTALION SHIFT  \\\n",
       "0        0  17961.0  10/29/2019  08:21 PM  75216.0         6     A   \n",
       "1        1  17962.0  10/30/2019  03:42 AM  75229.0         7     A   \n",
       "2        2  17963.0  10/30/2019  10:47 AM  75241.0         5     B   \n",
       "3        3  17964.0  10/30/2019  05:32 PM  75243.0         2     B   \n",
       "4        4  17965.0  10/30/2019  11:03 AM  75212.0         9     B   \n",
       "..     ...      ...         ...       ...      ...       ...   ...   \n",
       "616    616  18414.0  09/03/2020  02:12 AM  75227.0         8     A   \n",
       "617    617  18459.0  09/19/2020  08:49 AM  75214.0         3     C   \n",
       "618    618  18496.0  09/24/2020  07:11 PM  75243.0         4     B   \n",
       "619    619  18514.0  09/30/2020  07:15 AM  75253.0         8     B   \n",
       "620    620      NaN  02/01/2020  04:29 PM  75216.0         5     C   \n",
       "\n",
       "     COUNCIL DISTRICT STRUCTURE TYPE  BUILDING STORIES  ... TOTAL VALUE  \\\n",
       "0                 4.0       DWELLING               1.0  ...    166370.0   \n",
       "1                13.0       DWELLING               1.0  ...    535470.0   \n",
       "2                 3.0       DWELLING               1.0  ...    306000.0   \n",
       "3                10.0       DWELLING               1.0  ...    126710.0   \n",
       "4                 6.0       DWELLING               1.0  ...     84000.0   \n",
       "..                ...            ...               ...  ...         ...   \n",
       "616               7.0       DWELLING               1.0  ...    261000.0   \n",
       "617              14.0     APARTMENTS               2.0  ...   2240263.0   \n",
       "618              10.0     APARTMENTS               3.0  ...   7357830.0   \n",
       "619               8.0           SHED               1.0  ...      1500.0   \n",
       "620               4.0       DWELLING               1.0  ...    171340.0   \n",
       "\n",
       "    STRUCTURE LOSS  CONTENTS LOSS  TOTAL SAVED  PERCENTAGE LOSS  \\\n",
       "0          -5000.0            0.0     161370.0             3.01   \n",
       "1         -10000.0            0.0     525470.0             1.87   \n",
       "2          -5000.0       -15000.0     286000.0             6.54   \n",
       "3          -8000.0        -4000.0     114710.0             9.47   \n",
       "4         -45000.0       -10000.0      29000.0            65.48   \n",
       "..             ...            ...          ...              ...   \n",
       "616       -15000.0        -2500.0     243500.0             6.70   \n",
       "617        -2500.0            0.0    2237763.0             0.11   \n",
       "618         -200.0            0.0    7357630.0             0.00   \n",
       "619         -500.0         -100.0        900.0            40.00   \n",
       "620        -2000.0          -40.0     169300.0             1.19   \n",
       "\n",
       "     SPRINKER SYSTEM  ALARM SYSTEM                   ADDRESS        Lat  \\\n",
       "0                NaN           NaN       1325 S MARSALIS AVE  32.732107   \n",
       "1                NaN           NaN          10728 LATHROP DR  32.894248   \n",
       "2                NaN           NaN  6205 S R L THORNTON SERV  32.694543   \n",
       "3                NaN           NaN       12044 WILLOWDELL DR  32.913584   \n",
       "4                NaN           NaN           2212 LAPSLEY ST  32.769986   \n",
       "..               ...           ...                       ...        ...   \n",
       "616               NO           YES            5024 URBAN AVE  32.783636   \n",
       "617              NaN           UNK           5307 GASTON AVE  32.803882   \n",
       "618              YES           UKN  218 W FERRIS BRANCH BLVD  32.903830   \n",
       "619               NO            NO          14770 LASATER RD  32.692136   \n",
       "620               NO            NO           1542 FORDHAM RD  32.696174   \n",
       "\n",
       "           Lng  \n",
       "0   -96.814783  \n",
       "1   -96.857108  \n",
       "2   -96.824020  \n",
       "3   -96.764435  \n",
       "4   -96.908816  \n",
       "..         ...  \n",
       "616 -96.694285  \n",
       "617 -96.765385  \n",
       "618 -96.726209  \n",
       "619 -96.567056  \n",
       "620 -96.802091  \n",
       "\n",
       "[621 rows x 22 columns]"
      ]
     },
     "execution_count": 44,
     "metadata": {},
     "output_type": "execute_result"
    }
   ],
   "source": [
    "df = pd.read_csv('Fire.csv')\n",
    "\n",
    "df"
   ]
  },
  {
   "cell_type": "code",
   "execution_count": 45,
   "id": "f7c0e012",
   "metadata": {},
   "outputs": [
    {
     "data": {
      "text/plain": [
       "AM/PM  HOUR\n",
       "AM     01      18.638261\n",
       "       02      11.498387\n",
       "       03      18.263000\n",
       "       04       9.511481\n",
       "       05      26.293571\n",
       "       06      28.976000\n",
       "       07       7.424286\n",
       "       08       9.340800\n",
       "       09       5.676500\n",
       "       10      11.146818\n",
       "       11       9.260455\n",
       "       12      18.375897\n",
       "PM     01       7.277273\n",
       "       02      10.803158\n",
       "       03      16.320400\n",
       "       04       4.195200\n",
       "       05      11.324333\n",
       "       06       9.019118\n",
       "       07       6.026129\n",
       "       08       8.875000\n",
       "       09       4.880345\n",
       "       10      14.150769\n",
       "       11       7.213871\n",
       "       12      11.923043\n",
       "Name: PERCENTAGE LOSS, dtype: float64"
      ]
     },
     "execution_count": 45,
     "metadata": {},
     "output_type": "execute_result"
    }
   ],
   "source": [
    "df[['HOUR', 'AM/PM']] = df['TIME'].str.split(':', expand=True)\n",
    "df\n",
    "\n",
    "df[['MINUTE', 'AM/PM']] = df['AM/PM'].str.split(' ', expand=True,)\n",
    "\n",
    "df_group = df.groupby([\"AM/PM\", \"HOUR\"]).mean()\n",
    "\n",
    "percentage_loss_groupby = df_group.groupby([\"PERCENTAGE LOSS\"]).count()\n",
    "\n",
    "percentage_loss_groupby\n",
    "\n",
    "series = df_group.groupby([\"AM/PM\", \"HOUR\"]).mean()[\"PERCENTAGE LOSS\"]\n",
    "\n",
    "series"
   ]
  },
  {
   "cell_type": "code",
   "execution_count": 46,
   "id": "ac320e4f",
   "metadata": {},
   "outputs": [
    {
     "name": "stdout",
     "output_type": "stream",
     "text": [
      "0 A\n",
      "1 B\n",
      "2 C\n"
     ]
    }
   ],
   "source": [
    "\n",
    "a = [\"A\", \"B\", \"C\"]\n",
    "\n",
    "# for item in a:\n",
    "#     print(item)\n",
    "    \n",
    "# for item in range( len(a) ):\n",
    "#     print(item, a[item])\n",
    "    \n",
    "for index, item in enumerate(a):\n",
    "     print(index, item)"
   ]
  },
  {
   "cell_type": "code",
   "execution_count": 47,
   "id": "08106088",
   "metadata": {},
   "outputs": [
    {
     "data": {
      "text/plain": [
       "<BarContainer object of 24 artists>"
      ]
     },
     "execution_count": 47,
     "metadata": {},
     "output_type": "execute_result"
    },
    {
     "data": {
      "image/png": "[encoded data removed]",
      "text/plain": [
       "<Figure size 432x288 with 1 Axes>"
      ]
     },
     "metadata": {
      "needs_background": "light"
     },
     "output_type": "display_data"
    }
   ],
   "source": [
    "list(series.index)\n",
    "\n",
    "newl = []\n",
    "for index, item in enumerate(series.index):\n",
    "     newl.append(item[0] + str(index + 1))\n",
    "\n",
    "# for index in range( len(series)):\n",
    "#      newl.append(series.index[index][0] + str(index+1))\n",
    "    \n",
    "newl\n",
    "plt.bar(newl, series)"
   ]
  },
  {
   "cell_type": "code",
   "execution_count": null,
   "id": "78057dde",
   "metadata": {},
   "outputs": [],
   "source": []
  },
  {
   "cell_type": "code",
   "execution_count": null,
   "id": "37e732b7",
   "metadata": {
    "scrolled": true
   },
   "outputs": [],
   "source": [
    "\n",
    "# num_list = []\n",
    "# num_list2 = []\n",
    "\n",
    "# for num in range(1, 24):\n",
    "#     #print(num)\n",
    "#     num_list.append(num)   \n",
    "#     num_list2.append(num*2)\n",
    "    \n",
    "# df = pd.DataFrame()\n",
    "# df[\"IDs\"] = num_list\n",
    "# df[\"IDs x 2\"] = num_list2\n",
    "# df[\"Ids x 10\"] = range(1 * 10, 24 * 10, 10)\n",
    "# df\n",
    "# print(num_list)"
   ]
  },
  {
   "cell_type": "code",
   "execution_count": 31,
   "id": "2a831f2b",
   "metadata": {},
   "outputs": [
    {
     "name": "stdout",
     "output_type": "stream",
     "text": [
      "1AM\n",
      "2AM\n",
      "3AM\n",
      "4AM\n",
      "5AM\n",
      "6AM\n",
      "7AM\n",
      "8AM\n",
      "9AM\n",
      "10AM\n",
      "11AM\n",
      "12AM\n",
      "1PM\n",
      "2PM\n",
      "3PM\n",
      "4PM\n",
      "5PM\n",
      "6PM\n",
      "7PM\n",
      "8PM\n",
      "9PM\n",
      "10PM\n",
      "11PM\n"
     ]
    },
    {
     "ename": "ValueError",
     "evalue": "Length of values (23) does not match length of index (621)",
     "output_type": "error",
     "traceback": [
      "\u001b[0;31m---------------------------------------------------------------------------\u001b[0m",
      "\u001b[0;31mValueError\u001b[0m                                Traceback (most recent call last)",
      "\u001b[0;32m/var/folders/qt/z1139kj16rq91qs03f19sz2c0000gn/T/ipykernel_72844/4076184460.py\u001b[0m in \u001b[0;36m<module>\u001b[0;34m\u001b[0m\n\u001b[1;32m     14\u001b[0m \u001b[0;34m\u001b[0m\u001b[0m\n\u001b[1;32m     15\u001b[0m \u001b[0mam_list\u001b[0m\u001b[0;34m\u001b[0m\u001b[0;34m\u001b[0m\u001b[0m\n\u001b[0;32m---> 16\u001b[0;31m \u001b[0mdf\u001b[0m\u001b[0;34m[\u001b[0m\u001b[0;34m\"Time\"\u001b[0m\u001b[0;34m]\u001b[0m \u001b[0;34m=\u001b[0m \u001b[0mam_list\u001b[0m\u001b[0;34m\u001b[0m\u001b[0;34m\u001b[0m\u001b[0m\n\u001b[0m\u001b[1;32m     17\u001b[0m \u001b[0mdf\u001b[0m\u001b[0;34m\u001b[0m\u001b[0;34m\u001b[0m\u001b[0m\n\u001b[1;32m     18\u001b[0m \u001b[0;34m\u001b[0m\u001b[0m\n",
      "\u001b[0;32m~/opt/anaconda3/lib/python3.9/site-packages/pandas/core/frame.py\u001b[0m in \u001b[0;36m__setitem__\u001b[0;34m(self, key, value)\u001b[0m\n\u001b[1;32m   3610\u001b[0m         \u001b[0;32melse\u001b[0m\u001b[0;34m:\u001b[0m\u001b[0;34m\u001b[0m\u001b[0;34m\u001b[0m\u001b[0m\n\u001b[1;32m   3611\u001b[0m             \u001b[0;31m# set column\u001b[0m\u001b[0;34m\u001b[0m\u001b[0;34m\u001b[0m\u001b[0m\n\u001b[0;32m-> 3612\u001b[0;31m             \u001b[0mself\u001b[0m\u001b[0;34m.\u001b[0m\u001b[0m_set_item\u001b[0m\u001b[0;34m(\u001b[0m\u001b[0mkey\u001b[0m\u001b[0;34m,\u001b[0m \u001b[0mvalue\u001b[0m\u001b[0;34m)\u001b[0m\u001b[0;34m\u001b[0m\u001b[0;34m\u001b[0m\u001b[0m\n\u001b[0m\u001b[1;32m   3613\u001b[0m \u001b[0;34m\u001b[0m\u001b[0m\n\u001b[1;32m   3614\u001b[0m     \u001b[0;32mdef\u001b[0m \u001b[0m_setitem_slice\u001b[0m\u001b[0;34m(\u001b[0m\u001b[0mself\u001b[0m\u001b[0;34m,\u001b[0m \u001b[0mkey\u001b[0m\u001b[0;34m:\u001b[0m \u001b[0mslice\u001b[0m\u001b[0;34m,\u001b[0m \u001b[0mvalue\u001b[0m\u001b[0;34m)\u001b[0m\u001b[0;34m:\u001b[0m\u001b[0;34m\u001b[0m\u001b[0;34m\u001b[0m\u001b[0m\n",
      "\u001b[0;32m~/opt/anaconda3/lib/python3.9/site-packages/pandas/core/frame.py\u001b[0m in \u001b[0;36m_set_item\u001b[0;34m(self, key, value)\u001b[0m\n\u001b[1;32m   3782\u001b[0m         \u001b[0mensure\u001b[0m \u001b[0mhomogeneity\u001b[0m\u001b[0;34m.\u001b[0m\u001b[0;34m\u001b[0m\u001b[0;34m\u001b[0m\u001b[0m\n\u001b[1;32m   3783\u001b[0m         \"\"\"\n\u001b[0;32m-> 3784\u001b[0;31m         \u001b[0mvalue\u001b[0m \u001b[0;34m=\u001b[0m \u001b[0mself\u001b[0m\u001b[0;34m.\u001b[0m\u001b[0m_sanitize_column\u001b[0m\u001b[0;34m(\u001b[0m\u001b[0mvalue\u001b[0m\u001b[0;34m)\u001b[0m\u001b[0;34m\u001b[0m\u001b[0;34m\u001b[0m\u001b[0m\n\u001b[0m\u001b[1;32m   3785\u001b[0m \u001b[0;34m\u001b[0m\u001b[0m\n\u001b[1;32m   3786\u001b[0m         if (\n",
      "\u001b[0;32m~/opt/anaconda3/lib/python3.9/site-packages/pandas/core/frame.py\u001b[0m in \u001b[0;36m_sanitize_column\u001b[0;34m(self, value)\u001b[0m\n\u001b[1;32m   4507\u001b[0m \u001b[0;34m\u001b[0m\u001b[0m\n\u001b[1;32m   4508\u001b[0m         \u001b[0;32mif\u001b[0m \u001b[0mis_list_like\u001b[0m\u001b[0;34m(\u001b[0m\u001b[0mvalue\u001b[0m\u001b[0;34m)\u001b[0m\u001b[0;34m:\u001b[0m\u001b[0;34m\u001b[0m\u001b[0;34m\u001b[0m\u001b[0m\n\u001b[0;32m-> 4509\u001b[0;31m             \u001b[0mcom\u001b[0m\u001b[0;34m.\u001b[0m\u001b[0mrequire_length_match\u001b[0m\u001b[0;34m(\u001b[0m\u001b[0mvalue\u001b[0m\u001b[0;34m,\u001b[0m \u001b[0mself\u001b[0m\u001b[0;34m.\u001b[0m\u001b[0mindex\u001b[0m\u001b[0;34m)\u001b[0m\u001b[0;34m\u001b[0m\u001b[0;34m\u001b[0m\u001b[0m\n\u001b[0m\u001b[1;32m   4510\u001b[0m         \u001b[0;32mreturn\u001b[0m \u001b[0msanitize_array\u001b[0m\u001b[0;34m(\u001b[0m\u001b[0mvalue\u001b[0m\u001b[0;34m,\u001b[0m \u001b[0mself\u001b[0m\u001b[0;34m.\u001b[0m\u001b[0mindex\u001b[0m\u001b[0;34m,\u001b[0m \u001b[0mcopy\u001b[0m\u001b[0;34m=\u001b[0m\u001b[0;32mTrue\u001b[0m\u001b[0;34m,\u001b[0m \u001b[0mallow_2d\u001b[0m\u001b[0;34m=\u001b[0m\u001b[0;32mTrue\u001b[0m\u001b[0;34m)\u001b[0m\u001b[0;34m\u001b[0m\u001b[0;34m\u001b[0m\u001b[0m\n\u001b[1;32m   4511\u001b[0m \u001b[0;34m\u001b[0m\u001b[0m\n",
      "\u001b[0;32m~/opt/anaconda3/lib/python3.9/site-packages/pandas/core/common.py\u001b[0m in \u001b[0;36mrequire_length_match\u001b[0;34m(data, index)\u001b[0m\n\u001b[1;32m    529\u001b[0m     \"\"\"\n\u001b[1;32m    530\u001b[0m     \u001b[0;32mif\u001b[0m \u001b[0mlen\u001b[0m\u001b[0;34m(\u001b[0m\u001b[0mdata\u001b[0m\u001b[0;34m)\u001b[0m \u001b[0;34m!=\u001b[0m \u001b[0mlen\u001b[0m\u001b[0;34m(\u001b[0m\u001b[0mindex\u001b[0m\u001b[0;34m)\u001b[0m\u001b[0;34m:\u001b[0m\u001b[0;34m\u001b[0m\u001b[0;34m\u001b[0m\u001b[0m\n\u001b[0;32m--> 531\u001b[0;31m         raise ValueError(\n\u001b[0m\u001b[1;32m    532\u001b[0m             \u001b[0;34m\"Length of values \"\u001b[0m\u001b[0;34m\u001b[0m\u001b[0;34m\u001b[0m\u001b[0m\n\u001b[1;32m    533\u001b[0m             \u001b[0;34mf\"({len(data)}) \"\u001b[0m\u001b[0;34m\u001b[0m\u001b[0;34m\u001b[0m\u001b[0m\n",
      "\u001b[0;31mValueError\u001b[0m: Length of values (23) does not match length of index (621)"
     ]
    }
   ],
   "source": [
    "#[AM1, AM2, ... PM13... PM24]\n",
    "\n",
    "am_list = []\n",
    "\n",
    "for row in range(1, 13):\n",
    "    print(str(row) + \"AM\")\n",
    "    am_list.append(str(row) + \"AM\")\n",
    "    \n",
    "\n",
    "\n",
    "for row in range(1, 12):\n",
    "    print(str(row) + \"PM\")\n",
    "    am_list.append(str(row) + \"PM\")\n",
    "    \n",
    "am_list\n",
    "df[\"Time\"] = am_list\n",
    "df\n",
    "\n",
    "\n"
   ]
  },
  {
   "cell_type": "code",
   "execution_count": 36,
   "id": "3f61f2db",
   "metadata": {},
   "outputs": [
    {
     "data": {
      "text/plain": [
       "Index(['index', 'ID', 'DATE', 'TIME', 'ZIP', 'BATTALION', 'SHIFT',\n",
       "       'COUNCIL DISTRICT', 'STRUCTURE TYPE', 'BUILDING STORIES',\n",
       "       'CONSTRUCTION', 'CAUSE', 'TOTAL VALUE', 'STRUCTURE LOSS',\n",
       "       'CONTENTS LOSS', 'TOTAL SAVED', 'PERCENTAGE LOSS', 'SPRINKER SYSTEM',\n",
       "       'ALARM SYSTEM', 'ADDRESS', 'Lat', 'Lng', 'HOUR', 'AM/PM', 'MINUTE'],\n",
       "      dtype='object')"
      ]
     },
     "execution_count": 36,
     "metadata": {},
     "output_type": "execute_result"
    }
   ],
   "source": [
    "show = df.columns\n",
    "show"
   ]
  },
  {
   "cell_type": "code",
   "execution_count": 18,
   "id": "3c1bd6c9",
   "metadata": {},
   "outputs": [
    {
     "data": {
      "text/plain": [
       "<BarContainer object of 32 artists>"
      ]
     },
     "execution_count": 18,
     "metadata": {},
     "output_type": "execute_result"
    },
    {
     "data": {
      "image/png": "[encoded data removed]",
      "text/plain": [
       "<Figure size 1080x864 with 1 Axes>"
      ]
     },
     "metadata": {
      "needs_background": "light"
     },
     "output_type": "display_data"
    }
   ],
   "source": [
    "# For structure type v % Loss\n",
    "gk = df.groupby(\"STRUCTURE TYPE\").mean()\n",
    "plt.figure(figsize=(15, 12))\n",
    "plt.xticks(rotation=80)\n",
    "plt.bar(gk.index, gk[\"PERCENTAGE LOSS\"])\n",
    "#df.boxplot(\"PERCENTAGE LOSS\")\n",
    "#plt.boxplot(df[\"PERCENTAGE LOSS\"])"
   ]
  },
  {
   "cell_type": "code",
   "execution_count": 12,
   "id": "b93e79db",
   "metadata": {},
   "outputs": [
    {
     "ename": "KeyError",
     "evalue": "('AM/PM', 'HOUR')",
     "output_type": "error",
     "traceback": [
      "\u001b[0;31m---------------------------------------------------------------------------\u001b[0m",
      "\u001b[0;31mKeyError\u001b[0m                                  Traceback (most recent call last)",
      "\u001b[0;32m~/opt/anaconda3/lib/python3.9/site-packages/pandas/core/indexes/base.py\u001b[0m in \u001b[0;36mget_loc\u001b[0;34m(self, key, method, tolerance)\u001b[0m\n\u001b[1;32m   3360\u001b[0m             \u001b[0;32mtry\u001b[0m\u001b[0;34m:\u001b[0m\u001b[0;34m\u001b[0m\u001b[0;34m\u001b[0m\u001b[0m\n\u001b[0;32m-> 3361\u001b[0;31m                 \u001b[0;32mreturn\u001b[0m \u001b[0mself\u001b[0m\u001b[0;34m.\u001b[0m\u001b[0m_engine\u001b[0m\u001b[0;34m.\u001b[0m\u001b[0mget_loc\u001b[0m\u001b[0;34m(\u001b[0m\u001b[0mcasted_key\u001b[0m\u001b[0;34m)\u001b[0m\u001b[0;34m\u001b[0m\u001b[0;34m\u001b[0m\u001b[0m\n\u001b[0m\u001b[1;32m   3362\u001b[0m             \u001b[0;32mexcept\u001b[0m \u001b[0mKeyError\u001b[0m \u001b[0;32mas\u001b[0m \u001b[0merr\u001b[0m\u001b[0;34m:\u001b[0m\u001b[0;34m\u001b[0m\u001b[0;34m\u001b[0m\u001b[0m\n",
      "\u001b[0;32m~/opt/anaconda3/lib/python3.9/site-packages/pandas/_libs/index.pyx\u001b[0m in \u001b[0;36mpandas._libs.index.IndexEngine.get_loc\u001b[0;34m()\u001b[0m\n",
      "\u001b[0;32m~/opt/anaconda3/lib/python3.9/site-packages/pandas/_libs/index.pyx\u001b[0m in \u001b[0;36mpandas._libs.index.IndexEngine.get_loc\u001b[0;34m()\u001b[0m\n",
      "\u001b[0;32mpandas/_libs/hashtable_class_helper.pxi\u001b[0m in \u001b[0;36mpandas._libs.hashtable.PyObjectHashTable.get_item\u001b[0;34m()\u001b[0m\n",
      "\u001b[0;32mpandas/_libs/hashtable_class_helper.pxi\u001b[0m in \u001b[0;36mpandas._libs.hashtable.PyObjectHashTable.get_item\u001b[0;34m()\u001b[0m\n",
      "\u001b[0;31mKeyError\u001b[0m: ('AM/PM', 'HOUR')",
      "\nThe above exception was the direct cause of the following exception:\n",
      "\u001b[0;31mKeyError\u001b[0m                                  Traceback (most recent call last)",
      "\u001b[0;32m/var/folders/qt/z1139kj16rq91qs03f19sz2c0000gn/T/ipykernel_72844/3150700094.py\u001b[0m in \u001b[0;36m<module>\u001b[0;34m\u001b[0m\n\u001b[0;32m----> 1\u001b[0;31m \u001b[0mplt\u001b[0m\u001b[0;34m.\u001b[0m\u001b[0mscatter\u001b[0m\u001b[0;34m(\u001b[0m\u001b[0mdf_group\u001b[0m\u001b[0;34m[\u001b[0m\u001b[0;34m\"AM/PM\"\u001b[0m\u001b[0;34m,\u001b[0m\u001b[0;34m\"HOUR\"\u001b[0m\u001b[0;34m]\u001b[0m\u001b[0;34m,\u001b[0m \u001b[0mdf_group\u001b[0m\u001b[0;34m[\u001b[0m\u001b[0;34m\"PERCENTAGE LOSS\"\u001b[0m\u001b[0;34m]\u001b[0m\u001b[0;34m)\u001b[0m\u001b[0;34m\u001b[0m\u001b[0;34m\u001b[0m\u001b[0m\n\u001b[0m\u001b[1;32m      2\u001b[0m \u001b[0mplt\u001b[0m\u001b[0;34m.\u001b[0m\u001b[0mylabel\u001b[0m\u001b[0;34m(\u001b[0m\u001b[0;34m'Percent Loss'\u001b[0m\u001b[0;34m)\u001b[0m\u001b[0;34m\u001b[0m\u001b[0;34m\u001b[0m\u001b[0m\n\u001b[1;32m      3\u001b[0m \u001b[0mplt\u001b[0m\u001b[0;34m.\u001b[0m\u001b[0mxlabel\u001b[0m\u001b[0;34m(\u001b[0m\u001b[0;34m'LAT'\u001b[0m\u001b[0;34m)\u001b[0m\u001b[0;34m\u001b[0m\u001b[0;34m\u001b[0m\u001b[0m\n\u001b[1;32m      4\u001b[0m \u001b[0mplt\u001b[0m\u001b[0;34m.\u001b[0m\u001b[0mtitle\u001b[0m\u001b[0;34m(\u001b[0m\u001b[0;34m'LAT vs. Percent loss'\u001b[0m\u001b[0;34m)\u001b[0m\u001b[0;34m\u001b[0m\u001b[0;34m\u001b[0m\u001b[0m\n\u001b[1;32m      5\u001b[0m \u001b[0mplt\u001b[0m\u001b[0;34m.\u001b[0m\u001b[0mshow\u001b[0m\u001b[0;34m(\u001b[0m\u001b[0;34m)\u001b[0m\u001b[0;34m\u001b[0m\u001b[0;34m\u001b[0m\u001b[0m\n",
      "\u001b[0;32m~/opt/anaconda3/lib/python3.9/site-packages/pandas/core/frame.py\u001b[0m in \u001b[0;36m__getitem__\u001b[0;34m(self, key)\u001b[0m\n\u001b[1;32m   3456\u001b[0m             \u001b[0;32mif\u001b[0m \u001b[0mself\u001b[0m\u001b[0;34m.\u001b[0m\u001b[0mcolumns\u001b[0m\u001b[0;34m.\u001b[0m\u001b[0mnlevels\u001b[0m \u001b[0;34m>\u001b[0m \u001b[0;36m1\u001b[0m\u001b[0;34m:\u001b[0m\u001b[0;34m\u001b[0m\u001b[0;34m\u001b[0m\u001b[0m\n\u001b[1;32m   3457\u001b[0m                 \u001b[0;32mreturn\u001b[0m \u001b[0mself\u001b[0m\u001b[0;34m.\u001b[0m\u001b[0m_getitem_multilevel\u001b[0m\u001b[0;34m(\u001b[0m\u001b[0mkey\u001b[0m\u001b[0;34m)\u001b[0m\u001b[0;34m\u001b[0m\u001b[0;34m\u001b[0m\u001b[0m\n\u001b[0;32m-> 3458\u001b[0;31m             \u001b[0mindexer\u001b[0m \u001b[0;34m=\u001b[0m \u001b[0mself\u001b[0m\u001b[0;34m.\u001b[0m\u001b[0mcolumns\u001b[0m\u001b[0;34m.\u001b[0m\u001b[0mget_loc\u001b[0m\u001b[0;34m(\u001b[0m\u001b[0mkey\u001b[0m\u001b[0;34m)\u001b[0m\u001b[0;34m\u001b[0m\u001b[0;34m\u001b[0m\u001b[0m\n\u001b[0m\u001b[1;32m   3459\u001b[0m             \u001b[0;32mif\u001b[0m \u001b[0mis_integer\u001b[0m\u001b[0;34m(\u001b[0m\u001b[0mindexer\u001b[0m\u001b[0;34m)\u001b[0m\u001b[0;34m:\u001b[0m\u001b[0;34m\u001b[0m\u001b[0;34m\u001b[0m\u001b[0m\n\u001b[1;32m   3460\u001b[0m                 \u001b[0mindexer\u001b[0m \u001b[0;34m=\u001b[0m \u001b[0;34m[\u001b[0m\u001b[0mindexer\u001b[0m\u001b[0;34m]\u001b[0m\u001b[0;34m\u001b[0m\u001b[0;34m\u001b[0m\u001b[0m\n",
      "\u001b[0;32m~/opt/anaconda3/lib/python3.9/site-packages/pandas/core/indexes/base.py\u001b[0m in \u001b[0;36mget_loc\u001b[0;34m(self, key, method, tolerance)\u001b[0m\n\u001b[1;32m   3361\u001b[0m                 \u001b[0;32mreturn\u001b[0m \u001b[0mself\u001b[0m\u001b[0;34m.\u001b[0m\u001b[0m_engine\u001b[0m\u001b[0;34m.\u001b[0m\u001b[0mget_loc\u001b[0m\u001b[0;34m(\u001b[0m\u001b[0mcasted_key\u001b[0m\u001b[0;34m)\u001b[0m\u001b[0;34m\u001b[0m\u001b[0;34m\u001b[0m\u001b[0m\n\u001b[1;32m   3362\u001b[0m             \u001b[0;32mexcept\u001b[0m \u001b[0mKeyError\u001b[0m \u001b[0;32mas\u001b[0m \u001b[0merr\u001b[0m\u001b[0;34m:\u001b[0m\u001b[0;34m\u001b[0m\u001b[0;34m\u001b[0m\u001b[0m\n\u001b[0;32m-> 3363\u001b[0;31m                 \u001b[0;32mraise\u001b[0m \u001b[0mKeyError\u001b[0m\u001b[0;34m(\u001b[0m\u001b[0mkey\u001b[0m\u001b[0;34m)\u001b[0m \u001b[0;32mfrom\u001b[0m \u001b[0merr\u001b[0m\u001b[0;34m\u001b[0m\u001b[0;34m\u001b[0m\u001b[0m\n\u001b[0m\u001b[1;32m   3364\u001b[0m \u001b[0;34m\u001b[0m\u001b[0m\n\u001b[1;32m   3365\u001b[0m         \u001b[0;32mif\u001b[0m \u001b[0mis_scalar\u001b[0m\u001b[0;34m(\u001b[0m\u001b[0mkey\u001b[0m\u001b[0;34m)\u001b[0m \u001b[0;32mand\u001b[0m \u001b[0misna\u001b[0m\u001b[0;34m(\u001b[0m\u001b[0mkey\u001b[0m\u001b[0;34m)\u001b[0m \u001b[0;32mand\u001b[0m \u001b[0;32mnot\u001b[0m \u001b[0mself\u001b[0m\u001b[0;34m.\u001b[0m\u001b[0mhasnans\u001b[0m\u001b[0;34m:\u001b[0m\u001b[0;34m\u001b[0m\u001b[0;34m\u001b[0m\u001b[0m\n",
      "\u001b[0;31mKeyError\u001b[0m: ('AM/PM', 'HOUR')"
     ]
    }
   ],
   "source": [
    "plt.scatter(df_group[\"AM/PM\",\"HOUR\"], df_group[\"PERCENTAGE LOSS\"]) \n",
    "plt.ylabel('Percent Loss')\n",
    "plt.xlabel('LAT')\n",
    "plt.title('LAT vs. Percent loss')\n",
    "plt.show()\n"
   ]
  },
  {
   "cell_type": "code",
   "execution_count": 16,
   "id": "75342e9e",
   "metadata": {},
   "outputs": [
    {
     "data": {
      "text/plain": [
       "28.976"
      ]
     },
     "execution_count": 16,
     "metadata": {},
     "output_type": "execute_result"
    }
   ],
   "source": [
    "max(df_group[\"PERCENTAGE LOSS\"])"
   ]
  },
  {
   "cell_type": "code",
   "execution_count": 17,
   "id": "4f60a183",
   "metadata": {},
   "outputs": [
    {
     "ename": "NameError",
     "evalue": "name 'time_percentage_loss_groupby' is not defined",
     "output_type": "error",
     "traceback": [
      "\u001b[0;31m---------------------------------------------------------------------------\u001b[0m",
      "\u001b[0;31mNameError\u001b[0m                                 Traceback (most recent call last)",
      "\u001b[0;32m/var/folders/qt/z1139kj16rq91qs03f19sz2c0000gn/T/ipykernel_72844/3029856191.py\u001b[0m in \u001b[0;36m<module>\u001b[0;34m\u001b[0m\n\u001b[0;32m----> 1\u001b[0;31m \u001b[0mfrequency_plot\u001b[0m \u001b[0;34m=\u001b[0m \u001b[0msns\u001b[0m\u001b[0;34m.\u001b[0m\u001b[0mcountplot\u001b[0m\u001b[0;34m(\u001b[0m\u001b[0mx\u001b[0m\u001b[0;34m=\u001b[0m\u001b[0;34m\"PERCENTAGE LOSS\"\u001b[0m\u001b[0;34m,\u001b[0m\u001b[0mdata\u001b[0m\u001b[0;34m=\u001b[0m\u001b[0mtime_percentage_loss_groupby\u001b[0m\u001b[0;34m)\u001b[0m\u001b[0;34m\u001b[0m\u001b[0;34m\u001b[0m\u001b[0m\n\u001b[0m",
      "\u001b[0;31mNameError\u001b[0m: name 'time_percentage_loss_groupby' is not defined"
     ]
    }
   ],
   "source": [
    "frequency_plot = sns.countplot(x=\"PERCENTAGE LOSS\",data=time_percentage_loss_groupby)"
   ]
  },
  {
   "cell_type": "code",
   "execution_count": 14,
   "id": "0472f93f",
   "metadata": {},
   "outputs": [
    {
     "name": "stdout",
     "output_type": "stream",
     "text": [
      "[0.000e+00 1.000e-02 2.000e-02 3.000e-02 4.000e-02 5.000e-02 6.000e-02\n",
      " 7.000e-02 8.000e-02 9.000e-02 1.000e-01 1.100e-01 1.200e-01 1.300e-01\n",
      " 1.400e-01 1.500e-01 1.600e-01 1.700e-01 1.800e-01 1.900e-01 2.000e-01\n",
      " 2.100e-01 2.200e-01 2.300e-01 2.400e-01 2.500e-01 2.600e-01 2.700e-01\n",
      " 2.800e-01 2.900e-01 3.000e-01 3.200e-01 3.300e-01 3.400e-01 3.500e-01\n",
      " 3.600e-01 3.800e-01 3.900e-01 4.000e-01 4.100e-01 4.200e-01 4.400e-01\n",
      " 4.600e-01 4.700e-01 4.800e-01 4.900e-01 5.000e-01 5.100e-01 5.200e-01\n",
      " 5.300e-01 5.400e-01 5.600e-01 5.700e-01 5.800e-01 5.900e-01 6.000e-01\n",
      " 6.500e-01 6.700e-01 7.000e-01 7.100e-01 7.400e-01 7.500e-01 7.800e-01\n",
      " 7.900e-01 8.300e-01 8.400e-01 8.500e-01 8.600e-01 8.900e-01 9.200e-01\n",
      " 9.700e-01 1.000e+00 1.010e+00 1.020e+00 1.030e+00 1.050e+00 1.070e+00\n",
      " 1.080e+00 1.090e+00 1.110e+00 1.140e+00 1.170e+00 1.190e+00 1.280e+00\n",
      " 1.320e+00 1.330e+00 1.400e+00 1.440e+00 1.470e+00 1.480e+00 1.490e+00\n",
      " 1.500e+00 1.520e+00 1.530e+00 1.560e+00 1.580e+00 1.590e+00 1.620e+00\n",
      " 1.750e+00 1.790e+00 1.820e+00 1.850e+00 1.870e+00 1.920e+00 1.960e+00\n",
      " 1.980e+00 1.990e+00 2.000e+00 2.120e+00 2.160e+00 2.170e+00 2.180e+00\n",
      " 2.190e+00 2.280e+00 2.350e+00 2.390e+00 2.440e+00 2.450e+00 2.500e+00\n",
      " 2.550e+00 2.560e+00 2.650e+00 2.760e+00 2.970e+00 3.010e+00 3.030e+00\n",
      " 3.040e+00 3.060e+00 3.110e+00 3.250e+00 3.260e+00 3.290e+00 3.320e+00\n",
      " 3.330e+00 3.470e+00 3.640e+00 3.700e+00 3.750e+00 3.760e+00 3.790e+00\n",
      " 3.900e+00 3.910e+00 3.930e+00 3.970e+00 4.000e+00 4.070e+00 4.110e+00\n",
      " 4.120e+00 4.130e+00 4.140e+00 4.170e+00 4.350e+00 4.610e+00 4.650e+00\n",
      " 4.680e+00 4.830e+00 5.000e+00 5.080e+00 5.190e+00 5.210e+00 5.330e+00\n",
      " 5.420e+00 5.630e+00 5.710e+00 5.930e+00 6.160e+00 6.210e+00 6.250e+00\n",
      " 6.280e+00 6.330e+00 6.390e+00 6.540e+00 6.690e+00 6.700e+00 6.810e+00\n",
      " 6.860e+00 7.330e+00 7.410e+00 7.500e+00 7.570e+00 7.690e+00 7.960e+00\n",
      " 8.190e+00 8.320e+00 8.340e+00 8.350e+00 8.480e+00 8.540e+00 8.590e+00\n",
      " 8.600e+00 8.740e+00 8.820e+00 8.890e+00 9.080e+00 9.260e+00 9.280e+00\n",
      " 9.350e+00 9.470e+00 9.570e+00 9.760e+00 9.970e+00 1.000e+01 1.013e+01\n",
      " 1.034e+01 1.042e+01 1.045e+01 1.048e+01 1.069e+01 1.087e+01 1.104e+01\n",
      " 1.122e+01 1.139e+01 1.158e+01 1.178e+01 1.180e+01 1.190e+01 1.200e+01\n",
      " 1.211e+01 1.240e+01 1.278e+01 1.279e+01 1.290e+01 1.314e+01 1.316e+01\n",
      " 1.333e+01 1.341e+01 1.357e+01 1.378e+01 1.439e+01 1.467e+01 1.500e+01\n",
      " 1.515e+01 1.533e+01 1.559e+01 1.573e+01 1.600e+01 1.656e+01 1.685e+01\n",
      " 1.718e+01 1.728e+01 1.750e+01 1.788e+01 1.789e+01 1.815e+01 1.832e+01\n",
      " 1.882e+01 1.951e+01 1.954e+01 1.995e+01 2.000e+01 2.035e+01 2.068e+01\n",
      " 2.069e+01 2.079e+01 2.086e+01 2.143e+01 2.216e+01 2.246e+01 2.254e+01\n",
      " 2.437e+01 2.438e+01 2.449e+01 2.462e+01 2.500e+01 2.637e+01 2.703e+01\n",
      " 2.712e+01 2.749e+01 2.754e+01 2.917e+01 2.921e+01 2.952e+01 2.968e+01\n",
      " 3.042e+01 3.043e+01 3.077e+01 3.125e+01 3.145e+01 3.187e+01 3.193e+01\n",
      " 3.216e+01 3.247e+01 3.333e+01 3.457e+01 3.478e+01 3.488e+01 3.517e+01\n",
      " 3.571e+01 3.649e+01 3.697e+01 3.703e+01 3.778e+01 3.782e+01 3.800e+01\n",
      " 3.877e+01 3.884e+01 3.938e+01 3.952e+01 3.966e+01 3.970e+01 4.000e+01\n",
      " 4.097e+01 4.143e+01 4.167e+01 4.183e+01 4.187e+01 4.194e+01 4.195e+01\n",
      " 4.237e+01 4.256e+01 4.286e+01 4.310e+01 4.362e+01 4.386e+01 4.394e+01\n",
      " 4.450e+01 4.525e+01 4.545e+01 4.564e+01 4.588e+01 4.667e+01 4.682e+01\n",
      " 4.802e+01 4.810e+01 4.872e+01 4.884e+01 5.000e+01 5.072e+01 5.114e+01\n",
      " 5.130e+01 5.172e+01 5.174e+01 5.177e+01 5.182e+01 5.190e+01 5.246e+01\n",
      " 5.256e+01 5.293e+01 5.307e+01 5.810e+01 5.820e+01 6.195e+01 6.202e+01\n",
      " 6.221e+01 6.250e+01 6.291e+01 6.400e+01 6.548e+01 6.579e+01 6.667e+01\n",
      " 6.725e+01 6.905e+01 6.923e+01 6.947e+01 7.296e+01 7.496e+01 7.500e+01\n",
      " 7.569e+01 7.805e+01 8.250e+01 8.387e+01 8.674e+01 9.234e+01 9.458e+01]\n"
     ]
    },
    {
     "ename": "ValueError",
     "evalue": "shape mismatch: objects cannot be broadcast to a single shape",
     "output_type": "error",
     "traceback": [
      "\u001b[0;31m---------------------------------------------------------------------------\u001b[0m",
      "\u001b[0;31mValueError\u001b[0m                                Traceback (most recent call last)",
      "\u001b[0;32m/var/folders/qt/z1139kj16rq91qs03f19sz2c0000gn/T/ipykernel_72844/3375050569.py\u001b[0m in \u001b[0;36m<module>\u001b[0;34m\u001b[0m\n\u001b[1;32m      7\u001b[0m \u001b[0mx_axis\u001b[0m\u001b[0;34m=\u001b[0m\u001b[0mdf_group\u001b[0m\u001b[0;34m\u001b[0m\u001b[0;34m\u001b[0m\u001b[0m\n\u001b[1;32m      8\u001b[0m \u001b[0my_axis\u001b[0m\u001b[0;34m=\u001b[0m \u001b[0mbuilding_story\u001b[0m\u001b[0;34m\u001b[0m\u001b[0;34m\u001b[0m\u001b[0m\n\u001b[0;32m----> 9\u001b[0;31m \u001b[0mplt\u001b[0m\u001b[0;34m.\u001b[0m\u001b[0mbar\u001b[0m\u001b[0;34m(\u001b[0m\u001b[0mx_axis\u001b[0m\u001b[0;34m,\u001b[0m\u001b[0my_axis\u001b[0m\u001b[0;34m,\u001b[0m\u001b[0mcolor\u001b[0m\u001b[0;34m=\u001b[0m\u001b[0;34m[\u001b[0m\u001b[0;34m'orange'\u001b[0m\u001b[0;34m]\u001b[0m\u001b[0;34m)\u001b[0m\u001b[0;34m\u001b[0m\u001b[0;34m\u001b[0m\u001b[0m\n\u001b[0m\u001b[1;32m     10\u001b[0m \u001b[0;34m\u001b[0m\u001b[0m\n\u001b[1;32m     11\u001b[0m \u001b[0mplt\u001b[0m\u001b[0;34m.\u001b[0m\u001b[0mxlabel\u001b[0m\u001b[0;34m(\u001b[0m\u001b[0;34m\"Building Stories\"\u001b[0m\u001b[0;34m)\u001b[0m\u001b[0;34m\u001b[0m\u001b[0;34m\u001b[0m\u001b[0m\n",
      "\u001b[0;32m~/opt/anaconda3/lib/python3.9/site-packages/matplotlib/pyplot.py\u001b[0m in \u001b[0;36mbar\u001b[0;34m(x, height, width, bottom, align, data, **kwargs)\u001b[0m\n\u001b[1;32m   2649\u001b[0m         \u001b[0mx\u001b[0m\u001b[0;34m,\u001b[0m \u001b[0mheight\u001b[0m\u001b[0;34m,\u001b[0m \u001b[0mwidth\u001b[0m\u001b[0;34m=\u001b[0m\u001b[0;36m0.8\u001b[0m\u001b[0;34m,\u001b[0m \u001b[0mbottom\u001b[0m\u001b[0;34m=\u001b[0m\u001b[0;32mNone\u001b[0m\u001b[0;34m,\u001b[0m \u001b[0;34m*\u001b[0m\u001b[0;34m,\u001b[0m \u001b[0malign\u001b[0m\u001b[0;34m=\u001b[0m\u001b[0;34m'center'\u001b[0m\u001b[0;34m,\u001b[0m\u001b[0;34m\u001b[0m\u001b[0;34m\u001b[0m\u001b[0m\n\u001b[1;32m   2650\u001b[0m         data=None, **kwargs):\n\u001b[0;32m-> 2651\u001b[0;31m     return gca().bar(\n\u001b[0m\u001b[1;32m   2652\u001b[0m         \u001b[0mx\u001b[0m\u001b[0;34m,\u001b[0m \u001b[0mheight\u001b[0m\u001b[0;34m,\u001b[0m \u001b[0mwidth\u001b[0m\u001b[0;34m=\u001b[0m\u001b[0mwidth\u001b[0m\u001b[0;34m,\u001b[0m \u001b[0mbottom\u001b[0m\u001b[0;34m=\u001b[0m\u001b[0mbottom\u001b[0m\u001b[0;34m,\u001b[0m \u001b[0malign\u001b[0m\u001b[0;34m=\u001b[0m\u001b[0malign\u001b[0m\u001b[0;34m,\u001b[0m\u001b[0;34m\u001b[0m\u001b[0;34m\u001b[0m\u001b[0m\n\u001b[1;32m   2653\u001b[0m         **({\"data\": data} if data is not None else {}), **kwargs)\n",
      "\u001b[0;32m~/opt/anaconda3/lib/python3.9/site-packages/matplotlib/__init__.py\u001b[0m in \u001b[0;36minner\u001b[0;34m(ax, data, *args, **kwargs)\u001b[0m\n\u001b[1;32m   1359\u001b[0m     \u001b[0;32mdef\u001b[0m \u001b[0minner\u001b[0m\u001b[0;34m(\u001b[0m\u001b[0max\u001b[0m\u001b[0;34m,\u001b[0m \u001b[0;34m*\u001b[0m\u001b[0margs\u001b[0m\u001b[0;34m,\u001b[0m \u001b[0mdata\u001b[0m\u001b[0;34m=\u001b[0m\u001b[0;32mNone\u001b[0m\u001b[0;34m,\u001b[0m \u001b[0;34m**\u001b[0m\u001b[0mkwargs\u001b[0m\u001b[0;34m)\u001b[0m\u001b[0;34m:\u001b[0m\u001b[0;34m\u001b[0m\u001b[0;34m\u001b[0m\u001b[0m\n\u001b[1;32m   1360\u001b[0m         \u001b[0;32mif\u001b[0m \u001b[0mdata\u001b[0m \u001b[0;32mis\u001b[0m \u001b[0;32mNone\u001b[0m\u001b[0;34m:\u001b[0m\u001b[0;34m\u001b[0m\u001b[0;34m\u001b[0m\u001b[0m\n\u001b[0;32m-> 1361\u001b[0;31m             \u001b[0;32mreturn\u001b[0m \u001b[0mfunc\u001b[0m\u001b[0;34m(\u001b[0m\u001b[0max\u001b[0m\u001b[0;34m,\u001b[0m \u001b[0;34m*\u001b[0m\u001b[0mmap\u001b[0m\u001b[0;34m(\u001b[0m\u001b[0msanitize_sequence\u001b[0m\u001b[0;34m,\u001b[0m \u001b[0margs\u001b[0m\u001b[0;34m)\u001b[0m\u001b[0;34m,\u001b[0m \u001b[0;34m**\u001b[0m\u001b[0mkwargs\u001b[0m\u001b[0;34m)\u001b[0m\u001b[0;34m\u001b[0m\u001b[0;34m\u001b[0m\u001b[0m\n\u001b[0m\u001b[1;32m   1362\u001b[0m \u001b[0;34m\u001b[0m\u001b[0m\n\u001b[1;32m   1363\u001b[0m         \u001b[0mbound\u001b[0m \u001b[0;34m=\u001b[0m \u001b[0mnew_sig\u001b[0m\u001b[0;34m.\u001b[0m\u001b[0mbind\u001b[0m\u001b[0;34m(\u001b[0m\u001b[0max\u001b[0m\u001b[0;34m,\u001b[0m \u001b[0;34m*\u001b[0m\u001b[0margs\u001b[0m\u001b[0;34m,\u001b[0m \u001b[0;34m**\u001b[0m\u001b[0mkwargs\u001b[0m\u001b[0;34m)\u001b[0m\u001b[0;34m\u001b[0m\u001b[0;34m\u001b[0m\u001b[0m\n",
      "\u001b[0;32m~/opt/anaconda3/lib/python3.9/site-packages/matplotlib/axes/_axes.py\u001b[0m in \u001b[0;36mbar\u001b[0;34m(self, x, height, width, bottom, align, **kwargs)\u001b[0m\n\u001b[1;32m   2302\u001b[0m                 \u001b[0myerr\u001b[0m \u001b[0;34m=\u001b[0m \u001b[0mself\u001b[0m\u001b[0;34m.\u001b[0m\u001b[0m_convert_dx\u001b[0m\u001b[0;34m(\u001b[0m\u001b[0myerr\u001b[0m\u001b[0;34m,\u001b[0m \u001b[0my0\u001b[0m\u001b[0;34m,\u001b[0m \u001b[0my\u001b[0m\u001b[0;34m,\u001b[0m \u001b[0mself\u001b[0m\u001b[0;34m.\u001b[0m\u001b[0mconvert_yunits\u001b[0m\u001b[0;34m)\u001b[0m\u001b[0;34m\u001b[0m\u001b[0;34m\u001b[0m\u001b[0m\n\u001b[1;32m   2303\u001b[0m \u001b[0;34m\u001b[0m\u001b[0m\n\u001b[0;32m-> 2304\u001b[0;31m         x, height, width, y, linewidth, hatch = np.broadcast_arrays(\n\u001b[0m\u001b[1;32m   2305\u001b[0m             \u001b[0;31m# Make args iterable too.\u001b[0m\u001b[0;34m\u001b[0m\u001b[0;34m\u001b[0m\u001b[0m\n\u001b[1;32m   2306\u001b[0m             np.atleast_1d(x), height, width, y, linewidth, hatch)\n",
      "\u001b[0;32m<__array_function__ internals>\u001b[0m in \u001b[0;36mbroadcast_arrays\u001b[0;34m(*args, **kwargs)\u001b[0m\n",
      "\u001b[0;32m~/opt/anaconda3/lib/python3.9/site-packages/numpy/lib/stride_tricks.py\u001b[0m in \u001b[0;36mbroadcast_arrays\u001b[0;34m(subok, *args)\u001b[0m\n\u001b[1;32m    536\u001b[0m     \u001b[0margs\u001b[0m \u001b[0;34m=\u001b[0m \u001b[0;34m[\u001b[0m\u001b[0mnp\u001b[0m\u001b[0;34m.\u001b[0m\u001b[0marray\u001b[0m\u001b[0;34m(\u001b[0m\u001b[0m_m\u001b[0m\u001b[0;34m,\u001b[0m \u001b[0mcopy\u001b[0m\u001b[0;34m=\u001b[0m\u001b[0;32mFalse\u001b[0m\u001b[0;34m,\u001b[0m \u001b[0msubok\u001b[0m\u001b[0;34m=\u001b[0m\u001b[0msubok\u001b[0m\u001b[0;34m)\u001b[0m \u001b[0;32mfor\u001b[0m \u001b[0m_m\u001b[0m \u001b[0;32min\u001b[0m \u001b[0margs\u001b[0m\u001b[0;34m]\u001b[0m\u001b[0;34m\u001b[0m\u001b[0;34m\u001b[0m\u001b[0m\n\u001b[1;32m    537\u001b[0m \u001b[0;34m\u001b[0m\u001b[0m\n\u001b[0;32m--> 538\u001b[0;31m     \u001b[0mshape\u001b[0m \u001b[0;34m=\u001b[0m \u001b[0m_broadcast_shape\u001b[0m\u001b[0;34m(\u001b[0m\u001b[0;34m*\u001b[0m\u001b[0margs\u001b[0m\u001b[0;34m)\u001b[0m\u001b[0;34m\u001b[0m\u001b[0;34m\u001b[0m\u001b[0m\n\u001b[0m\u001b[1;32m    539\u001b[0m \u001b[0;34m\u001b[0m\u001b[0m\n\u001b[1;32m    540\u001b[0m     \u001b[0;32mif\u001b[0m \u001b[0mall\u001b[0m\u001b[0;34m(\u001b[0m\u001b[0marray\u001b[0m\u001b[0;34m.\u001b[0m\u001b[0mshape\u001b[0m \u001b[0;34m==\u001b[0m \u001b[0mshape\u001b[0m \u001b[0;32mfor\u001b[0m \u001b[0marray\u001b[0m \u001b[0;32min\u001b[0m \u001b[0margs\u001b[0m\u001b[0;34m)\u001b[0m\u001b[0;34m:\u001b[0m\u001b[0;34m\u001b[0m\u001b[0;34m\u001b[0m\u001b[0m\n",
      "\u001b[0;32m~/opt/anaconda3/lib/python3.9/site-packages/numpy/lib/stride_tricks.py\u001b[0m in \u001b[0;36m_broadcast_shape\u001b[0;34m(*args)\u001b[0m\n\u001b[1;32m    418\u001b[0m     \u001b[0;31m# use the old-iterator because np.nditer does not handle size 0 arrays\u001b[0m\u001b[0;34m\u001b[0m\u001b[0;34m\u001b[0m\u001b[0m\n\u001b[1;32m    419\u001b[0m     \u001b[0;31m# consistently\u001b[0m\u001b[0;34m\u001b[0m\u001b[0;34m\u001b[0m\u001b[0m\n\u001b[0;32m--> 420\u001b[0;31m     \u001b[0mb\u001b[0m \u001b[0;34m=\u001b[0m \u001b[0mnp\u001b[0m\u001b[0;34m.\u001b[0m\u001b[0mbroadcast\u001b[0m\u001b[0;34m(\u001b[0m\u001b[0;34m*\u001b[0m\u001b[0margs\u001b[0m\u001b[0;34m[\u001b[0m\u001b[0;34m:\u001b[0m\u001b[0;36m32\u001b[0m\u001b[0;34m]\u001b[0m\u001b[0;34m)\u001b[0m\u001b[0;34m\u001b[0m\u001b[0;34m\u001b[0m\u001b[0m\n\u001b[0m\u001b[1;32m    421\u001b[0m     \u001b[0;31m# unfortunately, it cannot handle 32 or more arguments directly\u001b[0m\u001b[0;34m\u001b[0m\u001b[0;34m\u001b[0m\u001b[0m\n\u001b[1;32m    422\u001b[0m     \u001b[0;32mfor\u001b[0m \u001b[0mpos\u001b[0m \u001b[0;32min\u001b[0m \u001b[0mrange\u001b[0m\u001b[0;34m(\u001b[0m\u001b[0;36m32\u001b[0m\u001b[0;34m,\u001b[0m \u001b[0mlen\u001b[0m\u001b[0;34m(\u001b[0m\u001b[0margs\u001b[0m\u001b[0;34m)\u001b[0m\u001b[0;34m,\u001b[0m \u001b[0;36m31\u001b[0m\u001b[0;34m)\u001b[0m\u001b[0;34m:\u001b[0m\u001b[0;34m\u001b[0m\u001b[0;34m\u001b[0m\u001b[0m\n",
      "\u001b[0;31mValueError\u001b[0m: shape mismatch: objects cannot be broadcast to a single shape"
     ]
    },
    {
     "data": {
      "image/png": "[encoded data removed]",
      "text/plain": [
       "<Figure size 432x288 with 1 Axes>"
      ]
     },
     "metadata": {
      "needs_background": "light"
     },
     "output_type": "display_data"
    }
   ],
   "source": [
    "\n",
    "building_story = df['PERCENTAGE LOSS'].unique()\n",
    "building_story.sort()\n",
    "print(building_story)\n",
    "\n",
    "# plot avg. loss by battalion on scatter plot\n",
    "\n",
    "x_axis=df_group \n",
    "y_axis= building_story\n",
    "plt.bar(x_axis,y_axis,color=['orange'])\n",
    "\n",
    "plt.xlabel(\"Building Stories\")\n",
    "plt.ylabel(\"Average % Value Loss in Fires\")\n",
    "plt.title(\"Average % Value Loss in Fires by Building_Stories\")"
   ]
  },
  {
   "cell_type": "code",
   "execution_count": 15,
   "id": "931b2174",
   "metadata": {},
   "outputs": [
    {
     "data": {
      "image/png": "[encoded data removed]",
      "text/plain": [
       "<Figure size 432x288 with 1 Axes>"
      ]
     },
     "metadata": {},
     "output_type": "display_data"
    }
   ],
   "source": [
    "fire_type = df_group['PERCENTAGE LOSS'].value_counts()\n",
    "\n",
    "fire_type.plot(kind=\"pie\",autopct=\"%1.1f%%\")\n",
    "\n",
    "plt.xticks(rotation=90)\n",
    "plt.ylabel(\"Building types\")\n",
    "plt.show()"
   ]
  },
  {
   "cell_type": "code",
   "execution_count": null,
   "id": "074590df",
   "metadata": {},
   "outputs": [],
   "source": []
  }
 ],
 "metadata": {
  "kernelspec": {
   "display_name": "Python 3 (ipykernel)",
   "language": "python",
   "name": "python3"
  },
  "language_info": {
   "codemirror_mode": {
    "name": "ipython",
    "version": 3
   },
   "file_extension": ".py",
   "mimetype": "text/x-python",
   "name": "python",
   "nbconvert_exporter": "python",
   "pygments_lexer": "ipython3",
   "version": "3.9.7"
  }
 },
 "nbformat": 4,
 "nbformat_minor": 5
}
