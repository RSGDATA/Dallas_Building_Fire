{
 "cells": [
  {
   "cell_type": "code",
   "execution_count": 31,
   "id": "2bb1a48f",
   "metadata": {},
   "outputs": [],
   "source": [
    "import matplotlib.pyplot as plt\n",
    "import pandas as pd\n",
    "import numpy as np\n",
    "import requests\n",
    "import gmaps\n",
    "import os\n",
    "import seaborn as sns\n",
    "import seaborn as sb\n",
    "from config import gkey\n",
    "\n",
    "gmaps.configure(api_key=gkey)"
   ]
  },
  {
   "cell_type": "code",
   "execution_count": 32,
   "id": "b53f45d3",
   "metadata": {},
   "outputs": [],
   "source": [
    "structure_loss = pd.read_csv ('Fire.csv')\n",
    "structure_loss.head()"
   ]
  },
  {
   "cell_type": "code",
   "execution_count": 33,
   "id": "20b2dba2",
   "metadata": {},
   "outputs": [],
   "source": [
    "structure_loss[\"STRUCTURE TYPE\"].count()"
   ]
  },
  {
   "cell_type": "code",
   "execution_count": 34,
   "id": "35e094b8",
   "metadata": {},
   "outputs": [],
   "source": [
    "structure_loss[\"STRUCTURE TYPE\"].value_counts"
   ]
  },
  {
   "cell_type": "code",
   "execution_count": 35,
   "id": "1382fac9",
   "metadata": {},
   "outputs": [],
   "source": [
    "#unique structures included in the data set\n",
    "unique_structure_df = structure_loss[\"STRUCTURE TYPE\"].unique()\n",
    "\n",
    "unique_structure_df"
   ]
  },
  {
   "cell_type": "code",
   "execution_count": 36,
   "id": "a36a60c7",
   "metadata": {},
   "outputs": [],
   "source": [
    "#average percent loss by structure type\n",
    "avg_loss_structure = structure_loss.groupby([\"STRUCTURE TYPE\"]).mean()[\"PERCENTAGE LOSS\"]\n",
    "\n",
    "avg_loss_structure"
   ]
  },
  {
   "cell_type": "code",
   "execution_count": 37,
   "id": "be481779",
   "metadata": {},
   "outputs": [
    {
     "data": {
      "text/html": [
       "<div>\n",
       "<style scoped>\n",
       "    .dataframe tbody tr th:only-of-type {\n",
       "        vertical-align: middle;\n",
       "    }\n",
       "\n",
       "    .dataframe tbody tr th {\n",
       "        vertical-align: top;\n",
       "    }\n",
       "\n",
       "    .dataframe thead th {\n",
       "        text-align: right;\n",
       "    }\n",
       "</style>\n",
       "<table border=\"1\" class=\"dataframe\">\n",
       "  <thead>\n",
       "    <tr style=\"text-align: right;\">\n",
       "      <th></th>\n",
       "      <th>index</th>\n",
       "      <th>ID</th>\n",
       "      <th>DATE</th>\n",
       "      <th>TIME</th>\n",
       "      <th>ZIP</th>\n",
       "      <th>BATTALION</th>\n",
       "      <th>SHIFT</th>\n",
       "      <th>COUNCIL DISTRICT</th>\n",
       "      <th>STRUCTURE TYPE</th>\n",
       "      <th>BUILDING STORIES</th>\n",
       "      <th>...</th>\n",
       "      <th>TOTAL VALUE</th>\n",
       "      <th>STRUCTURE LOSS</th>\n",
       "      <th>CONTENTS LOSS</th>\n",
       "      <th>TOTAL SAVED</th>\n",
       "      <th>PERCENTAGE LOSS</th>\n",
       "      <th>SPRINKER SYSTEM</th>\n",
       "      <th>ALARM SYSTEM</th>\n",
       "      <th>ADDRESS</th>\n",
       "      <th>Lat</th>\n",
       "      <th>Lng</th>\n",
       "    </tr>\n",
       "  </thead>\n",
       "  <tbody>\n",
       "    <tr>\n",
       "      <th>0</th>\n",
       "      <td>0</td>\n",
       "      <td>17961.0</td>\n",
       "      <td>10/29/2019</td>\n",
       "      <td>08:21 PM</td>\n",
       "      <td>75216.0</td>\n",
       "      <td>6</td>\n",
       "      <td>A</td>\n",
       "      <td>4.0</td>\n",
       "      <td>DWELLING</td>\n",
       "      <td>1.0</td>\n",
       "      <td>...</td>\n",
       "      <td>166370.0</td>\n",
       "      <td>-5000.0</td>\n",
       "      <td>0.0</td>\n",
       "      <td>161370.0</td>\n",
       "      <td>3.01</td>\n",
       "      <td>NaN</td>\n",
       "      <td>NaN</td>\n",
       "      <td>1325 S MARSALIS AVE</td>\n",
       "      <td>32.732107</td>\n",
       "      <td>-96.814783</td>\n",
       "    </tr>\n",
       "    <tr>\n",
       "      <th>1</th>\n",
       "      <td>1</td>\n",
       "      <td>17962.0</td>\n",
       "      <td>10/30/2019</td>\n",
       "      <td>03:42 AM</td>\n",
       "      <td>75229.0</td>\n",
       "      <td>7</td>\n",
       "      <td>A</td>\n",
       "      <td>13.0</td>\n",
       "      <td>DWELLING</td>\n",
       "      <td>1.0</td>\n",
       "      <td>...</td>\n",
       "      <td>535470.0</td>\n",
       "      <td>-10000.0</td>\n",
       "      <td>0.0</td>\n",
       "      <td>525470.0</td>\n",
       "      <td>1.87</td>\n",
       "      <td>NaN</td>\n",
       "      <td>NaN</td>\n",
       "      <td>10728 LATHROP DR</td>\n",
       "      <td>32.894248</td>\n",
       "      <td>-96.857108</td>\n",
       "    </tr>\n",
       "    <tr>\n",
       "      <th>2</th>\n",
       "      <td>2</td>\n",
       "      <td>17963.0</td>\n",
       "      <td>10/30/2019</td>\n",
       "      <td>10:47 AM</td>\n",
       "      <td>75241.0</td>\n",
       "      <td>5</td>\n",
       "      <td>B</td>\n",
       "      <td>3.0</td>\n",
       "      <td>DWELLING</td>\n",
       "      <td>1.0</td>\n",
       "      <td>...</td>\n",
       "      <td>306000.0</td>\n",
       "      <td>-5000.0</td>\n",
       "      <td>-15000.0</td>\n",
       "      <td>286000.0</td>\n",
       "      <td>6.54</td>\n",
       "      <td>NaN</td>\n",
       "      <td>NaN</td>\n",
       "      <td>6205 S R L THORNTON SERV</td>\n",
       "      <td>32.694543</td>\n",
       "      <td>-96.824020</td>\n",
       "    </tr>\n",
       "    <tr>\n",
       "      <th>3</th>\n",
       "      <td>3</td>\n",
       "      <td>17964.0</td>\n",
       "      <td>10/30/2019</td>\n",
       "      <td>05:32 PM</td>\n",
       "      <td>75243.0</td>\n",
       "      <td>2</td>\n",
       "      <td>B</td>\n",
       "      <td>10.0</td>\n",
       "      <td>DWELLING</td>\n",
       "      <td>1.0</td>\n",
       "      <td>...</td>\n",
       "      <td>126710.0</td>\n",
       "      <td>-8000.0</td>\n",
       "      <td>-4000.0</td>\n",
       "      <td>114710.0</td>\n",
       "      <td>9.47</td>\n",
       "      <td>NaN</td>\n",
       "      <td>NaN</td>\n",
       "      <td>12044 WILLOWDELL DR</td>\n",
       "      <td>32.913584</td>\n",
       "      <td>-96.764435</td>\n",
       "    </tr>\n",
       "    <tr>\n",
       "      <th>4</th>\n",
       "      <td>4</td>\n",
       "      <td>17965.0</td>\n",
       "      <td>10/30/2019</td>\n",
       "      <td>11:03 AM</td>\n",
       "      <td>75212.0</td>\n",
       "      <td>9</td>\n",
       "      <td>B</td>\n",
       "      <td>6.0</td>\n",
       "      <td>DWELLING</td>\n",
       "      <td>1.0</td>\n",
       "      <td>...</td>\n",
       "      <td>84000.0</td>\n",
       "      <td>-45000.0</td>\n",
       "      <td>-10000.0</td>\n",
       "      <td>29000.0</td>\n",
       "      <td>65.48</td>\n",
       "      <td>NaN</td>\n",
       "      <td>NaN</td>\n",
       "      <td>2212 LAPSLEY ST</td>\n",
       "      <td>32.769986</td>\n",
       "      <td>-96.908816</td>\n",
       "    </tr>\n",
       "  </tbody>\n",
       "</table>\n",
       "<p>5 rows × 22 columns</p>\n",
       "</div>"
      ],
      "text/plain": [
       "   index       ID        DATE      TIME      ZIP BATTALION SHIFT  \\\n",
       "0      0  17961.0  10/29/2019  08:21 PM  75216.0         6     A   \n",
       "1      1  17962.0  10/30/2019  03:42 AM  75229.0         7     A   \n",
       "2      2  17963.0  10/30/2019  10:47 AM  75241.0         5     B   \n",
       "3      3  17964.0  10/30/2019  05:32 PM  75243.0         2     B   \n",
       "4      4  17965.0  10/30/2019  11:03 AM  75212.0         9     B   \n",
       "\n",
       "   COUNCIL DISTRICT STRUCTURE TYPE  BUILDING STORIES  ... TOTAL VALUE  \\\n",
       "0               4.0       DWELLING               1.0  ...    166370.0   \n",
       "1              13.0       DWELLING               1.0  ...    535470.0   \n",
       "2               3.0       DWELLING               1.0  ...    306000.0   \n",
       "3              10.0       DWELLING               1.0  ...    126710.0   \n",
       "4               6.0       DWELLING               1.0  ...     84000.0   \n",
       "\n",
       "  STRUCTURE LOSS  CONTENTS LOSS  TOTAL SAVED  PERCENTAGE LOSS  \\\n",
       "0        -5000.0            0.0     161370.0             3.01   \n",
       "1       -10000.0            0.0     525470.0             1.87   \n",
       "2        -5000.0       -15000.0     286000.0             6.54   \n",
       "3        -8000.0        -4000.0     114710.0             9.47   \n",
       "4       -45000.0       -10000.0      29000.0            65.48   \n",
       "\n",
       "   SPRINKER SYSTEM  ALARM SYSTEM                   ADDRESS        Lat  \\\n",
       "0              NaN           NaN       1325 S MARSALIS AVE  32.732107   \n",
       "1              NaN           NaN          10728 LATHROP DR  32.894248   \n",
       "2              NaN           NaN  6205 S R L THORNTON SERV  32.694543   \n",
       "3              NaN           NaN       12044 WILLOWDELL DR  32.913584   \n",
       "4              NaN           NaN           2212 LAPSLEY ST  32.769986   \n",
       "\n",
       "         Lng  \n",
       "0 -96.814783  \n",
       "1 -96.857108  \n",
       "2 -96.824020  \n",
       "3 -96.764435  \n",
       "4 -96.908816  \n",
       "\n",
       "[5 rows x 22 columns]"
      ]
     },
     "execution_count": 37,
     "metadata": {},
     "output_type": "execute_result"
    }
   ],
   "source": [
    "#clean up structure types to consolidate \"like\" or \"same\" names\n",
    "cleaned_structure_loss = structure_loss.replace({\n",
    "     \"APARTMENT\":\"APARTMENT\",\n",
    "     \"APARTMENTS\":\"APARTMENT\",     \n",
    "     \"APARTMENTS (ROOF TOP)\":\"APARTMENT\",      \n",
    "    \n",
    "     \"COMMERCIAL\":\"COMMERCIAL\",                \n",
    "     \"COMMERICAL\":\"COMMERCIAL\",                  \n",
    "     \"COMMERICAL/WAREHOUSE\": \"COMMERCIAL\",\n",
    "     \n",
    "     \"CONDO\": \"CONDOMINIUM\",                   \n",
    "     \"CONDOMINIUM\": \"CONDOMINIUM\",                    \n",
    "     \"CONDOMINIUMS\": \"CONDOMINIUM\",\n",
    "     \"CONDOMINUM\": \"CONDOMINIUM\",\n",
    "     \n",
    "     \"DWELLING\": \"DWELLING\",                               \n",
    "     \"DWELLING (WINDOW)\": \"DWELLING\", \n",
    "    \n",
    "     \"4 PLEX\": \"FOURPLEX\",\n",
    "    \n",
    "     \"MANUFACTURE\":\"MANUFACTURE\",                               \n",
    "     \"MANUFACTURING\": \"MANUFACTURE\",\n",
    "    \n",
    "     \"PORTABLE BLDG\":\"PORTABLE BUILDING\",\n",
    "    \n",
    "     \"HOTEL\": \"LODGING\",\n",
    "     \"MOTEL\": \"LODGING\"\n",
    "     \n",
    "    })\n",
    "cleaned_structure_loss.head()"
   ]
  },
  {
   "cell_type": "markdown",
   "id": "8b3ed3b8",
   "metadata": {},
   "source": [
    "***Total Number of Unique Structure Types***"
   ]
  },
  {
   "cell_type": "code",
   "execution_count": 38,
   "id": "49363e5a",
   "metadata": {},
   "outputs": [
    {
     "data": {
      "text/plain": [
       "STRUCTURE TYPE\n",
       "APARTMENT            193\n",
       "CARPORT                1\n",
       "CHURCH                 2\n",
       "COMMERCIAL            68\n",
       "CONDOMINIUM           12\n",
       "DUPLEX                 3\n",
       "DWELLING             274\n",
       "FOURPLEX               1\n",
       "GARAGE                12\n",
       "LAUNDRY ROOM           1\n",
       "LODGING               12\n",
       "MANUFACTURE            2\n",
       "MOBILE HOME            3\n",
       "OFFICE                 3\n",
       "PORTABLE BUILDING      1\n",
       "RESTAURANT             5\n",
       "RETAIL                 1\n",
       "SCHOOL                 3\n",
       "SHED                  13\n",
       "SHOPPING MALL          1\n",
       "TOWNHOME               2\n",
       "WAREHOUSE              8\n",
       "Name: PERCENTAGE LOSS, dtype: int64"
      ]
     },
     "execution_count": 38,
     "metadata": {},
     "output_type": "execute_result"
    }
   ],
   "source": [
    "#total number of structures for structure type, grouped by percentage loss\n",
    "avg_loss_structure = cleaned_structure_loss.groupby([\"STRUCTURE TYPE\"]).count()[\"PERCENTAGE LOSS\"]\n",
    "\n",
    "avg_loss_structure"
   ]
  },
  {
   "cell_type": "code",
   "execution_count": 39,
   "id": "36ff9b2f",
   "metadata": {},
   "outputs": [
    {
     "data": {
      "image/png": "[encoded data removed]",
      "text/plain": [
       "<Figure size 720x720 with 1 Axes>"
      ]
     },
     "metadata": {},
     "output_type": "display_data"
    }
   ],
   "source": [
    "structure_type = cleaned_structure_loss['STRUCTURE TYPE'].value_counts()\n",
    "\n",
    "fig = plt.figure(figsize=(10,10))\n",
    "structure_type.plot(kind=\"pie\",autopct=\"%1.1f%%\")\n",
    "\n",
    "plt.xticks(rotation=90)\n",
    "plt.show()"
   ]
  },
  {
   "cell_type": "markdown",
   "id": "75c9bf87",
   "metadata": {},
   "source": [
    "***Average Percentage Loss per Structure***"
   ]
  },
  {
   "cell_type": "code",
   "execution_count": 40,
   "id": "0f951ddc",
   "metadata": {},
   "outputs": [
    {
     "data": {
      "text/plain": [
       "STRUCTURE TYPE\n",
       "APARTMENT             3.421762\n",
       "CARPORT               0.460000\n",
       "CHURCH                3.750000\n",
       "COMMERCIAL            9.191324\n",
       "CONDOMINIUM           7.884167\n",
       "DUPLEX               12.583333\n",
       "DWELLING             16.925036\n",
       "FOURPLEX              1.500000\n",
       "GARAGE               14.255000\n",
       "LAUNDRY ROOM          0.040000\n",
       "LODGING               1.840000\n",
       "MANUFACTURE           0.700000\n",
       "MOBILE HOME          18.930000\n",
       "OFFICE                5.000000\n",
       "PORTABLE BUILDING     0.000000\n",
       "RESTAURANT            1.502000\n",
       "RETAIL                0.070000\n",
       "SCHOOL                0.006667\n",
       "SHED                 30.586154\n",
       "SHOPPING MALL         0.000000\n",
       "TOWNHOME              5.675000\n",
       "WAREHOUSE            11.431250\n",
       "Name: PERCENTAGE LOSS, dtype: float64"
      ]
     },
     "execution_count": 40,
     "metadata": {},
     "output_type": "execute_result"
    }
   ],
   "source": [
    "#new average percent loss by structure type\n",
    "avg_loss_structure = cleaned_structure_loss.groupby([\"STRUCTURE TYPE\"]).mean()[\"PERCENTAGE LOSS\"]\n",
    "\n",
    "avg_loss_structure"
   ]
  },
  {
   "cell_type": "code",
   "execution_count": 41,
   "id": "679f8695",
   "metadata": {},
   "outputs": [
    {
     "data": {
      "image/png": "[encoded data removed]",
      "text/plain": [
       "<Figure size 432x288 with 1 Axes>"
      ]
     },
     "metadata": {
      "needs_background": "light"
     },
     "output_type": "display_data"
    }
   ],
   "source": [
    "unique_structure=cleaned_structure_loss['STRUCTURE TYPE'].unique()\n",
    "unique_structure.sort()\n",
    "#print(unique_structure)\n",
    "\n",
    "x_axis = unique_structure\n",
    "y_axis = avg_loss_structure\n",
    "plt.xticks(rotation=90)\n",
    "plt.bar(x_axis, y_axis, color=['red'])\n",
    "\n",
    "plt.xlabel(\"STRUCTURE TYPE\")\n",
    "plt.ylabel(\"AVERAGE % LOSS IN FIRE\")\n",
    "plt.title(\"AVERAGE % LOSS IN FIRE BY STRUCTURE TYPE\")\n",
    "\n",
    "#plt.tight_layout()\n",
    "\n",
    "plt.show()"
   ]
  },
  {
   "cell_type": "markdown",
   "id": "6c2bb0d4",
   "metadata": {},
   "source": [
    "***Merge All Residential Buildings=RESIDENTIAL and Structures <1%=OTHER***"
   ]
  },
  {
   "cell_type": "code",
   "execution_count": 42,
   "id": "acfb3386",
   "metadata": {},
   "outputs": [
    {
     "data": {
      "text/html": [
       "<div>\n",
       "<style scoped>\n",
       "    .dataframe tbody tr th:only-of-type {\n",
       "        vertical-align: middle;\n",
       "    }\n",
       "\n",
       "    .dataframe tbody tr th {\n",
       "        vertical-align: top;\n",
       "    }\n",
       "\n",
       "    .dataframe thead th {\n",
       "        text-align: right;\n",
       "    }\n",
       "</style>\n",
       "<table border=\"1\" class=\"dataframe\">\n",
       "  <thead>\n",
       "    <tr style=\"text-align: right;\">\n",
       "      <th></th>\n",
       "      <th>index</th>\n",
       "      <th>ID</th>\n",
       "      <th>DATE</th>\n",
       "      <th>TIME</th>\n",
       "      <th>ZIP</th>\n",
       "      <th>BATTALION</th>\n",
       "      <th>SHIFT</th>\n",
       "      <th>COUNCIL DISTRICT</th>\n",
       "      <th>STRUCTURE TYPE</th>\n",
       "      <th>BUILDING STORIES</th>\n",
       "      <th>...</th>\n",
       "      <th>TOTAL VALUE</th>\n",
       "      <th>STRUCTURE LOSS</th>\n",
       "      <th>CONTENTS LOSS</th>\n",
       "      <th>TOTAL SAVED</th>\n",
       "      <th>PERCENTAGE LOSS</th>\n",
       "      <th>SPRINKER SYSTEM</th>\n",
       "      <th>ALARM SYSTEM</th>\n",
       "      <th>ADDRESS</th>\n",
       "      <th>Lat</th>\n",
       "      <th>Lng</th>\n",
       "    </tr>\n",
       "  </thead>\n",
       "  <tbody>\n",
       "    <tr>\n",
       "      <th>0</th>\n",
       "      <td>0</td>\n",
       "      <td>17961.0</td>\n",
       "      <td>10/29/2019</td>\n",
       "      <td>08:21 PM</td>\n",
       "      <td>75216.0</td>\n",
       "      <td>6</td>\n",
       "      <td>A</td>\n",
       "      <td>4.0</td>\n",
       "      <td>RESIDENTIAL</td>\n",
       "      <td>1.0</td>\n",
       "      <td>...</td>\n",
       "      <td>166370.0</td>\n",
       "      <td>-5000.0</td>\n",
       "      <td>0.0</td>\n",
       "      <td>161370.0</td>\n",
       "      <td>3.01</td>\n",
       "      <td>NaN</td>\n",
       "      <td>NaN</td>\n",
       "      <td>1325 S MARSALIS AVE</td>\n",
       "      <td>32.732107</td>\n",
       "      <td>-96.814783</td>\n",
       "    </tr>\n",
       "    <tr>\n",
       "      <th>1</th>\n",
       "      <td>1</td>\n",
       "      <td>17962.0</td>\n",
       "      <td>10/30/2019</td>\n",
       "      <td>03:42 AM</td>\n",
       "      <td>75229.0</td>\n",
       "      <td>7</td>\n",
       "      <td>A</td>\n",
       "      <td>13.0</td>\n",
       "      <td>RESIDENTIAL</td>\n",
       "      <td>1.0</td>\n",
       "      <td>...</td>\n",
       "      <td>535470.0</td>\n",
       "      <td>-10000.0</td>\n",
       "      <td>0.0</td>\n",
       "      <td>525470.0</td>\n",
       "      <td>1.87</td>\n",
       "      <td>NaN</td>\n",
       "      <td>NaN</td>\n",
       "      <td>10728 LATHROP DR</td>\n",
       "      <td>32.894248</td>\n",
       "      <td>-96.857108</td>\n",
       "    </tr>\n",
       "    <tr>\n",
       "      <th>2</th>\n",
       "      <td>2</td>\n",
       "      <td>17963.0</td>\n",
       "      <td>10/30/2019</td>\n",
       "      <td>10:47 AM</td>\n",
       "      <td>75241.0</td>\n",
       "      <td>5</td>\n",
       "      <td>B</td>\n",
       "      <td>3.0</td>\n",
       "      <td>RESIDENTIAL</td>\n",
       "      <td>1.0</td>\n",
       "      <td>...</td>\n",
       "      <td>306000.0</td>\n",
       "      <td>-5000.0</td>\n",
       "      <td>-15000.0</td>\n",
       "      <td>286000.0</td>\n",
       "      <td>6.54</td>\n",
       "      <td>NaN</td>\n",
       "      <td>NaN</td>\n",
       "      <td>6205 S R L THORNTON SERV</td>\n",
       "      <td>32.694543</td>\n",
       "      <td>-96.824020</td>\n",
       "    </tr>\n",
       "    <tr>\n",
       "      <th>3</th>\n",
       "      <td>3</td>\n",
       "      <td>17964.0</td>\n",
       "      <td>10/30/2019</td>\n",
       "      <td>05:32 PM</td>\n",
       "      <td>75243.0</td>\n",
       "      <td>2</td>\n",
       "      <td>B</td>\n",
       "      <td>10.0</td>\n",
       "      <td>RESIDENTIAL</td>\n",
       "      <td>1.0</td>\n",
       "      <td>...</td>\n",
       "      <td>126710.0</td>\n",
       "      <td>-8000.0</td>\n",
       "      <td>-4000.0</td>\n",
       "      <td>114710.0</td>\n",
       "      <td>9.47</td>\n",
       "      <td>NaN</td>\n",
       "      <td>NaN</td>\n",
       "      <td>12044 WILLOWDELL DR</td>\n",
       "      <td>32.913584</td>\n",
       "      <td>-96.764435</td>\n",
       "    </tr>\n",
       "    <tr>\n",
       "      <th>4</th>\n",
       "      <td>4</td>\n",
       "      <td>17965.0</td>\n",
       "      <td>10/30/2019</td>\n",
       "      <td>11:03 AM</td>\n",
       "      <td>75212.0</td>\n",
       "      <td>9</td>\n",
       "      <td>B</td>\n",
       "      <td>6.0</td>\n",
       "      <td>RESIDENTIAL</td>\n",
       "      <td>1.0</td>\n",
       "      <td>...</td>\n",
       "      <td>84000.0</td>\n",
       "      <td>-45000.0</td>\n",
       "      <td>-10000.0</td>\n",
       "      <td>29000.0</td>\n",
       "      <td>65.48</td>\n",
       "      <td>NaN</td>\n",
       "      <td>NaN</td>\n",
       "      <td>2212 LAPSLEY ST</td>\n",
       "      <td>32.769986</td>\n",
       "      <td>-96.908816</td>\n",
       "    </tr>\n",
       "  </tbody>\n",
       "</table>\n",
       "<p>5 rows × 22 columns</p>\n",
       "</div>"
      ],
      "text/plain": [
       "   index       ID        DATE      TIME      ZIP BATTALION SHIFT  \\\n",
       "0      0  17961.0  10/29/2019  08:21 PM  75216.0         6     A   \n",
       "1      1  17962.0  10/30/2019  03:42 AM  75229.0         7     A   \n",
       "2      2  17963.0  10/30/2019  10:47 AM  75241.0         5     B   \n",
       "3      3  17964.0  10/30/2019  05:32 PM  75243.0         2     B   \n",
       "4      4  17965.0  10/30/2019  11:03 AM  75212.0         9     B   \n",
       "\n",
       "   COUNCIL DISTRICT STRUCTURE TYPE  BUILDING STORIES  ... TOTAL VALUE  \\\n",
       "0               4.0    RESIDENTIAL               1.0  ...    166370.0   \n",
       "1              13.0    RESIDENTIAL               1.0  ...    535470.0   \n",
       "2               3.0    RESIDENTIAL               1.0  ...    306000.0   \n",
       "3              10.0    RESIDENTIAL               1.0  ...    126710.0   \n",
       "4               6.0    RESIDENTIAL               1.0  ...     84000.0   \n",
       "\n",
       "  STRUCTURE LOSS  CONTENTS LOSS  TOTAL SAVED  PERCENTAGE LOSS  \\\n",
       "0        -5000.0            0.0     161370.0             3.01   \n",
       "1       -10000.0            0.0     525470.0             1.87   \n",
       "2        -5000.0       -15000.0     286000.0             6.54   \n",
       "3        -8000.0        -4000.0     114710.0             9.47   \n",
       "4       -45000.0       -10000.0      29000.0            65.48   \n",
       "\n",
       "   SPRINKER SYSTEM  ALARM SYSTEM                   ADDRESS        Lat  \\\n",
       "0              NaN           NaN       1325 S MARSALIS AVE  32.732107   \n",
       "1              NaN           NaN          10728 LATHROP DR  32.894248   \n",
       "2              NaN           NaN  6205 S R L THORNTON SERV  32.694543   \n",
       "3              NaN           NaN       12044 WILLOWDELL DR  32.913584   \n",
       "4              NaN           NaN           2212 LAPSLEY ST  32.769986   \n",
       "\n",
       "         Lng  \n",
       "0 -96.814783  \n",
       "1 -96.857108  \n",
       "2 -96.824020  \n",
       "3 -96.764435  \n",
       "4 -96.908816  \n",
       "\n",
       "[5 rows x 22 columns]"
      ]
     },
     "execution_count": 42,
     "metadata": {},
     "output_type": "execute_result"
    }
   ],
   "source": [
    "#clean up new structure types to consolidate \"like\" names\n",
    "new_structure_loss = cleaned_structure_loss.replace({\n",
    "     \"APARTMENT\":\"RESIDENTIAL\",\n",
    "     \"APARTMENTS\":\"RESIDENTIAL\",     \n",
    "     \"APARTMENTS (ROOF TOP)\":\"RESIDENTIAL\",\n",
    "    \n",
    "     \"DUPLEX\":\"RESIDENTIAL\",\n",
    "    \n",
    "     \"DWELLING\":\"RESIDENTIAL\",\n",
    "                          \n",
    "     \"CONDO\":\"RESIDENTIAL\",\n",
    "     \"CONDOMINIUM\":\"RESIDENTIAL\",\n",
    "     \"CONDOMINIUMS\":\"RESIDENTIAL\",\n",
    "     \"CONDOMINUM\":\"RESIDENTIAL\",\n",
    "\n",
    "     \"DWELLING\":\"RESIDENTIAL\", \n",
    "     \"DWELLING (WINDOW)\":\"RESIDENTIAL\",\n",
    "    \n",
    "     \"FOURPLEX\":\"RESIDENTIAL\",\n",
    "    \n",
    "     \"MANUFACTURE\":\"RESIDENTIAL\",\n",
    "     \"MANUFACTURING\":\"RESIDENTIAL\",\n",
    "    \n",
    "     \"MOBILE HOME\":\"RESIDENTIAL\",\n",
    "    \n",
    "     \"TOWNHOME\":\"RESIDENTIAL\",\n",
    "    \n",
    "     \"CARPORT\":\"OTHER\",               \n",
    "     \"LAUNDRY ROOM\":\"OTHER\",         \n",
    "     \"MANUFACTURE\":\"OTHER\",\n",
    "     \"PORTABLE BUILDING\":\"OTHER\",      \n",
    "     \"RETAIL\":\"OTHER\",               \n",
    "     \"SCHOOL\":\"OTHER\",                \n",
    "     \"SHOPPING MALL\":\"OTHER\"\n",
    "       \n",
    "    })\n",
    "new_structure_loss.head()"
   ]
  },
  {
   "cell_type": "markdown",
   "id": "04126e7a",
   "metadata": {},
   "source": [
    "***New Total Number of Unique Structure Types***"
   ]
  },
  {
   "cell_type": "code",
   "execution_count": 43,
   "id": "3bb376f4",
   "metadata": {},
   "outputs": [
    {
     "data": {
      "text/plain": [
       "STRUCTURE TYPE\n",
       "CHURCH           2\n",
       "COMMERCIAL      68\n",
       "GARAGE          12\n",
       "LODGING         12\n",
       "OFFICE           3\n",
       "OTHER           10\n",
       "RESIDENTIAL    488\n",
       "RESTAURANT       5\n",
       "SHED            13\n",
       "WAREHOUSE        8\n",
       "Name: PERCENTAGE LOSS, dtype: int64"
      ]
     },
     "execution_count": 43,
     "metadata": {},
     "output_type": "execute_result"
    }
   ],
   "source": [
    "total_loss_structure = new_structure_loss.groupby([\"STRUCTURE TYPE\"]).count()[\"PERCENTAGE LOSS\"]\n",
    "\n",
    "total_loss_structure"
   ]
  },
  {
   "cell_type": "code",
   "execution_count": 44,
   "id": "f95768bb",
   "metadata": {},
   "outputs": [
    {
     "data": {
      "image/png": "[encoded data removed]",
      "text/plain": [
       "<Figure size 1080x2160 with 1 Axes>"
      ]
     },
     "metadata": {},
     "output_type": "display_data"
    }
   ],
   "source": [
    "fire_type = new_structure_loss['STRUCTURE TYPE'].value_counts()\n",
    "\n",
    "fig = plt.figure(figsize=(15,30))\n",
    "fire_type.plot(kind=\"pie\",autopct=\"%1.1f%%\")\n",
    "\n",
    "plt.xticks(rotation=90)\n",
    "plt.show()"
   ]
  },
  {
   "cell_type": "code",
   "execution_count": 45,
   "id": "a306a367",
   "metadata": {},
   "outputs": [
    {
     "data": {
      "image/png": "[encoded data removed]",
      "text/plain": [
       "<Figure size 432x360 with 1 Axes>"
      ]
     },
     "metadata": {
      "needs_background": "light"
     },
     "output_type": "display_data"
    }
   ],
   "source": [
    "unique_structure=new_structure_loss['STRUCTURE TYPE'].unique()\n",
    "unique_structure.sort()\n",
    "#print(unique_structure)\n",
    "\n",
    "x_axis = unique_structure\n",
    "y_axis = total_loss_structure\n",
    "plt.figure(figsize=(6,5))\n",
    "plt.xticks(rotation=90)\n",
    "plt.bar(x_axis, y_axis, color=['red'])\n",
    "\n",
    "plt.xlabel(\"STRUCTURE TYPE\")\n",
    "plt.ylabel(\"TOTAL STRUCTURES\")\n",
    "plt.title(\"TOTAL STRUCTURE TYPES BY AVERAGE % LOSS\")\n",
    "\n",
    "#plt.tight_layout()\n",
    "plt.show()"
   ]
  },
  {
   "cell_type": "markdown",
   "id": "2e0d2964",
   "metadata": {},
   "source": [
    "*OTHER = CARPORT, LAUNDRY ROOM, MANUFACTURE, PORTABLE BUILDING, RETAIL, SCHOOL, SHOPPING MALL*"
   ]
  },
  {
   "cell_type": "markdown",
   "id": "d3acd59c",
   "metadata": {},
   "source": [
    "***New Average Percentage Loss per Structure after Final Merges***"
   ]
  },
  {
   "cell_type": "code",
   "execution_count": 46,
   "id": "384a0ed9",
   "metadata": {},
   "outputs": [
    {
     "data": {
      "text/plain": [
       "STRUCTURE TYPE\n",
       "CHURCH          3.750000\n",
       "COMMERCIAL      9.191324\n",
       "GARAGE         14.255000\n",
       "LODGING         1.840000\n",
       "OFFICE          5.000000\n",
       "OTHER           0.199000\n",
       "RESIDENTIAL    11.270205\n",
       "RESTAURANT      1.502000\n",
       "SHED           30.586154\n",
       "WAREHOUSE      11.431250\n",
       "Name: PERCENTAGE LOSS, dtype: float64"
      ]
     },
     "execution_count": 46,
     "metadata": {},
     "output_type": "execute_result"
    }
   ],
   "source": [
    "percent_loss_structure = new_structure_loss.groupby([\"STRUCTURE TYPE\"]).mean()[\"PERCENTAGE LOSS\"]\n",
    "\n",
    "percent_loss_structure"
   ]
  },
  {
   "cell_type": "code",
   "execution_count": 47,
   "id": "71b600b8",
   "metadata": {},
   "outputs": [
    {
     "data": {
      "image/png": "[encoded data removed]",
      "text/plain": [
       "<Figure size 432x360 with 1 Axes>"
      ]
     },
     "metadata": {
      "needs_background": "light"
     },
     "output_type": "display_data"
    }
   ],
   "source": [
    "unique_structure=new_structure_loss['STRUCTURE TYPE'].unique()\n",
    "unique_structure.sort()\n",
    "#print(unique_structure)\n",
    "\n",
    "x_axis = unique_structure\n",
    "y_axis = percent_loss_structure\n",
    "plt.figure(figsize=(6,5))\n",
    "plt.xticks(rotation=90)\n",
    "plt.bar(x_axis, y_axis, color=['red'])\n",
    "\n",
    "plt.xlabel(\"STRUCTURE TYPE\")\n",
    "plt.ylabel(\"TOTAL STRUCTURES\")\n",
    "plt.title(\"AVERAGE % LOSS IN FIRE BY STRUCTURE TYPE\")\n",
    "\n",
    "#plt.tight_layout()\n",
    "plt.show()"
   ]
  },
  {
   "cell_type": "markdown",
   "id": "003c6795",
   "metadata": {},
   "source": [
    "*OTHER = CARPORT, LAUNDRY ROOM, MANUFACTURE, PORTABLE BUILDING, RETAIL, SCHOOL, SHOPPING MALL*"
   ]
  },
  {
   "cell_type": "markdown",
   "id": "bd8e91b2",
   "metadata": {},
   "source": [
    "***Heatmap of AVG Percent Loss of Structure Type***"
   ]
  },
  {
   "cell_type": "code",
   "execution_count": 48,
   "id": "639f13cf",
   "metadata": {},
   "outputs": [],
   "source": [
    "# Configure gmaps.\n",
    "gmaps.configure(api_key=gkey)"
   ]
  },
  {
   "cell_type": "code",
   "execution_count": 49,
   "id": "6394ae73",
   "metadata": {},
   "outputs": [
    {
     "data": {
      "text/plain": [
       "0     -96.814783\n",
       "1     -96.857108\n",
       "2     -96.824020\n",
       "3     -96.764435\n",
       "4     -96.908816\n",
       "         ...    \n",
       "616   -96.694285\n",
       "617   -96.765385\n",
       "618   -96.726209\n",
       "619   -96.567056\n",
       "620   -96.802091\n",
       "Name: Lng, Length: 621, dtype: float64"
      ]
     },
     "execution_count": 49,
     "metadata": {},
     "output_type": "execute_result"
    }
   ],
   "source": [
    "lat_for_map=new_structure_loss['Lat'].astype(float)\n",
    "lat_for_map.astype(float)\n",
    "\n",
    "lng_for_map=new_structure_loss['Lng'].astype(float)\n",
    "lng_for_map.astype(float)"
   ]
  },
  {
   "cell_type": "code",
   "execution_count": 50,
   "id": "e49c0d76",
   "metadata": {},
   "outputs": [],
   "source": [
    "# Use the Lat and Lng as locations and Percentage Loss as the weight.\n",
    "locations = new_structure_loss[[\"Lat\", \"Lng\"]]\n",
    "structure_type_pct_loss = new_structure_loss[\"PERCENTAGE LOSS\"].astype(float)"
   ]
  },
  {
   "cell_type": "code",
   "execution_count": 51,
   "id": "36fad41e",
   "metadata": {},
   "outputs": [],
   "source": [
    "# Customize the size of the figure\n",
    "figure_layout = {\n",
    "    'width': '400px',\n",
    "    'height': '450px',\n",
    "    'border': '1px solid black',\n",
    "    'padding': '1px',\n",
    "    'margin': '0 auto 0 auto'\n",
    "}\n",
    "fig = gmaps.figure(layout=figure_layout)"
   ]
  },
  {
   "cell_type": "code",
   "execution_count": 66,
   "id": "6d7d8d7e",
   "metadata": {},
   "outputs": [
    {
     "data": {
      "application/vnd.jupyter.widget-view+json": {
       "model_id": "ee773094acb8460bbce3561a1602665c",
       "version_major": 2,
       "version_minor": 0
      },
      "text/plain": [
       "Figure(layout=FigureLayout(border='1px solid black', height='550px', margin='0 auto 0 auto', padding='1px', wi…"
      ]
     },
     "metadata": {},
     "output_type": "display_data"
    }
   ],
   "source": [
    "# Add Heatmap layer to map.\n",
    "fig = gmaps.figure(layout=figure_layout, map_type=\"TERRAIN\", center=(32.83, -96.75), zoom_level=10)\n",
    "\n",
    "heat_layer = gmaps.heatmap_layer(locations, weights=structure_type_pct_loss, \n",
    "                                 dissipating=False, max_intensity=200, \n",
    "                                 point_radius=0.02)\n",
    "fig.add_layer(heat_layer)\n",
    "fig"
   ]
  },
  {
   "cell_type": "code",
   "execution_count": 53,
   "id": "c8037635",
   "metadata": {},
   "outputs": [],
   "source": [
    "info_box_template = \"\"\"\n",
    "<dl>\n",
    "<dt>Structure Type</dt><dd>{STRUCTURE TYPE}</dd>\n",
    "</dl>\n",
    "\"\"\"\n",
    "# Store the DataFrame Row\n",
    "# NOTE: be sure to update with your DataFrame name\n",
    "structure_info = [info_box_template.format(**row) for index, row in new_structure_loss.iterrows()]\n",
    "locations = new_structure_loss[[\"Lat\", \"Lng\"]]"
   ]
  },
  {
   "cell_type": "code",
   "execution_count": 54,
   "id": "f8c049ce",
   "metadata": {},
   "outputs": [],
   "source": [
    "# Customize the size of the figure\n",
    "figure_layout = {\n",
    "    'width': '500px',\n",
    "    'height': '550px',\n",
    "    'border': '1px solid black',\n",
    "    'padding': '1px',\n",
    "    'margin': '0 auto 0 auto'\n",
    "}\n",
    "fig = gmaps.figure(layout=figure_layout)"
   ]
  },
  {
   "cell_type": "code",
   "execution_count": 55,
   "id": "36fbe869",
   "metadata": {},
   "outputs": [
    {
     "data": {
      "application/vnd.jupyter.widget-view+json": {
       "model_id": "cdd6816d69e14b22b33ac8857220de89",
       "version_major": 2,
       "version_minor": 0
      },
      "text/plain": [
       "Figure(layout=FigureLayout(border='1px solid black', height='550px', margin='0 auto 0 auto', padding='1px', wi…"
      ]
     },
     "metadata": {},
     "output_type": "display_data"
    }
   ],
   "source": [
    "fires_df=new_structure_loss[['Lat','Lng']]\n",
    "fires_layer=gmaps.symbol_layer(fires_df,fill_color=(255,165,0),stroke_color=(0,0,0),scale=2)\n",
    "fig=gmaps.figure(layout=figure_layout, center=(32.83, -96.74), zoom_level=10)\n",
    "fig.add_layer(fires_layer)\n",
    "fig"
   ]
  },
  {
   "cell_type": "code",
   "execution_count": 67,
   "id": "009adbec",
   "metadata": {},
   "outputs": [
    {
     "data": {
      "application/vnd.jupyter.widget-view+json": {
       "model_id": "e00e76334a71402c9197e2b5a32e5860",
       "version_major": 2,
       "version_minor": 0
      },
      "text/plain": [
       "Figure(layout=FigureLayout(border='1px solid black', height='550px', margin='0 auto 0 auto', padding='1px', wi…"
      ]
     },
     "metadata": {},
     "output_type": "display_data"
    }
   ],
   "source": [
    "heat_layer = gmaps.heatmap_layer(locations, weights=structure_type_pct_loss, \n",
    "                                 dissipating=False, max_intensity=200, \n",
    "                                 point_radius=0.02)\n",
    "\n",
    "marker_layer=gmaps.symbol_layer(fires_df,fill_color=(255,165,0),stroke_color=(0,0,0),scale=2)\n",
    "\n",
    "# Display figure\n",
    "fig = gmaps.figure()\n",
    "fig = gmaps.figure(layout=figure_layout, map_type=\"TERRAIN\", center=(32.83, -96.74), zoom_level=10)\n",
    "fig.add_layer(heat_layer)\n",
    "fig.add_layer(marker_layer)\n",
    "fig"
   ]
  },
  {
   "cell_type": "code",
   "execution_count": 57,
   "id": "7c9150b9",
   "metadata": {},
   "outputs": [
    {
     "data": {
      "text/html": [
       "<div>\n",
       "<style scoped>\n",
       "    .dataframe tbody tr th:only-of-type {\n",
       "        vertical-align: middle;\n",
       "    }\n",
       "\n",
       "    .dataframe tbody tr th {\n",
       "        vertical-align: top;\n",
       "    }\n",
       "\n",
       "    .dataframe thead th {\n",
       "        text-align: right;\n",
       "    }\n",
       "</style>\n",
       "<table border=\"1\" class=\"dataframe\">\n",
       "  <thead>\n",
       "    <tr style=\"text-align: right;\">\n",
       "      <th></th>\n",
       "      <th>index</th>\n",
       "      <th>ID</th>\n",
       "      <th>DATE</th>\n",
       "      <th>TIME</th>\n",
       "      <th>ZIP</th>\n",
       "      <th>BATTALION</th>\n",
       "      <th>SHIFT</th>\n",
       "      <th>COUNCIL DISTRICT</th>\n",
       "      <th>BUILDING STORIES</th>\n",
       "      <th>CONSTRUCTION</th>\n",
       "      <th>...</th>\n",
       "      <th>TOTAL VALUE</th>\n",
       "      <th>STRUCTURE LOSS</th>\n",
       "      <th>CONTENTS LOSS</th>\n",
       "      <th>TOTAL SAVED</th>\n",
       "      <th>PERCENTAGE LOSS</th>\n",
       "      <th>SPRINKER SYSTEM</th>\n",
       "      <th>ALARM SYSTEM</th>\n",
       "      <th>ADDRESS</th>\n",
       "      <th>Lat</th>\n",
       "      <th>Lng</th>\n",
       "    </tr>\n",
       "    <tr>\n",
       "      <th>STRUCTURE TYPE</th>\n",
       "      <th></th>\n",
       "      <th></th>\n",
       "      <th></th>\n",
       "      <th></th>\n",
       "      <th></th>\n",
       "      <th></th>\n",
       "      <th></th>\n",
       "      <th></th>\n",
       "      <th></th>\n",
       "      <th></th>\n",
       "      <th></th>\n",
       "      <th></th>\n",
       "      <th></th>\n",
       "      <th></th>\n",
       "      <th></th>\n",
       "      <th></th>\n",
       "      <th></th>\n",
       "      <th></th>\n",
       "      <th></th>\n",
       "      <th></th>\n",
       "      <th></th>\n",
       "    </tr>\n",
       "  </thead>\n",
       "  <tbody>\n",
       "    <tr>\n",
       "      <th>CHURCH</th>\n",
       "      <td>38</td>\n",
       "      <td>17288.0</td>\n",
       "      <td>11/11/2019</td>\n",
       "      <td>07:25 PM</td>\n",
       "      <td>75212.0</td>\n",
       "      <td>9</td>\n",
       "      <td>B</td>\n",
       "      <td>6.0</td>\n",
       "      <td>1.0</td>\n",
       "      <td>BRICK</td>\n",
       "      <td>...</td>\n",
       "      <td>200000.0</td>\n",
       "      <td>0.0</td>\n",
       "      <td>0.0</td>\n",
       "      <td>200000.0</td>\n",
       "      <td>0.0</td>\n",
       "      <td>NO</td>\n",
       "      <td>UNK</td>\n",
       "      <td>3727 N WESTMORELAND RD</td>\n",
       "      <td>32.787826</td>\n",
       "      <td>-96.87427</td>\n",
       "    </tr>\n",
       "    <tr>\n",
       "      <th>CHURCH</th>\n",
       "      <td>209</td>\n",
       "      <td>17667.0</td>\n",
       "      <td>01/08/2020</td>\n",
       "      <td>12:55 AM</td>\n",
       "      <td>75218.0</td>\n",
       "      <td>4</td>\n",
       "      <td>B</td>\n",
       "      <td>9.0</td>\n",
       "      <td>1.0</td>\n",
       "      <td>NaN</td>\n",
       "      <td>...</td>\n",
       "      <td>400000.0</td>\n",
       "      <td>-30000.0</td>\n",
       "      <td>0.0</td>\n",
       "      <td>370000.0</td>\n",
       "      <td>7.5</td>\n",
       "      <td>UNK</td>\n",
       "      <td>YES</td>\n",
       "      <td>1000 EASTON RD</td>\n",
       "      <td>32.847031</td>\n",
       "      <td>-96.69489</td>\n",
       "    </tr>\n",
       "  </tbody>\n",
       "</table>\n",
       "<p>2 rows × 21 columns</p>\n",
       "</div>"
      ],
      "text/plain": [
       "                index       ID        DATE      TIME      ZIP BATTALION SHIFT  \\\n",
       "STRUCTURE TYPE                                                                  \n",
       "CHURCH             38  17288.0  11/11/2019  07:25 PM  75212.0         9     B   \n",
       "CHURCH            209  17667.0  01/08/2020  12:55 AM  75218.0         4     B   \n",
       "\n",
       "                COUNCIL DISTRICT  BUILDING STORIES CONSTRUCTION  ...  \\\n",
       "STRUCTURE TYPE                                                   ...   \n",
       "CHURCH                       6.0               1.0        BRICK  ...   \n",
       "CHURCH                       9.0               1.0          NaN  ...   \n",
       "\n",
       "               TOTAL VALUE  STRUCTURE LOSS  CONTENTS LOSS  TOTAL SAVED  \\\n",
       "STRUCTURE TYPE                                                           \n",
       "CHURCH            200000.0             0.0            0.0     200000.0   \n",
       "CHURCH            400000.0        -30000.0            0.0     370000.0   \n",
       "\n",
       "                PERCENTAGE LOSS  SPRINKER SYSTEM ALARM SYSTEM  \\\n",
       "STRUCTURE TYPE                                                  \n",
       "CHURCH                      0.0               NO          UNK   \n",
       "CHURCH                      7.5              UNK          YES   \n",
       "\n",
       "                               ADDRESS        Lat       Lng  \n",
       "STRUCTURE TYPE                                               \n",
       "CHURCH          3727 N WESTMORELAND RD  32.787826 -96.87427  \n",
       "CHURCH                  1000 EASTON RD  32.847031 -96.69489  \n",
       "\n",
       "[2 rows x 21 columns]"
      ]
     },
     "execution_count": 57,
     "metadata": {},
     "output_type": "execute_result"
    }
   ],
   "source": [
    "structure_df = new_structure_loss.set_index('STRUCTURE TYPE')\n",
    "\n",
    "structure_df.loc['CHURCH']"
   ]
  },
  {
   "cell_type": "code",
   "execution_count": 58,
   "id": "89ac5765",
   "metadata": {},
   "outputs": [],
   "source": [
    "# Customize the size of the figure\n",
    "figure_layout = {\n",
    "    'width': '500px',\n",
    "    'height': '550px',\n",
    "    'border': '1px solid black',\n",
    "    'padding': '1px',\n",
    "    'margin': '0 auto 0 auto'\n",
    "}\n",
    "fig = gmaps.figure(layout=figure_layout)"
   ]
  },
  {
   "cell_type": "code",
   "execution_count": 64,
   "id": "178d4837",
   "metadata": {},
   "outputs": [
    {
     "data": {
      "application/vnd.jupyter.widget-view+json": {
       "model_id": "bd689b99626141e0918a2f4d98f5612f",
       "version_major": 2,
       "version_minor": 0
      },
      "text/plain": [
       "Figure(layout=FigureLayout(border='1px solid black', height='550px', margin='0 auto 0 auto', padding='1px', wi…"
      ]
     },
     "metadata": {},
     "output_type": "display_data"
    }
   ],
   "source": [
    "structure_df = new_structure_loss.set_index('STRUCTURE TYPE')\n",
    "\n",
    "structure_church=structure_df.loc['CHURCH']\n",
    "structure_layer_1=structure_church[['Lat','Lng']]\n",
    "\n",
    "structure_commercial=structure_df.loc['COMMERCIAL']\n",
    "structure_layer_2=structure_commercial[['Lat','Lng']]\n",
    "\n",
    "structure_garage=structure_df.loc['GARAGE']\n",
    "structure_layer_3=structure_garage[['Lat','Lng']]\n",
    "\n",
    "structure_lodging=structure_df.loc['LODGING']\n",
    "structure_layer_4=structure_lodging[['Lat','Lng']]\n",
    "\n",
    "structure_office=structure_df.loc['OFFICE']\n",
    "structure_layer_5=structure_office[['Lat','Lng']]\n",
    "\n",
    "structure_other=structure_df.loc['OTHER']\n",
    "structure_layer_6=structure_other[['Lat','Lng']]\n",
    "\n",
    "structure_residential=structure_df.loc['RESIDENTIAL']\n",
    "structure_layer_7=structure_residential[['Lat','Lng']]\n",
    "\n",
    "structure_restaurant=structure_df.loc['RESTAURANT']\n",
    "structure_layer_8=structure_restaurant[['Lat','Lng']]\n",
    "\n",
    "structure_shed=structure_df.loc['SHED']\n",
    "structure_layer_9=structure_shed[['Lat','Lng']]\n",
    "\n",
    "structure_warehouse=structure_df.loc['WAREHOUSE']\n",
    "structure_layer_10=structure_warehouse[['Lat','Lng']]\n",
    "\n",
    "layer_1=gmaps.symbol_layer(structure_layer_1,fill_color=(0,255,0),stroke_color=(0,255,0),scale=4)    #GREEN\n",
    "layer_2=gmaps.symbol_layer(structure_layer_2,fill_color=(0,0,254),stroke_color=(0,0,254),scale=2)    #BLUE\n",
    "layer_3=gmaps.symbol_layer(structure_layer_3,fill_color=(255,0,0),stroke_color=(255,0,0),scale=2)    #RED\n",
    "layer_4=gmaps.symbol_layer(structure_layer_4,fill_color=(255,165,0),stroke_color=(255,165,0),scale=3)  #ORANGE\n",
    "layer_5=gmaps.symbol_layer(structure_layer_5,fill_color=(255,105,180),stroke_color=(255,105,180),scale=3)   #PINK\n",
    "layer_6=gmaps.symbol_layer(structure_layer_6,fill_color=(0,255,255),stroke_color=(0,255,255),scale=3)     #aqua\n",
    "layer_7=gmaps.symbol_layer(structure_layer_7,fill_color=(153,50,204),stroke_color=(153,50,204),scale=2)   #darkorchid\n",
    "layer_8=gmaps.symbol_layer(structure_layer_8,fill_color=(150,75,0),stroke_color=(150,75,0),scale=3)    #BROWN\n",
    "layer_9=gmaps.symbol_layer(structure_layer_9,fill_color=(128,128,128),stroke_color=(128,128,128),scale=2)    #GREY\n",
    "layer_10=gmaps.symbol_layer(structure_layer_10,fill_color=(255,255,0),stroke_color=(255,255,0),scale=3)    #yellow1\n",
    "\n",
    "fig=gmaps.figure(layout=figure_layout, map_type=\"TERRAIN\", center=(32.83, -96.74), zoom_level=10)\n",
    "fig.add_layer(heat_layer)\n",
    "fig.add_layer(layer_1)\n",
    "fig.add_layer(layer_2)\n",
    "fig.add_layer(layer_3)\n",
    "fig.add_layer(layer_4)\n",
    "fig.add_layer(layer_5)\n",
    "fig.add_layer(layer_6)\n",
    "fig.add_layer(layer_7)\n",
    "fig.add_layer(layer_8)\n",
    "fig.add_layer(layer_9)\n",
    "fig.add_layer(layer_10)\n",
    "fig"
   ]
  },
  {
   "cell_type": "code",
   "execution_count": null,
   "id": "e24da8c2",
   "metadata": {},
   "outputs": [],
   "source": []
  }
 ],
 "metadata": {
  "kernelspec": {
   "display_name": "Python 3 (ipykernel)",
   "language": "python",
   "name": "python3"
  },
  "language_info": {
   "codemirror_mode": {
    "name": "ipython",
    "version": 3
   },
   "file_extension": ".py",
   "mimetype": "text/x-python",
   "name": "python",
   "nbconvert_exporter": "python",
   "pygments_lexer": "ipython3",
   "version": "3.9.7"
  }
 },
 "nbformat": 4,
 "nbformat_minor": 5
}
