{
 "cells": [
  {
   "cell_type": "code",
   "execution_count": 2,
   "id": "fdaa35c4",
   "metadata": {},
   "outputs": [],
   "source": [
    "import matplotlib.pyplot as plt\n",
    "import pandas as pd\n",
    "import numpy as np\n",
    "import requests\n",
    "import gmaps\n",
    "import os\n",
    "from config import gkey\n",
    "from haversine import haversine\n",
    "from pprint import pprint\n",
    "\n",
    "# needed to clear output below\n",
    "from IPython.display import clear_output"
   ]
  },
  {
   "cell_type": "code",
   "execution_count": 3,
   "id": "d9dcc007",
   "metadata": {},
   "outputs": [
    {
     "data": {
      "text/html": [
       "<div>\n",
       "<style scoped>\n",
       "    .dataframe tbody tr th:only-of-type {\n",
       "        vertical-align: middle;\n",
       "    }\n",
       "\n",
       "    .dataframe tbody tr th {\n",
       "        vertical-align: top;\n",
       "    }\n",
       "\n",
       "    .dataframe thead th {\n",
       "        text-align: right;\n",
       "    }\n",
       "</style>\n",
       "<table border=\"1\" class=\"dataframe\">\n",
       "  <thead>\n",
       "    <tr style=\"text-align: right;\">\n",
       "      <th></th>\n",
       "      <th>index</th>\n",
       "      <th>ID</th>\n",
       "      <th>DATE</th>\n",
       "      <th>TIME</th>\n",
       "      <th>ZIP</th>\n",
       "      <th>BATTALION</th>\n",
       "      <th>SHIFT</th>\n",
       "      <th>COUNCIL DISTRICT</th>\n",
       "      <th>STRUCTURE TYPE</th>\n",
       "      <th>BUILDING STORIES</th>\n",
       "      <th>...</th>\n",
       "      <th>TOTAL SAVED</th>\n",
       "      <th>PERCENTAGE LOSS</th>\n",
       "      <th>SPRINKLER SYSTEM</th>\n",
       "      <th>ALARM SYSTEM</th>\n",
       "      <th>ADDRESS</th>\n",
       "      <th>Lat</th>\n",
       "      <th>Lng</th>\n",
       "      <th>TOTAL LOSS</th>\n",
       "      <th>Dist to 1st Station (mi)</th>\n",
       "      <th>Dist to 2nd Station (mi)</th>\n",
       "    </tr>\n",
       "  </thead>\n",
       "  <tbody>\n",
       "    <tr>\n",
       "      <th>0</th>\n",
       "      <td>0</td>\n",
       "      <td>17961.0</td>\n",
       "      <td>10/29/2019</td>\n",
       "      <td>08:21 PM</td>\n",
       "      <td>75216.0</td>\n",
       "      <td>6</td>\n",
       "      <td>A</td>\n",
       "      <td>4.0</td>\n",
       "      <td>DWELLING</td>\n",
       "      <td>1.0</td>\n",
       "      <td>...</td>\n",
       "      <td>161370.0</td>\n",
       "      <td>3.01</td>\n",
       "      <td>NaN</td>\n",
       "      <td>NaN</td>\n",
       "      <td>1325 S MARSALIS AVE</td>\n",
       "      <td>32.732107</td>\n",
       "      <td>-96.814783</td>\n",
       "      <td>5000.0</td>\n",
       "      <td>1.01</td>\n",
       "      <td>1.23</td>\n",
       "    </tr>\n",
       "  </tbody>\n",
       "</table>\n",
       "<p>1 rows × 25 columns</p>\n",
       "</div>"
      ],
      "text/plain": [
       "   index       ID        DATE      TIME      ZIP BATTALION SHIFT  \\\n",
       "0      0  17961.0  10/29/2019  08:21 PM  75216.0         6     A   \n",
       "\n",
       "   COUNCIL DISTRICT STRUCTURE TYPE  BUILDING STORIES  ... TOTAL SAVED  \\\n",
       "0               4.0       DWELLING               1.0  ...    161370.0   \n",
       "\n",
       "  PERCENTAGE LOSS  SPRINKLER SYSTEM  ALARM SYSTEM              ADDRESS  \\\n",
       "0            3.01               NaN           NaN  1325 S MARSALIS AVE   \n",
       "\n",
       "         Lat        Lng TOTAL LOSS Dist to 1st Station (mi)  \\\n",
       "0  32.732107 -96.814783     5000.0                     1.01   \n",
       "\n",
       "  Dist to 2nd Station (mi)  \n",
       "0                     1.23  \n",
       "\n",
       "[1 rows x 25 columns]"
      ]
     },
     "execution_count": 3,
     "metadata": {},
     "output_type": "execute_result"
    }
   ],
   "source": [
    "fire_data = pd.read_csv(\"Fire.csv\")\n",
    "fire_data.head(1)"
   ]
  },
  {
   "cell_type": "code",
   "execution_count": 4,
   "id": "49b9d8e9",
   "metadata": {},
   "outputs": [
    {
     "data": {
      "text/html": [
       "<div>\n",
       "<style scoped>\n",
       "    .dataframe tbody tr th:only-of-type {\n",
       "        vertical-align: middle;\n",
       "    }\n",
       "\n",
       "    .dataframe tbody tr th {\n",
       "        vertical-align: top;\n",
       "    }\n",
       "\n",
       "    .dataframe thead th {\n",
       "        text-align: right;\n",
       "    }\n",
       "</style>\n",
       "<table border=\"1\" class=\"dataframe\">\n",
       "  <thead>\n",
       "    <tr style=\"text-align: right;\">\n",
       "      <th></th>\n",
       "      <th>Lat</th>\n",
       "      <th>Lng</th>\n",
       "      <th>Dist to 1st Station (mi)</th>\n",
       "      <th>Dist to 2nd Station (mi)</th>\n",
       "    </tr>\n",
       "  </thead>\n",
       "  <tbody>\n",
       "    <tr>\n",
       "      <th>0</th>\n",
       "      <td>33.01025</td>\n",
       "      <td>-96.481611</td>\n",
       "      <td>2.21</td>\n",
       "      <td>2.76</td>\n",
       "    </tr>\n",
       "  </tbody>\n",
       "</table>\n",
       "</div>"
      ],
      "text/plain": [
       "        Lat        Lng  Dist to 1st Station (mi)  Dist to 2nd Station (mi)\n",
       "0  33.01025 -96.481611                      2.21                      2.76"
      ]
     },
     "execution_count": 4,
     "metadata": {},
     "output_type": "execute_result"
    }
   ],
   "source": [
    "dallas_coords_df = pd.read_csv(\"data/Dallas_coords_grid.csv\")\n",
    "dallas_coords_df.head(1)"
   ]
  },
  {
   "cell_type": "code",
   "execution_count": 9,
   "id": "a7fd8795",
   "metadata": {},
   "outputs": [
    {
     "data": {
      "text/html": [
       "<div>\n",
       "<style scoped>\n",
       "    .dataframe tbody tr th:only-of-type {\n",
       "        vertical-align: middle;\n",
       "    }\n",
       "\n",
       "    .dataframe tbody tr th {\n",
       "        vertical-align: top;\n",
       "    }\n",
       "\n",
       "    .dataframe thead th {\n",
       "        text-align: right;\n",
       "    }\n",
       "</style>\n",
       "<table border=\"1\" class=\"dataframe\">\n",
       "  <thead>\n",
       "    <tr style=\"text-align: right;\">\n",
       "      <th></th>\n",
       "      <th>Address</th>\n",
       "      <th>Lat</th>\n",
       "      <th>Lng</th>\n",
       "    </tr>\n",
       "  </thead>\n",
       "  <tbody>\n",
       "    <tr>\n",
       "      <th>0</th>\n",
       "      <td>1901 Irving Blvd.</td>\n",
       "      <td>32.794005</td>\n",
       "      <td>-96.827024</td>\n",
       "    </tr>\n",
       "    <tr>\n",
       "      <th>1</th>\n",
       "      <td>4211 Northhaven Road</td>\n",
       "      <td>32.902599</td>\n",
       "      <td>-96.837838</td>\n",
       "    </tr>\n",
       "    <tr>\n",
       "      <th>2</th>\n",
       "      <td>500 N. Malcolm X Blvd.</td>\n",
       "      <td>32.787163</td>\n",
       "      <td>-96.783337</td>\n",
       "    </tr>\n",
       "    <tr>\n",
       "      <th>3</th>\n",
       "      <td>816 South Akard Street</td>\n",
       "      <td>32.774245</td>\n",
       "      <td>-96.796156</td>\n",
       "    </tr>\n",
       "    <tr>\n",
       "      <th>4</th>\n",
       "      <td>2039 St. Augustine Drive</td>\n",
       "      <td>32.675624</td>\n",
       "      <td>-96.657310</td>\n",
       "    </tr>\n",
       "  </tbody>\n",
       "</table>\n",
       "</div>"
      ],
      "text/plain": [
       "                    Address        Lat        Lng\n",
       "0         1901 Irving Blvd.  32.794005 -96.827024\n",
       "1      4211 Northhaven Road  32.902599 -96.837838\n",
       "2    500 N. Malcolm X Blvd.  32.787163 -96.783337\n",
       "3    816 South Akard Street  32.774245 -96.796156\n",
       "4  2039 St. Augustine Drive  32.675624 -96.657310"
      ]
     },
     "execution_count": 9,
     "metadata": {},
     "output_type": "execute_result"
    }
   ],
   "source": [
    "fire_stations_df = pd.read_csv(\"data/fire_stations.csv\")\n",
    "fire_stations_df.head()"
   ]
  },
  {
   "cell_type": "markdown",
   "id": "f1776116",
   "metadata": {},
   "source": [
    "### Store fire station coords as list of lat/long"
   ]
  },
  {
   "cell_type": "code",
   "execution_count": 40,
   "id": "0bdd30f7",
   "metadata": {
    "scrolled": true
   },
   "outputs": [
    {
     "data": {
      "text/plain": [
       "[[32.7940047, -96.8270241],\n",
       " [32.9025987, -96.8378375],\n",
       " [32.7871627, -96.7833368],\n",
       " [32.7742453, -96.7961557],\n",
       " [32.6756243, -96.6573101],\n",
       " [32.7636404, -96.7721515],\n",
       " [32.9758442, -96.803919],\n",
       " [32.8101807, -96.776478],\n",
       " [32.67886860000001, -96.6101274],\n",
       " [32.9980252, -96.8323265],\n",
       " [32.8101255, -96.80968620000002],\n",
       " [32.6423703, -96.9530806],\n",
       " [32.9972654, -96.784076],\n",
       " [32.7416119, -96.8397527],\n",
       " [32.7486012, -96.8224998],\n",
       " [32.7754857, -96.9042909],\n",
       " [32.8176289, -96.7619042],\n",
       " [32.7836921, -96.8035866],\n",
       " [32.793779, -96.7468528],\n",
       " [32.9222122, -96.8117456],\n",
       " [32.8508639, -96.8592024],\n",
       " [32.9152172, -96.7687762],\n",
       " [32.72600560000001, -96.798973],\n",
       " [32.7521418, -96.7573146],\n",
       " [32.6840284, -96.7875083],\n",
       " [32.7445409, -96.8746074],\n",
       " [32.8652539, -96.8088819],\n",
       " [32.8955844, -96.7523766],\n",
       " [32.9163345, -96.7170817],\n",
       " [32.8946709, -96.8833143],\n",
       " [32.8326359, -96.7043139],\n",
       " [32.7743973, -96.6997596],\n",
       " [32.7196172, -96.8365236],\n",
       " [32.7337305, -96.6912531],\n",
       " [32.8809282, -96.8517692],\n",
       " [32.7819297, -96.8569179],\n",
       " [32.8684134, -96.7662114],\n",
       " [32.7082135, -96.7755497],\n",
       " [32.8451022, -96.6667772],\n",
       " [32.6544785, -96.8576827],\n",
       " [32.8944923, -96.8065065],\n",
       " [32.8357209, -96.836007],\n",
       " [32.8660501, -96.8776889],\n",
       " [32.7759564, -96.7518719],\n",
       " [32.7727473, -96.8350742],\n",
       " [32.662593, -96.8183945],\n",
       " [32.8148627, -96.8704395],\n",
       " [32.8642099, -96.7045207],\n",
       " [32.684747, -96.8574648],\n",
       " [32.7371695, -96.9207347],\n",
       " [32.6654577, -96.6556542],\n",
       " [32.7180872, -96.8909413],\n",
       " [32.8075227, -96.6935958],\n",
       " [32.6698487, -96.7605622],\n",
       " [32.8455682, -96.7465223],\n",
       " [32.9496195, -96.7823187],\n",
       " [32.8966262, -96.718337],\n",
       " [32.9309666, -96.984529]]"
      ]
     },
     "execution_count": 40,
     "metadata": {},
     "output_type": "execute_result"
    }
   ],
   "source": [
    "station_coords = []\n",
    "station_coords = [[row['Lat'], row['Lng']] for index, row in fire_stations_df.iterrows()]\n",
    "station_coords"
   ]
  },
  {
   "cell_type": "markdown",
   "id": "f73a0a1a",
   "metadata": {},
   "source": [
    "### Store distance to two nearest fire stations from each fire event."
   ]
  },
  {
   "cell_type": "code",
   "execution_count": 24,
   "id": "eab751de",
   "metadata": {},
   "outputs": [
    {
     "name": "stdout",
     "output_type": "stream",
     "text": [
      "save successful\n"
     ]
    }
   ],
   "source": [
    "station_dist_1 = []\n",
    "station_dist_2 = []\n",
    "\n",
    "for index, row in fire_data.iterrows():\n",
    "    \n",
    "\n",
    "    lat = row['Lat']\n",
    "    lng = row['Lng']\n",
    "    dist_list = []\n",
    "\n",
    "    for index1, row1 in fire_stations_df.iterrows():\n",
    "        lat1 = row1['Lat']\n",
    "        lng1 = row1['Lng']\n",
    "        dist = haversine(lat1,lng1,lat,lng,'mi')\n",
    "        dist_list.append(dist)\n",
    "    dist_list.sort()\n",
    "    station_dist_1.append(dist_list[0])\n",
    "    station_dist_2.append(dist_list[1])\n",
    "\n",
    "fire_data['Dist to 1st Station (mi)'] = station_dist_1\n",
    "fire_data['Dist to 2nd Station (mi)'] = station_dist_2\n",
    "fire_data['Dist to 1st Station (mi)'] = fire_data['Dist to 1st Station (mi)'].round(2)\n",
    "fire_data['Dist to 2nd Station (mi)'] = fire_data['Dist to 2nd Station (mi)'].round(2)\n",
    "\n",
    "try:\n",
    "    fire_data.to_csv('Fire.csv',index=False)\n",
    "    print('save successful')\n",
    "except:\n",
    "    print('save fail')\n"
   ]
  },
  {
   "cell_type": "markdown",
   "id": "e0e2326f",
   "metadata": {},
   "source": [
    "### Distance to nearest station for entire city of Dallas, regardless of fire event."
   ]
  },
  {
   "cell_type": "code",
   "execution_count": 25,
   "id": "19c813e7",
   "metadata": {},
   "outputs": [
    {
     "name": "stdout",
     "output_type": "stream",
     "text": [
      "save successful\n"
     ]
    }
   ],
   "source": [
    "station_dist_1 = []\n",
    "station_dist_2 = []\n",
    "\n",
    "for index, row in fire_data.iterrows():\n",
    "    \n",
    "\n",
    "    lat = row['Lat']\n",
    "    lng = row['Lng']\n",
    "    dist_list = []\n",
    "\n",
    "    for index1, row1 in dallas_coords_df.iterrows():\n",
    "        lat1 = row1['Lat']\n",
    "        lng1 = row1['Lng']\n",
    "        dist = haversine(lat1,lng1,lat,lng,'mi')\n",
    "        dist_list.append(dist)\n",
    "    dist_list.sort()\n",
    "    station_dist_1.append(dist_list[0])\n",
    "    station_dist_2.append(dist_list[1])\n",
    "fire_data['Dist to 1st Station (mi)'] = station_dist_1\n",
    "fire_data['Dist to 2nd Station (mi)'] = station_dist_2\n",
    "fire_data['Dist to 1st Station (mi)'] = fire_data['Dist to 1st Station (mi)'].round(2)\n",
    "fire_data['Dist to 2nd Station (mi)'] = fire_data['Dist to 2nd Station (mi)'].round(2)\n",
    "\n",
    "try:\n",
    "    fire_data.to_csv('data/Dallas_coords_grid.csv',index=False)\n",
    "    print('save successful')\n",
    "except:\n",
    "    print('save fail')\n"
   ]
  },
  {
   "cell_type": "markdown",
   "id": "7d4f3f18",
   "metadata": {},
   "source": [
    "### Map of existing fires and distance to closest fire station"
   ]
  },
  {
   "cell_type": "code",
   "execution_count": 32,
   "id": "4f155e12",
   "metadata": {},
   "outputs": [
    {
     "data": {
      "application/vnd.jupyter.widget-view+json": {
       "model_id": "da474835f8214b3c91cbecf9f3a2b616",
       "version_major": 2,
       "version_minor": 0
      },
      "text/plain": [
       "Figure(layout=FigureLayout(border='1px solid black', height='800px', padding='1px', width='800px'))"
      ]
     },
     "metadata": {},
     "output_type": "display_data"
    }
   ],
   "source": [
    "# configuration guide: https://jupyter-gmaps.readthedocs.io/en/latest/tutorial.html\n",
    "\n",
    "gmaps.configure(api_key=gkey)\n",
    "dallas_coords = (32.7767, -96.7970)\n",
    "figure_layout = {\n",
    "    'width': '800px',\n",
    "    'height': '800px',\n",
    "    'border': '1px solid black',\n",
    "    'padding': '1px',\n",
    "    \n",
    "}\n",
    "fig = gmaps.figure(layout=figure_layout)\n",
    "\n",
    "coordinates = fire_data[['Lat','Lng']]\n",
    "\n",
    "station_dist = fire_data['Dist to 1st Station (mi)']\n",
    "heat_layer = gmaps.heatmap_layer(coordinates, weights=station_dist, dissipating=False, max_intensity=4, point_radius=.015)\n",
    "fig.add_layer(heat_layer)\n",
    "\n",
    "markers = gmaps.marker_layer(dallas_points)\n",
    "# Add the layer to the map\n",
    "fig.add_layer(markers)\n",
    "\n",
    "fig\n"
   ]
  },
  {
   "cell_type": "code",
   "execution_count": null,
   "id": "be2187be",
   "metadata": {},
   "outputs": [],
   "source": []
  }
 ],
 "metadata": {
  "kernelspec": {
   "display_name": "Python 3 (ipykernel)",
   "language": "python",
   "name": "python3"
  },
  "language_info": {
   "codemirror_mode": {
    "name": "ipython",
    "version": 3
   },
   "file_extension": ".py",
   "mimetype": "text/x-python",
   "name": "python",
   "nbconvert_exporter": "python",
   "pygments_lexer": "ipython3",
   "version": "3.8.12"
  }
 },
 "nbformat": 4,
 "nbformat_minor": 5
}
