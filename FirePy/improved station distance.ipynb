{
 "cells": [
  {
   "cell_type": "code",
   "execution_count": 2,
   "id": "eed13ab2",
   "metadata": {},
   "outputs": [],
   "source": [
    "import matplotlib.pyplot as plt\n",
    "import pandas as pd\n",
    "import numpy as np\n",
    "import requests\n",
    "import gmaps\n",
    "import os\n",
    "from config import gkey\n",
    "from haversine import haversine\n",
    "from pprint import pprint\n",
    "\n",
    "# needed to clear output below\n",
    "from IPython.display import clear_output"
   ]
  },
  {
   "cell_type": "code",
   "execution_count": 3,
   "id": "22d7d1cf",
   "metadata": {},
   "outputs": [
    {
     "data": {
      "text/html": [
       "<div>\n",
       "<style scoped>\n",
       "    .dataframe tbody tr th:only-of-type {\n",
       "        vertical-align: middle;\n",
       "    }\n",
       "\n",
       "    .dataframe tbody tr th {\n",
       "        vertical-align: top;\n",
       "    }\n",
       "\n",
       "    .dataframe thead th {\n",
       "        text-align: right;\n",
       "    }\n",
       "</style>\n",
       "<table border=\"1\" class=\"dataframe\">\n",
       "  <thead>\n",
       "    <tr style=\"text-align: right;\">\n",
       "      <th></th>\n",
       "      <th>index</th>\n",
       "      <th>ID</th>\n",
       "      <th>DATE</th>\n",
       "      <th>TIME</th>\n",
       "      <th>ZIP</th>\n",
       "      <th>BATTALION</th>\n",
       "      <th>SHIFT</th>\n",
       "      <th>COUNCIL DISTRICT</th>\n",
       "      <th>STRUCTURE TYPE</th>\n",
       "      <th>BUILDING STORIES</th>\n",
       "      <th>...</th>\n",
       "      <th>TOTAL SAVED</th>\n",
       "      <th>PERCENTAGE LOSS</th>\n",
       "      <th>SPRINKLER SYSTEM</th>\n",
       "      <th>ALARM SYSTEM</th>\n",
       "      <th>ADDRESS</th>\n",
       "      <th>Lat</th>\n",
       "      <th>Lng</th>\n",
       "      <th>TOTAL LOSS</th>\n",
       "      <th>Dist to 1st Station (mi)</th>\n",
       "      <th>Dist to 2nd Station (mi)</th>\n",
       "    </tr>\n",
       "  </thead>\n",
       "  <tbody>\n",
       "    <tr>\n",
       "      <th>0</th>\n",
       "      <td>0</td>\n",
       "      <td>17961.0</td>\n",
       "      <td>10/29/2019</td>\n",
       "      <td>08:21 PM</td>\n",
       "      <td>75216.0</td>\n",
       "      <td>6</td>\n",
       "      <td>A</td>\n",
       "      <td>4.0</td>\n",
       "      <td>DWELLING</td>\n",
       "      <td>1.0</td>\n",
       "      <td>...</td>\n",
       "      <td>161370.0</td>\n",
       "      <td>3.01</td>\n",
       "      <td>NaN</td>\n",
       "      <td>NaN</td>\n",
       "      <td>1325 S MARSALIS AVE</td>\n",
       "      <td>32.732107</td>\n",
       "      <td>-96.814783</td>\n",
       "      <td>5000.0</td>\n",
       "      <td>1.01</td>\n",
       "      <td>1.23</td>\n",
       "    </tr>\n",
       "  </tbody>\n",
       "</table>\n",
       "<p>1 rows × 25 columns</p>\n",
       "</div>"
      ],
      "text/plain": [
       "   index       ID        DATE      TIME      ZIP BATTALION SHIFT  \\\n",
       "0      0  17961.0  10/29/2019  08:21 PM  75216.0         6     A   \n",
       "\n",
       "   COUNCIL DISTRICT STRUCTURE TYPE  BUILDING STORIES  ... TOTAL SAVED  \\\n",
       "0               4.0       DWELLING               1.0  ...    161370.0   \n",
       "\n",
       "  PERCENTAGE LOSS  SPRINKLER SYSTEM  ALARM SYSTEM              ADDRESS  \\\n",
       "0            3.01               NaN           NaN  1325 S MARSALIS AVE   \n",
       "\n",
       "         Lat        Lng TOTAL LOSS Dist to 1st Station (mi)  \\\n",
       "0  32.732107 -96.814783     5000.0                     1.01   \n",
       "\n",
       "  Dist to 2nd Station (mi)  \n",
       "0                     1.23  \n",
       "\n",
       "[1 rows x 25 columns]"
      ]
     },
     "execution_count": 3,
     "metadata": {},
     "output_type": "execute_result"
    }
   ],
   "source": [
    "fire_data = pd.read_csv(\"Fire.csv\")\n",
    "fire_data.head(1)"
   ]
  },
  {
   "cell_type": "code",
   "execution_count": 4,
   "id": "68b41fb6",
   "metadata": {},
   "outputs": [
    {
     "data": {
      "text/html": [
       "<div>\n",
       "<style scoped>\n",
       "    .dataframe tbody tr th:only-of-type {\n",
       "        vertical-align: middle;\n",
       "    }\n",
       "\n",
       "    .dataframe tbody tr th {\n",
       "        vertical-align: top;\n",
       "    }\n",
       "\n",
       "    .dataframe thead th {\n",
       "        text-align: right;\n",
       "    }\n",
       "</style>\n",
       "<table border=\"1\" class=\"dataframe\">\n",
       "  <thead>\n",
       "    <tr style=\"text-align: right;\">\n",
       "      <th></th>\n",
       "      <th>Lat</th>\n",
       "      <th>Lng</th>\n",
       "      <th>Dist to 1st Station (mi)</th>\n",
       "      <th>Dist to 2nd Station (mi)</th>\n",
       "    </tr>\n",
       "  </thead>\n",
       "  <tbody>\n",
       "    <tr>\n",
       "      <th>0</th>\n",
       "      <td>33.01025</td>\n",
       "      <td>-96.481611</td>\n",
       "      <td>2.21</td>\n",
       "      <td>2.76</td>\n",
       "    </tr>\n",
       "  </tbody>\n",
       "</table>\n",
       "</div>"
      ],
      "text/plain": [
       "        Lat        Lng  Dist to 1st Station (mi)  Dist to 2nd Station (mi)\n",
       "0  33.01025 -96.481611                      2.21                      2.76"
      ]
     },
     "execution_count": 4,
     "metadata": {},
     "output_type": "execute_result"
    }
   ],
   "source": [
    "dallas_coords_df = pd.read_csv(\"data/Dallas_coords_grid.csv\")\n",
    "dallas_coords_df.head(1)"
   ]
  },
  {
   "cell_type": "code",
   "execution_count": 9,
   "id": "efc68ca2",
   "metadata": {},
   "outputs": [
    {
     "data": {
      "text/html": [
       "<div>\n",
       "<style scoped>\n",
       "    .dataframe tbody tr th:only-of-type {\n",
       "        vertical-align: middle;\n",
       "    }\n",
       "\n",
       "    .dataframe tbody tr th {\n",
       "        vertical-align: top;\n",
       "    }\n",
       "\n",
       "    .dataframe thead th {\n",
       "        text-align: right;\n",
       "    }\n",
       "</style>\n",
       "<table border=\"1\" class=\"dataframe\">\n",
       "  <thead>\n",
       "    <tr style=\"text-align: right;\">\n",
       "      <th></th>\n",
       "      <th>Address</th>\n",
       "      <th>Lat</th>\n",
       "      <th>Lng</th>\n",
       "    </tr>\n",
       "  </thead>\n",
       "  <tbody>\n",
       "    <tr>\n",
       "      <th>0</th>\n",
       "      <td>1901 Irving Blvd.</td>\n",
       "      <td>32.794005</td>\n",
       "      <td>-96.827024</td>\n",
       "    </tr>\n",
       "    <tr>\n",
       "      <th>1</th>\n",
       "      <td>4211 Northhaven Road</td>\n",
       "      <td>32.902599</td>\n",
       "      <td>-96.837838</td>\n",
       "    </tr>\n",
       "    <tr>\n",
       "      <th>2</th>\n",
       "      <td>500 N. Malcolm X Blvd.</td>\n",
       "      <td>32.787163</td>\n",
       "      <td>-96.783337</td>\n",
       "    </tr>\n",
       "    <tr>\n",
       "      <th>3</th>\n",
       "      <td>816 South Akard Street</td>\n",
       "      <td>32.774245</td>\n",
       "      <td>-96.796156</td>\n",
       "    </tr>\n",
       "    <tr>\n",
       "      <th>4</th>\n",
       "      <td>2039 St. Augustine Drive</td>\n",
       "      <td>32.675624</td>\n",
       "      <td>-96.657310</td>\n",
       "    </tr>\n",
       "  </tbody>\n",
       "</table>\n",
       "</div>"
      ],
      "text/plain": [
       "                    Address        Lat        Lng\n",
       "0         1901 Irving Blvd.  32.794005 -96.827024\n",
       "1      4211 Northhaven Road  32.902599 -96.837838\n",
       "2    500 N. Malcolm X Blvd.  32.787163 -96.783337\n",
       "3    816 South Akard Street  32.774245 -96.796156\n",
       "4  2039 St. Augustine Drive  32.675624 -96.657310"
      ]
     },
     "execution_count": 9,
     "metadata": {},
     "output_type": "execute_result"
    }
   ],
   "source": [
    "fire_stations_df = pd.read_csv(\"data/fire_stations.csv\")\n",
    "fire_stations_df.head()"
   ]
  },
  {
   "cell_type": "markdown",
   "id": "e3422833",
   "metadata": {},
   "source": [
    "### Store distance to two nearest fire stations from each fire event."
   ]
  },
  {
   "cell_type": "code",
   "execution_count": 15,
   "id": "7f6a322d",
   "metadata": {},
   "outputs": [
    {
     "data": {
      "text/plain": [
       "621"
      ]
     },
     "execution_count": 15,
     "metadata": {},
     "output_type": "execute_result"
    }
   ],
   "source": [
    "station_dist_1 = []\n",
    "station_dist_2 = []\n",
    "\n",
    "for index, row in fire_data.iterrows():\n",
    "    \n",
    "\n",
    "    lat = row['Lat']\n",
    "    lng = row['Lng']\n",
    "    dist_list = []\n",
    "\n",
    "    for index1, row1 in fire_stations_df.iterrows():\n",
    "        lat1 = row1['Lat']\n",
    "        lng1 = row1['Lng']\n",
    "        dist = haversine(lat1,lng1,lat,lng,'mi')\n",
    "        dist_list.append(dist)\n",
    "    dist_list.sort()\n",
    "    station_dist_1.append(dist_list[0])\n",
    "    station_dist_2.append(dist_list[1])\n",
    "\n",
    "fire_data['Dist to 1st Station (mi)'] = station_dist_1\n",
    "fire_data['Dist to 2nd Station (mi)'] = station_dist_2\n",
    "fire_data.to_csv('Fire.csv')"
   ]
  },
  {
   "cell_type": "markdown",
   "id": "bca459b7",
   "metadata": {},
   "source": [
    "### Distance to nearest station for entire city of Dallas, regardless of fire event."
   ]
  },
  {
   "cell_type": "code",
   "execution_count": 16,
   "id": "139cbc74",
   "metadata": {},
   "outputs": [],
   "source": [
    "station_dist_1 = []\n",
    "station_dist_2 = []\n",
    "\n",
    "for index, row in fire_data.iterrows():\n",
    "    \n",
    "\n",
    "    lat = row['Lat']\n",
    "    lng = row['Lng']\n",
    "    dist_list = []\n",
    "\n",
    "    for index1, row1 in dallas_coords_df.iterrows():\n",
    "        lat1 = row1['Lat']\n",
    "        lng1 = row1['Lng']\n",
    "        dist = haversine(lat1,lng1,lat,lng,'mi')\n",
    "        dist_list.append(dist)\n",
    "    dist_list.sort()\n",
    "    station_dist_1.append(dist_list[0])\n",
    "    station_dist_2.append(dist_list[1])\n",
    "fire_data['Dist to 1st Station (mi)'] = station_dist_1\n",
    "fire_data['Dist to 2nd Station (mi)'] = station_dist_2\n",
    "fire_data.to_csv('data/Dallas_coords_grid.csv')"
   ]
  },
  {
   "cell_type": "code",
   "execution_count": null,
   "id": "0056c5e0",
   "metadata": {},
   "outputs": [],
   "source": [
    "\n"
   ]
  }
 ],
 "metadata": {
  "kernelspec": {
   "display_name": "Python 3 (ipykernel)",
   "language": "python",
   "name": "python3"
  },
  "language_info": {
   "codemirror_mode": {
    "name": "ipython",
    "version": 3
   },
   "file_extension": ".py",
   "mimetype": "text/x-python",
   "name": "python",
   "nbconvert_exporter": "python",
   "pygments_lexer": "ipython3",
   "version": "3.8.12"
  }
 },
 "nbformat": 4,
 "nbformat_minor": 5
}
