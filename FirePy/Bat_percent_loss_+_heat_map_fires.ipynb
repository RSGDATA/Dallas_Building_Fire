{
 "cells": [
  {
   "cell_type": "code",
   "execution_count": 1,
   "id": "496b0531",
   "metadata": {},
   "outputs": [],
   "source": [
    "import matplotlib.pyplot as plt\n",
    "import pandas as pd\n",
    "import numpy as np\n",
    "import requests\n",
    "import gmaps\n",
    "import os\n",
    "import seaborn as sns\n",
    "import seaborn as sb\n",
    "from config import gkey\n",
    "\n",
    "gmaps.configure(api_key=gkey)\n",
    "\n"
   ]
  },
  {
   "cell_type": "code",
   "execution_count": 25,
   "id": "c3c0850e",
   "metadata": {},
   "outputs": [],
   "source": [
    "for_plotting = pd.read_csv ('Fire.csv')\n",
    "for_plotting\n",
    "#Group inconsistent battallion names into one single integer battallion\n",
    "for_plotting=for_plotting.replace({\n",
    "    \"2B\":\"2\",\n",
    "    \"2C\":\"2\",\n",
    "    \"3C\":\"3\",\n",
    "    \"4C\":\"4\",\n",
    "    \"5B\":\"5\",\n",
    "    \"6A\":\"6\",\n",
    "    \"7A\":\"7\",\n",
    "    \"7B\":\"7\",\n",
    "    \"7B`\":\"7\",\n",
    "    \"8B\":\"8\",\n",
    "    \"8C\":\"8\",\n",
    "    \"9A\":\"9\",\n",
    "    \"9C\":\"9\"   \n",
    "})\n",
    "for_plotting\n",
    "\n",
    "for_plotting.to_csv(r'Fire.csv', index = False)"
   ]
  },
  {
   "cell_type": "code",
   "execution_count": 3,
   "id": "93886027",
   "metadata": {},
   "outputs": [
    {
     "data": {
      "text/plain": [
       "BATTALION\n",
       "1    14.047705\n",
       "2     4.122373\n",
       "3    10.243651\n",
       "4     6.423684\n",
       "5    13.121111\n",
       "6    11.848267\n",
       "7    11.857234\n",
       "8    13.867857\n",
       "9    14.656667\n",
       "Name: PERCENTAGE LOSS, dtype: float64"
      ]
     },
     "execution_count": 3,
     "metadata": {},
     "output_type": "execute_result"
    }
   ],
   "source": [
    "for_plotting['BATTALION'].count()\n",
    "#average percentloss by batallion\n",
    "avg_loss_by_battalion=for_plotting.groupby(['BATTALION']).mean()['PERCENTAGE LOSS']\n",
    "avg_loss_by_battalion"
   ]
  },
  {
   "cell_type": "code",
   "execution_count": 4,
   "id": "8eeab950",
   "metadata": {},
   "outputs": [
    {
     "name": "stdout",
     "output_type": "stream",
     "text": [
      "['1' '2' '3' '4' '5' '6' '7' '8' '9']\n"
     ]
    },
    {
     "data": {
      "text/plain": [
       "Text(0.5, 1.0, 'Average % Value Loss in Fires by Battalion')"
      ]
     },
     "execution_count": 4,
     "metadata": {},
     "output_type": "execute_result"
    },
    {
     "data": {
      "image/png": "[encoded data removed]",
      "text/plain": [
       "<Figure size 432x288 with 1 Axes>"
      ]
     },
     "metadata": {
      "needs_background": "light"
     },
     "output_type": "display_data"
    }
   ],
   "source": [
    "unique_battalion=for_plotting['BATTALION'].unique()\n",
    "unique_battalion.sort()\n",
    "print(unique_battalion)\n",
    "\n",
    "# plot avg. loss by battalion on scatter plot\n",
    "\n",
    "x_axis=unique_battalion\n",
    "y_axis=avg_loss_by_battalion\n",
    "plt.bar(x_axis,y_axis,color=['orange'])\n",
    "\n",
    "plt.xlabel(\"Batallion\")\n",
    "plt.ylabel(\"Average % Value Loss in Fires\")\n",
    "plt.title(\"Average % Value Loss in Fires by Battalion\")\n",
    "\n",
    "\n",
    "\n",
    "\n"
   ]
  },
  {
   "cell_type": "code",
   "execution_count": 5,
   "id": "3c22d601",
   "metadata": {},
   "outputs": [
    {
     "data": {
      "text/plain": [
       "0     -96.814783\n",
       "1     -96.857108\n",
       "2     -96.824020\n",
       "3     -96.764435\n",
       "4     -96.908816\n",
       "         ...    \n",
       "616   -96.694285\n",
       "617   -96.765385\n",
       "618   -96.726209\n",
       "619   -96.567056\n",
       "620   -96.802091\n",
       "Name: Lng, Length: 621, dtype: float64"
      ]
     },
     "execution_count": 5,
     "metadata": {},
     "output_type": "execute_result"
    }
   ],
   "source": [
    "lat_for_map=for_plotting['Lat'].astype(float)\n",
    "lat_for_map.astype(float)\n",
    "\n",
    "lng_for_map=for_plotting['Lng'].astype(float)\n",
    "lng_for_map.astype(float)\n",
    "\n",
    "\n"
   ]
  },
  {
   "cell_type": "code",
   "execution_count": 19,
   "id": "571cd6d4",
   "metadata": {},
   "outputs": [],
   "source": [
    "#HEATMAP\n",
    "\n",
    "# Store 'Lat' and 'Lng' into  locations \n",
    "coordinates = for_plotting[[\"Lat\", \"Lng\"]].astype(float)\n",
    "\n",
    "# Convert Poverty Rate to float and store\n",
    "# HINT: be sure to handle NaN values\n",
    "percentage_value_lost = for_plotting[\"PERCENTAGE LOSS\"].astype(float)/100"
   ]
  },
  {
   "cell_type": "code",
   "execution_count": 24,
   "id": "57b3a1a7",
   "metadata": {},
   "outputs": [
    {
     "data": {
      "application/vnd.jupyter.widget-view+json": {
       "model_id": "b9d4f788fb35496da685e5af5d6964cf",
       "version_major": 2,
       "version_minor": 0
      },
      "text/plain": [
       "Figure(layout=FigureLayout(height='420px'))"
      ]
     },
     "metadata": {},
     "output_type": "display_data"
    }
   ],
   "source": [
    "# Create a poverty Heatmap layer\n",
    "fig = gmaps.figure()\n",
    "\n",
    "heat_layer = gmaps.heatmap_layer(coordinates, weights=percentage_value_lost,\n",
    "                                 dissipating=False, max_intensity=3.5, point_radius=0.02)\n",
    "\n",
    "fig.add_layer(heat_layer)\n",
    "\n",
    "fig"
   ]
  },
  {
   "cell_type": "code",
   "execution_count": null,
   "id": "227c07fa",
   "metadata": {},
   "outputs": [],
   "source": []
  },
  {
   "cell_type": "code",
   "execution_count": null,
   "id": "fd14e115",
   "metadata": {},
   "outputs": [],
   "source": []
  }
 ],
 "metadata": {
  "kernelspec": {
   "display_name": "Python 3 (ipykernel)",
   "language": "python",
   "name": "python3"
  },
  "language_info": {
   "codemirror_mode": {
    "name": "ipython",
    "version": 3
   },
   "file_extension": ".py",
   "mimetype": "text/x-python",
   "name": "python",
   "nbconvert_exporter": "python",
   "pygments_lexer": "ipython3",
   "version": "3.9.7"
  }
 },
 "nbformat": 4,
 "nbformat_minor": 5
}
