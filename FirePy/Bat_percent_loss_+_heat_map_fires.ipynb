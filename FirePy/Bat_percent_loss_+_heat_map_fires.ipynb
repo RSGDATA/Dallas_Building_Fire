{
 "cells": [
  {
   "cell_type": "code",
   "execution_count": 11,
   "id": "496b0531",
   "metadata": {},
   "outputs": [],
   "source": [
    "import matplotlib.pyplot as plt\n",
    "import pandas as pd\n",
    "import numpy as np\n",
    "import requests\n",
    "import gmaps\n",
    "import gmaps.datasets \n",
    "import os\n",
    "import seaborn as sns\n",
    "import seaborn as sb\n",
    "from config import gkey\n",
    "import matplotlib.colors as mc\n",
    "\n",
    "gmaps.configure(api_key=gkey)\n"
   ]
  },
  {
   "cell_type": "code",
   "execution_count": 12,
   "id": "c3c0850e",
   "metadata": {},
   "outputs": [
    {
     "data": {
      "text/plain": [
       "array([6, 7, 5, 2, 9, 8, 1, 4, 3], dtype=int64)"
      ]
     },
     "execution_count": 12,
     "metadata": {},
     "output_type": "execute_result"
    }
   ],
   "source": [
    "for_plotting = pd.read_csv('Fire.csv')\n",
    "for_plotting\n",
    "\n",
    "for_plotting['BATTALION']=for_plotting['BATTALION'].replace({\n",
    "    \"2B\":\"2\",\n",
    "    \"2C\":\"2\",\n",
    "    \"3C\":\"3\",\n",
    "    \"4C\":\"4\",\n",
    "    \"5B\":\"5\",\n",
    "    \"6A\":\"6\",\n",
    "    \"7A\":\"7\",\n",
    "    \"7B\":\"7\",\n",
    "    \"7B`\":\"7\",\n",
    "    \"8B\":\"8\",\n",
    "    \"8C\":\"8\",\n",
    "    \"9A\":\"9\",\n",
    "    \"9C\":\"9\"   \n",
    "})\n",
    "for_plotting\n",
    "\n",
    "# for_plotting=for_plotting.dropna()\n",
    "for_plotting['BATTALION'].unique()\n",
    "\n"
   ]
  },
  {
   "cell_type": "code",
   "execution_count": 13,
   "id": "7298b586",
   "metadata": {},
   "outputs": [],
   "source": [
    "for_plotting.to_csv('Fire.csv',index=False)"
   ]
  },
  {
   "cell_type": "code",
   "execution_count": 14,
   "id": "d7ce97aa",
   "metadata": {},
   "outputs": [
    {
     "data": {
      "text/html": [
       "<div>\n",
       "<style scoped>\n",
       "    .dataframe tbody tr th:only-of-type {\n",
       "        vertical-align: middle;\n",
       "    }\n",
       "\n",
       "    .dataframe tbody tr th {\n",
       "        vertical-align: top;\n",
       "    }\n",
       "\n",
       "    .dataframe thead th {\n",
       "        text-align: right;\n",
       "    }\n",
       "</style>\n",
       "<table border=\"1\" class=\"dataframe\">\n",
       "  <thead>\n",
       "    <tr style=\"text-align: right;\">\n",
       "      <th></th>\n",
       "      <th>ID</th>\n",
       "      <th>DATE</th>\n",
       "      <th>TIME</th>\n",
       "      <th>ZIP</th>\n",
       "      <th>BATTALION</th>\n",
       "      <th>SHIFT</th>\n",
       "      <th>COUNCIL DISTRICT</th>\n",
       "      <th>STRUCTURE TYPE</th>\n",
       "      <th>BUILDING STORIES</th>\n",
       "      <th>CONSTRUCTION</th>\n",
       "      <th>...</th>\n",
       "      <th>TOTAL SAVED</th>\n",
       "      <th>PERCENTAGE LOSS</th>\n",
       "      <th>SPRINKLER SYSTEM</th>\n",
       "      <th>ALARM SYSTEM</th>\n",
       "      <th>ADDRESS</th>\n",
       "      <th>Lat</th>\n",
       "      <th>Lng</th>\n",
       "      <th>TOTAL LOSS</th>\n",
       "      <th>Dist to 1st Station (mi)</th>\n",
       "      <th>Dist to 2nd Station (mi)</th>\n",
       "    </tr>\n",
       "  </thead>\n",
       "  <tbody>\n",
       "    <tr>\n",
       "      <th>0</th>\n",
       "      <td>17961.0</td>\n",
       "      <td>10/29/2019</td>\n",
       "      <td>8:21 PM</td>\n",
       "      <td>75216.0</td>\n",
       "      <td>6</td>\n",
       "      <td>A</td>\n",
       "      <td>4.0</td>\n",
       "      <td>DWELLING</td>\n",
       "      <td>1.0</td>\n",
       "      <td>WOOD</td>\n",
       "      <td>...</td>\n",
       "      <td>161370</td>\n",
       "      <td>3.01</td>\n",
       "      <td>NaN</td>\n",
       "      <td>NaN</td>\n",
       "      <td>1325 S MARSALIS AVE</td>\n",
       "      <td>32.732107</td>\n",
       "      <td>-96.814783</td>\n",
       "      <td>5000</td>\n",
       "      <td>1.01</td>\n",
       "      <td>1.23</td>\n",
       "    </tr>\n",
       "    <tr>\n",
       "      <th>1</th>\n",
       "      <td>17962.0</td>\n",
       "      <td>10/30/2019</td>\n",
       "      <td>3:42 AM</td>\n",
       "      <td>75229.0</td>\n",
       "      <td>7</td>\n",
       "      <td>A</td>\n",
       "      <td>13.0</td>\n",
       "      <td>DWELLING</td>\n",
       "      <td>1.0</td>\n",
       "      <td>WOOD</td>\n",
       "      <td>...</td>\n",
       "      <td>525470</td>\n",
       "      <td>1.87</td>\n",
       "      <td>NaN</td>\n",
       "      <td>NaN</td>\n",
       "      <td>10728 LATHROP DR</td>\n",
       "      <td>32.894248</td>\n",
       "      <td>-96.857108</td>\n",
       "      <td>10000</td>\n",
       "      <td>0.97</td>\n",
       "      <td>1.26</td>\n",
       "    </tr>\n",
       "    <tr>\n",
       "      <th>2</th>\n",
       "      <td>17963.0</td>\n",
       "      <td>10/30/2019</td>\n",
       "      <td>10:47 AM</td>\n",
       "      <td>75241.0</td>\n",
       "      <td>5</td>\n",
       "      <td>B</td>\n",
       "      <td>3.0</td>\n",
       "      <td>DWELLING</td>\n",
       "      <td>1.0</td>\n",
       "      <td>WOOD</td>\n",
       "      <td>...</td>\n",
       "      <td>286000</td>\n",
       "      <td>6.54</td>\n",
       "      <td>NaN</td>\n",
       "      <td>NaN</td>\n",
       "      <td>6205 S R L THORNTON SERV</td>\n",
       "      <td>32.694543</td>\n",
       "      <td>-96.824020</td>\n",
       "      <td>20000</td>\n",
       "      <td>1.88</td>\n",
       "      <td>2.06</td>\n",
       "    </tr>\n",
       "    <tr>\n",
       "      <th>3</th>\n",
       "      <td>17964.0</td>\n",
       "      <td>10/30/2019</td>\n",
       "      <td>5:32 PM</td>\n",
       "      <td>75243.0</td>\n",
       "      <td>2</td>\n",
       "      <td>B</td>\n",
       "      <td>10.0</td>\n",
       "      <td>DWELLING</td>\n",
       "      <td>1.0</td>\n",
       "      <td>WOOD</td>\n",
       "      <td>...</td>\n",
       "      <td>114710</td>\n",
       "      <td>9.47</td>\n",
       "      <td>NaN</td>\n",
       "      <td>NaN</td>\n",
       "      <td>12044 WILLOWDELL DR</td>\n",
       "      <td>32.913584</td>\n",
       "      <td>-96.764435</td>\n",
       "      <td>12000</td>\n",
       "      <td>0.27</td>\n",
       "      <td>1.43</td>\n",
       "    </tr>\n",
       "    <tr>\n",
       "      <th>4</th>\n",
       "      <td>17965.0</td>\n",
       "      <td>10/30/2019</td>\n",
       "      <td>11:03 AM</td>\n",
       "      <td>75212.0</td>\n",
       "      <td>9</td>\n",
       "      <td>B</td>\n",
       "      <td>6.0</td>\n",
       "      <td>DWELLING</td>\n",
       "      <td>1.0</td>\n",
       "      <td>WOOD</td>\n",
       "      <td>...</td>\n",
       "      <td>29000</td>\n",
       "      <td>65.48</td>\n",
       "      <td>NaN</td>\n",
       "      <td>NaN</td>\n",
       "      <td>2212 LAPSLEY ST</td>\n",
       "      <td>32.769986</td>\n",
       "      <td>-96.908816</td>\n",
       "      <td>55000</td>\n",
       "      <td>0.46</td>\n",
       "      <td>2.37</td>\n",
       "    </tr>\n",
       "    <tr>\n",
       "      <th>...</th>\n",
       "      <td>...</td>\n",
       "      <td>...</td>\n",
       "      <td>...</td>\n",
       "      <td>...</td>\n",
       "      <td>...</td>\n",
       "      <td>...</td>\n",
       "      <td>...</td>\n",
       "      <td>...</td>\n",
       "      <td>...</td>\n",
       "      <td>...</td>\n",
       "      <td>...</td>\n",
       "      <td>...</td>\n",
       "      <td>...</td>\n",
       "      <td>...</td>\n",
       "      <td>...</td>\n",
       "      <td>...</td>\n",
       "      <td>...</td>\n",
       "      <td>...</td>\n",
       "      <td>...</td>\n",
       "      <td>...</td>\n",
       "      <td>...</td>\n",
       "    </tr>\n",
       "    <tr>\n",
       "      <th>616</th>\n",
       "      <td>18414.0</td>\n",
       "      <td>9/3/2020</td>\n",
       "      <td>2:12 AM</td>\n",
       "      <td>75227.0</td>\n",
       "      <td>8</td>\n",
       "      <td>A</td>\n",
       "      <td>7.0</td>\n",
       "      <td>DWELLING</td>\n",
       "      <td>1.0</td>\n",
       "      <td>WOOD</td>\n",
       "      <td>...</td>\n",
       "      <td>243500</td>\n",
       "      <td>6.70</td>\n",
       "      <td>NO</td>\n",
       "      <td>YES</td>\n",
       "      <td>5024 URBAN AVE</td>\n",
       "      <td>32.783636</td>\n",
       "      <td>-96.694285</td>\n",
       "      <td>17500</td>\n",
       "      <td>0.71</td>\n",
       "      <td>1.65</td>\n",
       "    </tr>\n",
       "    <tr>\n",
       "      <th>617</th>\n",
       "      <td>18459.0</td>\n",
       "      <td>9/19/2020</td>\n",
       "      <td>8:49 AM</td>\n",
       "      <td>75214.0</td>\n",
       "      <td>3</td>\n",
       "      <td>C</td>\n",
       "      <td>14.0</td>\n",
       "      <td>APARTMENTS</td>\n",
       "      <td>2.0</td>\n",
       "      <td>WOOD</td>\n",
       "      <td>...</td>\n",
       "      <td>2237763</td>\n",
       "      <td>0.11</td>\n",
       "      <td>NaN</td>\n",
       "      <td>NaN</td>\n",
       "      <td>5307 GASTON AVE</td>\n",
       "      <td>32.803882</td>\n",
       "      <td>-96.765385</td>\n",
       "      <td>2500</td>\n",
       "      <td>0.78</td>\n",
       "      <td>0.97</td>\n",
       "    </tr>\n",
       "    <tr>\n",
       "      <th>618</th>\n",
       "      <td>18496.0</td>\n",
       "      <td>9/24/2020</td>\n",
       "      <td>7:11 PM</td>\n",
       "      <td>75243.0</td>\n",
       "      <td>4</td>\n",
       "      <td>B</td>\n",
       "      <td>10.0</td>\n",
       "      <td>APARTMENTS</td>\n",
       "      <td>3.0</td>\n",
       "      <td>WOOD</td>\n",
       "      <td>...</td>\n",
       "      <td>7357630</td>\n",
       "      <td>0.00</td>\n",
       "      <td>YES</td>\n",
       "      <td>NaN</td>\n",
       "      <td>218 W FERRIS BRANCH BLVD</td>\n",
       "      <td>32.903830</td>\n",
       "      <td>-96.726209</td>\n",
       "      <td>200</td>\n",
       "      <td>0.68</td>\n",
       "      <td>1.02</td>\n",
       "    </tr>\n",
       "    <tr>\n",
       "      <th>619</th>\n",
       "      <td>18514.0</td>\n",
       "      <td>9/30/2020</td>\n",
       "      <td>7:15 AM</td>\n",
       "      <td>75253.0</td>\n",
       "      <td>8</td>\n",
       "      <td>B</td>\n",
       "      <td>8.0</td>\n",
       "      <td>SHED</td>\n",
       "      <td>1.0</td>\n",
       "      <td>METAL</td>\n",
       "      <td>...</td>\n",
       "      <td>900</td>\n",
       "      <td>40.00</td>\n",
       "      <td>NO</td>\n",
       "      <td>NO</td>\n",
       "      <td>14770 LASATER RD</td>\n",
       "      <td>32.692136</td>\n",
       "      <td>-96.567056</td>\n",
       "      <td>600</td>\n",
       "      <td>2.49</td>\n",
       "      <td>2.61</td>\n",
       "    </tr>\n",
       "    <tr>\n",
       "      <th>620</th>\n",
       "      <td>NaN</td>\n",
       "      <td>2/1/2020</td>\n",
       "      <td>4:29 PM</td>\n",
       "      <td>75216.0</td>\n",
       "      <td>5</td>\n",
       "      <td>C</td>\n",
       "      <td>4.0</td>\n",
       "      <td>DWELLING</td>\n",
       "      <td>1.0</td>\n",
       "      <td>WOOD</td>\n",
       "      <td>...</td>\n",
       "      <td>169300</td>\n",
       "      <td>1.19</td>\n",
       "      <td>NO</td>\n",
       "      <td>NO</td>\n",
       "      <td>1542 FORDHAM RD</td>\n",
       "      <td>32.696174</td>\n",
       "      <td>-96.802091</td>\n",
       "      <td>2040</td>\n",
       "      <td>1.19</td>\n",
       "      <td>1.76</td>\n",
       "    </tr>\n",
       "  </tbody>\n",
       "</table>\n",
       "<p>621 rows × 24 columns</p>\n",
       "</div>"
      ],
      "text/plain": [
       "          ID        DATE      TIME      ZIP  BATTALION SHIFT  \\\n",
       "0    17961.0  10/29/2019   8:21 PM  75216.0          6     A   \n",
       "1    17962.0  10/30/2019   3:42 AM  75229.0          7     A   \n",
       "2    17963.0  10/30/2019  10:47 AM  75241.0          5     B   \n",
       "3    17964.0  10/30/2019   5:32 PM  75243.0          2     B   \n",
       "4    17965.0  10/30/2019  11:03 AM  75212.0          9     B   \n",
       "..       ...         ...       ...      ...        ...   ...   \n",
       "616  18414.0    9/3/2020   2:12 AM  75227.0          8     A   \n",
       "617  18459.0   9/19/2020   8:49 AM  75214.0          3     C   \n",
       "618  18496.0   9/24/2020   7:11 PM  75243.0          4     B   \n",
       "619  18514.0   9/30/2020   7:15 AM  75253.0          8     B   \n",
       "620      NaN    2/1/2020   4:29 PM  75216.0          5     C   \n",
       "\n",
       "     COUNCIL DISTRICT STRUCTURE TYPE  BUILDING STORIES CONSTRUCTION  ...  \\\n",
       "0                 4.0       DWELLING               1.0         WOOD  ...   \n",
       "1                13.0       DWELLING               1.0         WOOD  ...   \n",
       "2                 3.0       DWELLING               1.0         WOOD  ...   \n",
       "3                10.0       DWELLING               1.0         WOOD  ...   \n",
       "4                 6.0       DWELLING               1.0         WOOD  ...   \n",
       "..                ...            ...               ...          ...  ...   \n",
       "616               7.0       DWELLING               1.0         WOOD  ...   \n",
       "617              14.0     APARTMENTS               2.0         WOOD  ...   \n",
       "618              10.0     APARTMENTS               3.0         WOOD  ...   \n",
       "619               8.0           SHED               1.0        METAL  ...   \n",
       "620               4.0       DWELLING               1.0         WOOD  ...   \n",
       "\n",
       "    TOTAL SAVED  PERCENTAGE LOSS  SPRINKLER SYSTEM  ALARM SYSTEM  \\\n",
       "0        161370             3.01               NaN           NaN   \n",
       "1        525470             1.87               NaN           NaN   \n",
       "2        286000             6.54               NaN           NaN   \n",
       "3        114710             9.47               NaN           NaN   \n",
       "4         29000            65.48               NaN           NaN   \n",
       "..          ...              ...               ...           ...   \n",
       "616      243500             6.70                NO           YES   \n",
       "617     2237763             0.11               NaN           NaN   \n",
       "618     7357630             0.00               YES           NaN   \n",
       "619         900            40.00                NO            NO   \n",
       "620      169300             1.19                NO            NO   \n",
       "\n",
       "                      ADDRESS        Lat        Lng TOTAL LOSS  \\\n",
       "0         1325 S MARSALIS AVE  32.732107 -96.814783       5000   \n",
       "1            10728 LATHROP DR  32.894248 -96.857108      10000   \n",
       "2    6205 S R L THORNTON SERV  32.694543 -96.824020      20000   \n",
       "3         12044 WILLOWDELL DR  32.913584 -96.764435      12000   \n",
       "4             2212 LAPSLEY ST  32.769986 -96.908816      55000   \n",
       "..                        ...        ...        ...        ...   \n",
       "616            5024 URBAN AVE  32.783636 -96.694285      17500   \n",
       "617           5307 GASTON AVE  32.803882 -96.765385       2500   \n",
       "618  218 W FERRIS BRANCH BLVD  32.903830 -96.726209        200   \n",
       "619          14770 LASATER RD  32.692136 -96.567056        600   \n",
       "620           1542 FORDHAM RD  32.696174 -96.802091       2040   \n",
       "\n",
       "    Dist to 1st Station (mi)  Dist to 2nd Station (mi)  \n",
       "0                       1.01                      1.23  \n",
       "1                       0.97                      1.26  \n",
       "2                       1.88                      2.06  \n",
       "3                       0.27                      1.43  \n",
       "4                       0.46                      2.37  \n",
       "..                       ...                       ...  \n",
       "616                     0.71                      1.65  \n",
       "617                     0.78                      0.97  \n",
       "618                     0.68                      1.02  \n",
       "619                     2.49                      2.61  \n",
       "620                     1.19                      1.76  \n",
       "\n",
       "[621 rows x 24 columns]"
      ]
     },
     "execution_count": 14,
     "metadata": {},
     "output_type": "execute_result"
    }
   ],
   "source": [
    "for_plotting"
   ]
  },
  {
   "cell_type": "code",
   "execution_count": 15,
   "id": "da7789e0",
   "metadata": {},
   "outputs": [
    {
     "data": {
      "text/plain": [
       "count    621.000000\n",
       "mean      11.013011\n",
       "std       18.784545\n",
       "min        0.000000\n",
       "25%        0.080000\n",
       "50%        1.110000\n",
       "75%       12.110000\n",
       "max       94.580000\n",
       "Name: PERCENTAGE LOSS, dtype: float64"
      ]
     },
     "execution_count": 15,
     "metadata": {},
     "output_type": "execute_result"
    }
   ],
   "source": [
    "percentage_loss= for_plotting['PERCENTAGE LOSS']\n",
    "percentage_loss\n",
    "percentage_loss.describe()\n"
   ]
  },
  {
   "cell_type": "code",
   "execution_count": 16,
   "id": "93886027",
   "metadata": {},
   "outputs": [
    {
     "data": {
      "text/plain": [
       "BATTALION\n",
       "1    14.047705\n",
       "2     4.122373\n",
       "3    10.243651\n",
       "4     6.423684\n",
       "5    13.121111\n",
       "6    11.848267\n",
       "7    11.857234\n",
       "8    13.867857\n",
       "9    14.656667\n",
       "Name: PERCENTAGE LOSS, dtype: float64"
      ]
     },
     "execution_count": 16,
     "metadata": {},
     "output_type": "execute_result"
    }
   ],
   "source": [
    "for_plotting['BATTALION'].count()\n",
    "#average percentloss by batallion\n",
    "avg_loss_by_battalion=for_plotting.groupby(['BATTALION']).mean()['PERCENTAGE LOSS']\n",
    "avg_loss_by_battalion"
   ]
  },
  {
   "cell_type": "code",
   "execution_count": 75,
   "id": "39d6b159",
   "metadata": {},
   "outputs": [],
   "source": [
    "#create a list for colors to index into for future use\n",
    "color_list=[(0,1,0),(0,0,.99),(1,0,0),(1,.64,0),(1,.41,.71),\"#8601AF\",(.25,.88,.81),(.59,.29,0),(.5,.5,.5)]\n",
    "#color_list=(green,blue,red,orange,pink, violet, turqoise, brown, grey)"
   ]
  },
  {
   "cell_type": "code",
   "execution_count": 8,
   "id": "8eeab950",
   "metadata": {
    "scrolled": true
   },
   "outputs": [
    {
     "data": {
      "text/plain": [
       "BATTALION          621\n",
       "PERCENTAGE LOSS    621\n",
       "dtype: int64"
      ]
     },
     "execution_count": 8,
     "metadata": {},
     "output_type": "execute_result"
    }
   ],
   "source": [
    "unique_battalion=for_plotting[['BATTALION','PERCENTAGE LOSS']]\n",
    "unique_battalion\n",
    "\n",
    "unique_battalion=unique_battalion.groupby(['BATTALION']).mean()\n",
    "unique_battalion=unique_battalion.reset_index()\n",
    "unique_battalion\n",
    "\n",
    "# plot avg. loss by battalion on bar chart\n",
    "\n",
    "x_axis=unique_battalion['BATTALION']\n",
    "y_axis=unique_battalion['PERCENTAGE LOSS']\n",
    "plt.xticks(np.arange(0,10,1))\n",
    "plt.bar(x_axis,y_axis,color=color_list)\n",
    "\n",
    "\n",
    "plt.xlabel(\"Batallion\")\n",
    "plt.ylabel(\"Average % Value Loss in Fires\")\n",
    "plt.title(\"Average % Value Loss in Fires by Battalion\")\n",
    "\n",
    "plt.show()\n",
    "\n",
    "\n"
   ]
  },
  {
   "cell_type": "code",
   "execution_count": 81,
   "id": "e7b44af3",
   "metadata": {},
   "outputs": [
    {
     "data": {
      "image/png": "[encoded data removed]",
      "text/plain": [
       "<Figure size 432x288 with 1 Axes>"
      ]
     },
     "metadata": {
      "needs_background": "light"
     },
     "output_type": "display_data"
    }
   ],
   "source": [
    "#median of Value % loss in fires by battalion\n",
    "#median percent value loss by batallion\n",
    "median_loss_by_battalion=for_plotting.groupby(['BATTALION']).median()\n",
    "median_loss_by_battalion=median_loss_by_battalion.reset_index()\n",
    "median_loss_by_battalion\n",
    "\n",
    "x_axis=median_loss_by_battalion['BATTALION']\n",
    "y_axis=median_loss_by_battalion['PERCENTAGE LOSS']\n",
    "\n",
    "plt.xticks(np.arange(0,10,1))\n",
    "plt.bar(x_axis,y_axis,color=color_list)\n",
    "\n",
    "plt.xlabel(\"Batallion\")\n",
    "plt.ylabel(\"Median % Value Loss in Fires\")\n",
    "plt.title(\"Median % Value Loss in Fires by Battalion\")\n",
    "plt.show()\n"
   ]
  },
  {
   "cell_type": "code",
   "execution_count": 20,
   "id": "553c7cac",
   "metadata": {},
   "outputs": [
    {
     "data": {
      "text/plain": [
       "BATTALION\n",
       "1    61\n",
       "2    59\n",
       "3    63\n",
       "4    95\n",
       "5    80\n",
       "6    75\n",
       "7    47\n",
       "8    98\n",
       "9    42\n",
       "Name: ID, dtype: int64"
      ]
     },
     "execution_count": 20,
     "metadata": {},
     "output_type": "execute_result"
    }
   ],
   "source": [
    "#count of each fires by battalion\n",
    "count_by_battalion=for_plotting.groupby(['BATTALION'])\n",
    "count_by_battalion['ID'].count()\n"
   ]
  },
  {
   "cell_type": "code",
   "execution_count": 111,
   "id": "7d614832",
   "metadata": {},
   "outputs": [
    {
     "data": {
      "text/plain": [
       "<function matplotlib.pyplot.show(close=None, block=None)>"
      ]
     },
     "execution_count": 111,
     "metadata": {},
     "output_type": "execute_result"
    },
    {
     "data": {
      "image/png": "[encoded data removed]",
      "text/plain": [
       "<Figure size 432x288 with 1 Axes>"
      ]
     },
     "metadata": {
      "needs_background": "light"
     },
     "output_type": "display_data"
    }
   ],
   "source": [
    "#Box Plot for above data. Define the columns that we want for each battalion and its respective array of Percentage Loss\n",
    "\n",
    "b1_percentloss=for_plotting.loc[for_plotting['BATTALION']==\"1\"]\n",
    "b1_percentloss_list=b1_percentloss['PERCENTAGE LOSS']\n",
    "b1_percentloss_list\n",
    "\n",
    "b2_percentloss=for_plotting.loc[for_plotting['BATTALION']==\"2\"]\n",
    "b2_percentloss_list=b2_percentloss['PERCENTAGE LOSS']\n",
    "b2_percentloss_list\n",
    "\n",
    "b3_percentloss=for_plotting.loc[for_plotting['BATTALION']==\"3\"]\n",
    "b3_percentloss_list=b3_percentloss['PERCENTAGE LOSS']\n",
    "b3_percentloss_list\n",
    "\n",
    "b4_percentloss=for_plotting.loc[for_plotting['BATTALION']==\"4\"]\n",
    "b4_percentloss_list=b4_percentloss['PERCENTAGE LOSS']\n",
    "b4_percentloss_list\n",
    "\n",
    "b5_percentloss=for_plotting.loc[for_plotting['BATTALION']==\"5\"]\n",
    "b5_percentloss_list=b5_percentloss['PERCENTAGE LOSS']\n",
    "b5_percentloss_list\n",
    "\n",
    "b6_percentloss=for_plotting.loc[for_plotting['BATTALION']==\"6\"]\n",
    "b6_percentloss_list=b6_percentloss['PERCENTAGE LOSS']\n",
    "b6_percentloss_list\n",
    "\n",
    "b7_percentloss=for_plotting.loc[for_plotting['BATTALION']==\"7\"]\n",
    "b7_percentloss_list=b7_percentloss['PERCENTAGE LOSS']\n",
    "b7_percentloss_list\n",
    "\n",
    "b8_percentloss=for_plotting.loc[for_plotting['BATTALION']==\"8\"]\n",
    "b8_percentloss_list=b8_percentloss['PERCENTAGE LOSS']\n",
    "b8_percentloss_list\n",
    "\n",
    "b9_percentloss=for_plotting.loc[for_plotting['BATTALION']==\"9\"]\n",
    "b9_percentloss_list=b9_percentloss['PERCENTAGE LOSS']\n",
    "b9_percentloss_list\n",
    "\n",
    "columns=[b1_percentloss_list,b2_percentloss_list,b3_percentloss_list,b4_percentloss_list,b5_percentloss_list,\n",
    "        b6_percentloss_list,b7_percentloss_list,b8_percentloss_list,b9_percentloss_list]  \n",
    "\n",
    "fig,ax=plt.subplots()\n",
    "plt.xlabel(\"Battalion\")\n",
    "plt.ylabel(\"Percentage\")\n",
    "plt.title(\"Battalion Identification vs. % Value Loss in Fires\")\n",
    "ax.boxplot(columns)\n",
    "plt.show\n"
   ]
  },
  {
   "cell_type": "markdown",
   "id": "e6d1ae93",
   "metadata": {},
   "source": [
    "# HEATMAP BASED ON PERCENTAGE LOSS"
   ]
  },
  {
   "cell_type": "code",
   "execution_count": 113,
   "id": "8c9bd184",
   "metadata": {},
   "outputs": [
    {
     "data": {
      "text/plain": [
       "0     -96.814783\n",
       "1     -96.857108\n",
       "2     -96.824020\n",
       "3     -96.764435\n",
       "4     -96.908816\n",
       "         ...    \n",
       "616   -96.694285\n",
       "617   -96.765385\n",
       "618   -96.726209\n",
       "619   -96.567056\n",
       "620   -96.802091\n",
       "Name: Lng, Length: 621, dtype: float64"
      ]
     },
     "execution_count": 113,
     "metadata": {},
     "output_type": "execute_result"
    }
   ],
   "source": [
    "lat_for_map=for_plotting['Lat'].astype(float)\n",
    "lat_for_map.astype(float)\n",
    "\n",
    "lng_for_map=for_plotting['Lng'].astype(float)\n",
    "lng_for_map.astype(float)"
   ]
  },
  {
   "cell_type": "code",
   "execution_count": 114,
   "id": "e1a15300",
   "metadata": {},
   "outputs": [],
   "source": [
    "\n",
    "# Store 'Lat' and 'Lng' into  locations \n",
    "coordinates = for_plotting[[\"Lat\", \"Lng\"]]\n",
    "\n",
    "# Convert Poverty Rate to float and store\n",
    "# HINT: be sure to handle NaN values\n",
    "percentage_value_lost = for_plotting[\"PERCENTAGE LOSS\"].astype(float)/100"
   ]
  },
  {
   "cell_type": "code",
   "execution_count": 120,
   "id": "57b3a1a7",
   "metadata": {},
   "outputs": [
    {
     "data": {
      "application/vnd.jupyter.widget-view+json": {
       "model_id": "8350dc5721894074bdcaf861f64cf3f3",
       "version_major": 2,
       "version_minor": 0
      },
      "text/plain": [
       "Figure(layout=FigureLayout(height='420px'))"
      ]
     },
     "metadata": {},
     "output_type": "display_data"
    }
   ],
   "source": [
    "# Create a Heatmap layer\n",
    "fig = gmaps.figure()\n",
    "\n",
    "percentage_loss_heat_layer = gmaps.heatmap_layer(coordinates, weights=percentage_value_lost,\n",
    "                                 dissipating=False, max_intensity=3.5, point_radius=0.02)\n",
    "\n",
    "fig.add_layer(percentage_loss_heat_layer)\n",
    "\n",
    "fig"
   ]
  },
  {
   "cell_type": "markdown",
   "id": "850da172",
   "metadata": {},
   "source": [
    "# HEATMAP BASED ON TOTAL LOSS"
   ]
  },
  {
   "cell_type": "code",
   "execution_count": 118,
   "id": "fd14e115",
   "metadata": {
    "scrolled": true
   },
   "outputs": [
    {
     "data": {
      "application/vnd.jupyter.widget-view+json": {
       "model_id": "015fe85f87dd4a208227953bc5352b9e",
       "version_major": 2,
       "version_minor": 0
      },
      "text/plain": [
       "Figure(layout=FigureLayout(height='420px'))"
      ]
     },
     "metadata": {},
     "output_type": "display_data"
    }
   ],
   "source": [
    "# tot_val=for_plotting['TOTAL VALUE']\n",
    "# total_saved=for_plotting['TOTAL SAVED']\n",
    "# total_loss=tot_val-total_saved\n",
    "# total_loss.astype(float)\n",
    "\n",
    "total_loss=for_plotting['TOTAL LOSS']\n",
    "total_loss.astype(float)\n",
    "\n",
    "\n",
    "# Store 'Lat' and 'Lng' into  locations \n",
    "location = for_plotting[[\"Lat\", \"Lng\"]].astype(float)\n",
    "\n",
    "total_loss= total_loss.astype(float)/100\n",
    "\n",
    "fig = gmaps.figure()\n",
    "\n",
    "heat_layer = gmaps.heatmap_layer(location, weights=total_loss,\n",
    "                                 dissipating=False, max_intensity=0.9, point_radius=0.0365)\n",
    "\n",
    "fig.add_layer(heat_layer)\n",
    "\n",
    "fig    \n",
    "\n",
    "\n",
    "\n",
    "\n"
   ]
  },
  {
   "cell_type": "code",
   "execution_count": null,
   "id": "2b5f2c4a",
   "metadata": {},
   "outputs": [],
   "source": [
    "# explore_more_data=pd.read_csv ('Fire.csv')\n",
    "# explore_more_data"
   ]
  },
  {
   "cell_type": "markdown",
   "id": "cf25ac9e",
   "metadata": {},
   "source": [
    "# MAP PINPOINTING ALL FIRES\n"
   ]
  },
  {
   "cell_type": "code",
   "execution_count": 91,
   "id": "45ec3639",
   "metadata": {},
   "outputs": [
    {
     "data": {
      "text/plain": [
       "0     -96.814783\n",
       "1     -96.857108\n",
       "2     -96.824020\n",
       "3     -96.764435\n",
       "4     -96.908816\n",
       "         ...    \n",
       "616   -96.694285\n",
       "617   -96.765385\n",
       "618   -96.726209\n",
       "619   -96.567056\n",
       "620   -96.802091\n",
       "Name: Lng, Length: 621, dtype: float64"
      ]
     },
     "execution_count": 91,
     "metadata": {},
     "output_type": "execute_result"
    }
   ],
   "source": [
    "\n",
    "lat_for_map=for_plotting['Lat']\n",
    "lat_for_map\n",
    "\n",
    "lng_for_map=for_plotting['Lng']\n",
    "lng_for_map\n",
    "\n",
    "lat_for_map\n",
    "lng_for_map"
   ]
  },
  {
   "cell_type": "code",
   "execution_count": null,
   "id": "13ce229f",
   "metadata": {},
   "outputs": [],
   "source": []
  },
  {
   "cell_type": "markdown",
   "id": "a40ea8b8",
   "metadata": {},
   "source": [
    "# PLOT ALL FIRES IN OUR DATASET"
   ]
  },
  {
   "cell_type": "code",
   "execution_count": 122,
   "id": "98cef538",
   "metadata": {
    "scrolled": false
   },
   "outputs": [
    {
     "data": {
      "application/vnd.jupyter.widget-view+json": {
       "model_id": "fc8fb97fb338439585ccdf84d939c721",
       "version_major": 2,
       "version_minor": 0
      },
      "text/plain": [
       "Figure(layout=FigureLayout(height='420px'))"
      ]
     },
     "metadata": {},
     "output_type": "display_data"
    }
   ],
   "source": [
    "fires_df=for_plotting[['Lat','Lng']]\n",
    "\n",
    "\n",
    "fires_layer=gmaps.symbol_layer(fires_df,fill_color=(255,165,0),stroke_color=(0,0,0),scale=2)\n",
    "fig=gmaps.figure()\n",
    "fig.add_layer(fires_layer)\n",
    "fig"
   ]
  },
  {
   "cell_type": "markdown",
   "id": "50a842be",
   "metadata": {},
   "source": [
    "# PLOT ALL FIRES BY BATTALION THAT RESPONDED\n"
   ]
  },
  {
   "cell_type": "code",
   "execution_count": 117,
   "id": "1b3c8496",
   "metadata": {},
   "outputs": [
    {
     "data": {
      "application/vnd.jupyter.widget-view+json": {
       "model_id": "acbc79e756fd4d60aad344cc47577be7",
       "version_major": 2,
       "version_minor": 0
      },
      "text/plain": [
       "Figure(layout=FigureLayout(height='420px'))"
      ]
     },
     "metadata": {},
     "output_type": "display_data"
    }
   ],
   "source": [
    "b1_fires_responded=for_plotting.loc[for_plotting['BATTALION']==\"1\"]\n",
    "b1_fires_layer=b1_fires_responded[['Lat','Lng']]\n",
    "\n",
    "b2_fires_responded=for_plotting.loc[for_plotting['BATTALION']==\"2\"]\n",
    "b2_fires_layer=b2_fires_responded[['Lat','Lng']]\n",
    "\n",
    "b3_fires_responded=for_plotting.loc[for_plotting['BATTALION']==\"3\"]\n",
    "b3_fires_layer=b3_fires_responded[['Lat','Lng']]\n",
    "\n",
    "b4_fires_responded=for_plotting.loc[for_plotting['BATTALION']==\"4\"]\n",
    "b4_fires_layer=b4_fires_responded[['Lat','Lng']]\n",
    "\n",
    "b5_fires_responded=for_plotting.loc[for_plotting['BATTALION']==\"5\"]\n",
    "b5_fires_layer=b5_fires_responded[['Lat','Lng']]\n",
    "\n",
    "b6_fires_responded=for_plotting.loc[for_plotting['BATTALION']==\"6\"]\n",
    "b6_fires_layer=b6_fires_responded[['Lat','Lng']]\n",
    "\n",
    "b7_fires_responded=for_plotting.loc[for_plotting['BATTALION']==\"7\"]\n",
    "b7_fires_layer=b7_fires_responded[['Lat','Lng']]\n",
    "\n",
    "b8_fires_responded=for_plotting.loc[for_plotting['BATTALION']==\"8\"]\n",
    "b8_fires_layer=b8_fires_responded[['Lat','Lng']]\n",
    "\n",
    "b9_fires_responded=for_plotting.loc[for_plotting['BATTALION']==\"9\"]\n",
    "b9_fires_layer=b9_fires_responded[['Lat','Lng']]\n",
    "\n",
    "b1_layer=gmaps.symbol_layer(b1_fires_layer,fill_color=(0,255,0),stroke_color=(0,255,0),scale=2)    #GREEN\n",
    "b2_layer=gmaps.symbol_layer(b2_fires_layer,fill_color=(0,0,254),stroke_color=(0,0,254),scale=2)    #BLUE\n",
    "b3_layer=gmaps.symbol_layer(b3_fires_layer,fill_color=(255,0,0),stroke_color=(255,0,0),scale=2)    #RED\n",
    "b4_layer=gmaps.symbol_layer(b4_fires_layer,fill_color=(255,165,0),stroke_color=(255,165,0),scale=2)  #ORANGE\n",
    "b5_layer=gmaps.symbol_layer(b5_fires_layer,fill_color=(255,105,180),stroke_color=(255,105,180),scale=2)   #PINK\n",
    "b6_layer=gmaps.symbol_layer(b6_fires_layer,fill_color=(134,1,175),stroke_color=(134,1,175),scale=2)     #VIOLET\n",
    "b7_layer=gmaps.symbol_layer(b7_fires_layer,fill_color=(64,224,208),stroke_color=(64,224,208),scale=2)   #TURQOISE\n",
    "b8_layer=gmaps.symbol_layer(b8_fires_layer,fill_color=(150,75,0),stroke_color=(150,75,0),scale=2)    #BROWN\n",
    "b9_layer=gmaps.symbol_layer(b9_fires_layer,fill_color=(128,128,128),stroke_color=(128,128,128),scale=2)    #GREY\n",
    "\n",
    "#create legend\n",
    "\n",
    "fig=gmaps.figure()\n",
    "fig.add_layer(b1_layer)\n",
    "fig.add_layer(b2_layer)\n",
    "fig.add_layer(b3_layer)\n",
    "fig.add_layer(b4_layer)\n",
    "fig.add_layer(b5_layer)\n",
    "fig.add_layer(b6_layer)\n",
    "fig.add_layer(b7_layer)\n",
    "fig.add_layer(b8_layer)\n",
    "fig.add_layer(b9_layer)\n",
    "\n",
    "fig\n",
    "\n",
    "\n"
   ]
  },
  {
   "cell_type": "code",
   "execution_count": null,
   "id": "376a53ab",
   "metadata": {},
   "outputs": [],
   "source": []
  },
  {
   "cell_type": "code",
   "execution_count": null,
   "id": "cc08b788",
   "metadata": {},
   "outputs": [],
   "source": []
  }
 ],
 "metadata": {
  "kernelspec": {
   "display_name": "Python 3 (ipykernel)",
   "language": "python",
   "name": "python3"
  },
  "language_info": {
   "codemirror_mode": {
    "name": "ipython",
    "version": 3
   },
   "file_extension": ".py",
   "mimetype": "text/x-python",
   "name": "python",
   "nbconvert_exporter": "python",
   "pygments_lexer": "ipython3",
   "version": "3.9.7"
  }
 },
 "nbformat": 4,
 "nbformat_minor": 5
}
