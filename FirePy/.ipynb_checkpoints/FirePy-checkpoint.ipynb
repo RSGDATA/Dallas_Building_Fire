{
 "cells": [
  {
   "cell_type": "code",
   "execution_count": 4,
   "id": "119dfd34",
   "metadata": {},
   "outputs": [],
   "source": [
    "import matplotlib.pyplot as plt\n",
    "import pandas as pd\n",
    "import numpy as np\n",
    "import requests\n",
    "import gmaps\n",
    "import os\n",
    "# This code snippet does not run on its own.  This is intended to be copy / pasted into Jupyter Notebook.\n",
    "from config import gkey\n",
    "\n"
   ]
  },
  {
   "cell_type": "code",
   "execution_count": 6,
   "id": "89e23e84",
   "metadata": {},
   "outputs": [
    {
     "ename": "NameError",
     "evalue": "name 'clean_fire_df' is not defined",
     "output_type": "error",
     "traceback": [
      "\u001b[0;31m---------------------------------------------------------------------------\u001b[0m",
      "\u001b[0;31mNameError\u001b[0m                                 Traceback (most recent call last)",
      "\u001b[0;32m/var/folders/qt/z1139kj16rq91qs03f19sz2c0000gn/T/ipykernel_60314/4205706422.py\u001b[0m in \u001b[0;36m<module>\u001b[0;34m\u001b[0m\n\u001b[1;32m      3\u001b[0m \u001b[0;31m# geocoordinates\u001b[0m\u001b[0;34m\u001b[0m\u001b[0;34m\u001b[0m\u001b[0m\n\u001b[1;32m      4\u001b[0m \u001b[0mbase_url\u001b[0m \u001b[0;34m=\u001b[0m \u001b[0;34m\"https://maps.googleapis.com/maps/api/geocode/json?\"\u001b[0m\u001b[0;34m\u001b[0m\u001b[0;34m\u001b[0m\u001b[0m\n\u001b[0;32m----> 5\u001b[0;31m \u001b[0;32mfor\u001b[0m \u001b[0mrow\u001b[0m \u001b[0;32min\u001b[0m \u001b[0mclean_fire_df\u001b[0m\u001b[0;34m:\u001b[0m\u001b[0;34m\u001b[0m\u001b[0;34m\u001b[0m\u001b[0m\n\u001b[0m\u001b[1;32m      6\u001b[0m     \u001b[0maddress\u001b[0m \u001b[0;34m=\u001b[0m \u001b[0mclean_fire_df\u001b[0m\u001b[0;34m[\u001b[0m\u001b[0;34m'ADDRESS'\u001b[0m\u001b[0;34m]\u001b[0m \u001b[0;34m+\u001b[0m \u001b[0;34m\",Dallas,TX\"\u001b[0m\u001b[0;34m\u001b[0m\u001b[0;34m\u001b[0m\u001b[0m\n\u001b[1;32m      7\u001b[0m \u001b[0;34m\u001b[0m\u001b[0m\n",
      "\u001b[0;31mNameError\u001b[0m: name 'clean_fire_df' is not defined"
     ]
    }
   ],
   "source": [
    "lats = []\n",
    "lngs = []\n",
    "# geocoordinates\n",
    "base_url = \"https://maps.googleapis.com/maps/api/geocode/json?\"\n",
    "for row in clean_fire_df:\n",
    "    address = clean_fire_df['ADDRESS'] + \",Dallas,TX\"\n",
    "\n",
    "    # set up a parameters dictionary\n",
    "    params = {\n",
    "        \"address\": address,\n",
    "        \"key\": gkey\n",
    "    }\n",
    "    response = requests.get(base_url, params=params)\n",
    "    geo_data = response.json()\n",
    "    # Extract latitude and longitude\n",
    "    lat = geo_data[\"results\"][0][\"geometry\"][\"location\"][\"lat\"]\n",
    "    lng = geo_data[\"results\"][0][\"geometry\"][\"location\"][\"lng\"]\n",
    "\n",
    "clean_fire_df['Lat'] = lats\n",
    "clean_fire_df['Lng'] = lngs\n"
   ]
  },
  {
   "cell_type": "code",
   "execution_count": null,
   "id": "66e0d565",
   "metadata": {},
   "outputs": [],
   "source": [
    "fire_df = pd.read_csv ('Building_Fire.csv')\n",
    "#branch\n",
    "fire_df "
   ]
  },
  {
   "cell_type": "code",
   "execution_count": null,
   "id": "3b2b6deb",
   "metadata": {},
   "outputs": [],
   "source": [
    "df = fire_df.drop(\"MAPSCO\", axis='columns')\n",
    "new_fire_df = df.drop(\"CENSUS_TRACT\", axis='columns')\n",
    "new_fire_df"
   ]
  },
  {
   "cell_type": "code",
   "execution_count": null,
   "id": "37313d44",
   "metadata": {},
   "outputs": [],
   "source": [
    "'''\n",
    "drop columns:\n",
    "MAPSCO\n",
    "Census Tract\n",
    "drop rows:\n",
    "stories < 100\n",
    "total_saved > 0\n",
    "total_value > 1\n",
    "\n",
    "\n",
    "There are 621 rows\n",
    "\n",
    "'''\n",
    "\n",
    "clean_fire_df = new_fire_df.loc[(new_fire_df[\"NO_OF_STORIES\"] < 100) & (new_fire_df[\"TOTAL_SAVED\"]> 0) \\\n",
    "                                & (new_fire_df[\"TOTAL_VALUE\"] > 1 )]\n",
    "clean_fire_df"
   ]
  },
  {
   "cell_type": "code",
   "execution_count": null,
   "id": "e49f5552",
   "metadata": {},
   "outputs": [],
   "source": [
    "#clean_fire_df.loc[(clean_fire_df[\"TOTAL_SAVED\"] > 0)]\n",
    "\n",
    "total_save = clean_fire_df[\"TOTAL_SAVED\"]\n",
    "total_value = clean_fire_df[\"TOTAL_VALUE\"]\n",
    "\n",
    "percentage_saved = total_save / total_value * 100\n",
    "\n",
    "percentage_loss = (100 - percentage_saved).round(2)\n",
    "\n",
    "\n",
    "percentage_loss\n",
    "\n",
    "clean_fire_df[\"PERCENTAGE LOSS\"] = percentage_loss\n",
    "\n",
    "clean_fire_df"
   ]
  },
  {
   "cell_type": "code",
   "execution_count": null,
   "id": "ee39bab3",
   "metadata": {},
   "outputs": [],
   "source": []
  },
  {
   "cell_type": "code",
   "execution_count": null,
   "id": "fde6a6ad",
   "metadata": {},
   "outputs": [],
   "source": []
  },
  {
   "cell_type": "code",
   "execution_count": null,
   "id": "07c6d7d8",
   "metadata": {},
   "outputs": [],
   "source": []
  }
 ],
 "metadata": {
  "kernelspec": {
   "display_name": "Python 3 (ipykernel)",
   "language": "python",
   "name": "python3"
  },
  "language_info": {
   "codemirror_mode": {
    "name": "ipython",
    "version": 3
   },
   "file_extension": ".py",
   "mimetype": "text/x-python",
   "name": "python",
   "nbconvert_exporter": "python",
   "pygments_lexer": "ipython3",
   "version": "3.9.7"
  }
 },
 "nbformat": 4,
 "nbformat_minor": 5
}
