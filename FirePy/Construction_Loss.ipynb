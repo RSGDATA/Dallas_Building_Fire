{
 "cells": [
  {
   "cell_type": "code",
   "execution_count": 2,
   "id": "b3b0addd",
   "metadata": {},
   "outputs": [],
   "source": [
    "import matplotlib.pyplot as plt\n",
    "import pandas as pd\n",
    "import numpy as np\n",
    "import requests\n",
    "import gmaps\n",
    "import os\n",
    "import seaborn as sns\n",
    "import seaborn as sb\n",
    "from config import gkey\n",
    "\n",
    "gmaps.configure(api_key=gkey)"
   ]
  },
  {
   "cell_type": "code",
   "execution_count": 3,
   "id": "7862b149",
   "metadata": {},
   "outputs": [
    {
     "data": {
      "text/html": [
       "<div>\n",
       "<style scoped>\n",
       "    .dataframe tbody tr th:only-of-type {\n",
       "        vertical-align: middle;\n",
       "    }\n",
       "\n",
       "    .dataframe tbody tr th {\n",
       "        vertical-align: top;\n",
       "    }\n",
       "\n",
       "    .dataframe thead th {\n",
       "        text-align: right;\n",
       "    }\n",
       "</style>\n",
       "<table border=\"1\" class=\"dataframe\">\n",
       "  <thead>\n",
       "    <tr style=\"text-align: right;\">\n",
       "      <th></th>\n",
       "      <th>index</th>\n",
       "      <th>ID</th>\n",
       "      <th>DATE</th>\n",
       "      <th>TIME</th>\n",
       "      <th>ZIP</th>\n",
       "      <th>BATTALION</th>\n",
       "      <th>SHIFT</th>\n",
       "      <th>COUNCIL DISTRICT</th>\n",
       "      <th>STRUCTURE TYPE</th>\n",
       "      <th>BUILDING STORIES</th>\n",
       "      <th>...</th>\n",
       "      <th>TOTAL VALUE</th>\n",
       "      <th>STRUCTURE LOSS</th>\n",
       "      <th>CONTENTS LOSS</th>\n",
       "      <th>TOTAL SAVED</th>\n",
       "      <th>PERCENTAGE LOSS</th>\n",
       "      <th>SPRINKER SYSTEM</th>\n",
       "      <th>ALARM SYSTEM</th>\n",
       "      <th>ADDRESS</th>\n",
       "      <th>Lat</th>\n",
       "      <th>Lng</th>\n",
       "    </tr>\n",
       "  </thead>\n",
       "  <tbody>\n",
       "    <tr>\n",
       "      <th>0</th>\n",
       "      <td>0</td>\n",
       "      <td>17961.0</td>\n",
       "      <td>10/29/2019</td>\n",
       "      <td>08:21 PM</td>\n",
       "      <td>75216.0</td>\n",
       "      <td>6</td>\n",
       "      <td>A</td>\n",
       "      <td>4.0</td>\n",
       "      <td>DWELLING</td>\n",
       "      <td>1.0</td>\n",
       "      <td>...</td>\n",
       "      <td>166370.0</td>\n",
       "      <td>-5000.0</td>\n",
       "      <td>0.0</td>\n",
       "      <td>161370.0</td>\n",
       "      <td>3.01</td>\n",
       "      <td>NaN</td>\n",
       "      <td>NaN</td>\n",
       "      <td>1325 S MARSALIS AVE</td>\n",
       "      <td>32.732107</td>\n",
       "      <td>-96.814783</td>\n",
       "    </tr>\n",
       "    <tr>\n",
       "      <th>1</th>\n",
       "      <td>1</td>\n",
       "      <td>17962.0</td>\n",
       "      <td>10/30/2019</td>\n",
       "      <td>03:42 AM</td>\n",
       "      <td>75229.0</td>\n",
       "      <td>7</td>\n",
       "      <td>A</td>\n",
       "      <td>13.0</td>\n",
       "      <td>DWELLING</td>\n",
       "      <td>1.0</td>\n",
       "      <td>...</td>\n",
       "      <td>535470.0</td>\n",
       "      <td>-10000.0</td>\n",
       "      <td>0.0</td>\n",
       "      <td>525470.0</td>\n",
       "      <td>1.87</td>\n",
       "      <td>NaN</td>\n",
       "      <td>NaN</td>\n",
       "      <td>10728 LATHROP DR</td>\n",
       "      <td>32.894248</td>\n",
       "      <td>-96.857108</td>\n",
       "    </tr>\n",
       "    <tr>\n",
       "      <th>2</th>\n",
       "      <td>2</td>\n",
       "      <td>17963.0</td>\n",
       "      <td>10/30/2019</td>\n",
       "      <td>10:47 AM</td>\n",
       "      <td>75241.0</td>\n",
       "      <td>5</td>\n",
       "      <td>B</td>\n",
       "      <td>3.0</td>\n",
       "      <td>DWELLING</td>\n",
       "      <td>1.0</td>\n",
       "      <td>...</td>\n",
       "      <td>306000.0</td>\n",
       "      <td>-5000.0</td>\n",
       "      <td>-15000.0</td>\n",
       "      <td>286000.0</td>\n",
       "      <td>6.54</td>\n",
       "      <td>NaN</td>\n",
       "      <td>NaN</td>\n",
       "      <td>6205 S R L THORNTON SERV</td>\n",
       "      <td>32.694543</td>\n",
       "      <td>-96.824020</td>\n",
       "    </tr>\n",
       "    <tr>\n",
       "      <th>3</th>\n",
       "      <td>3</td>\n",
       "      <td>17964.0</td>\n",
       "      <td>10/30/2019</td>\n",
       "      <td>05:32 PM</td>\n",
       "      <td>75243.0</td>\n",
       "      <td>2</td>\n",
       "      <td>B</td>\n",
       "      <td>10.0</td>\n",
       "      <td>DWELLING</td>\n",
       "      <td>1.0</td>\n",
       "      <td>...</td>\n",
       "      <td>126710.0</td>\n",
       "      <td>-8000.0</td>\n",
       "      <td>-4000.0</td>\n",
       "      <td>114710.0</td>\n",
       "      <td>9.47</td>\n",
       "      <td>NaN</td>\n",
       "      <td>NaN</td>\n",
       "      <td>12044 WILLOWDELL DR</td>\n",
       "      <td>32.913584</td>\n",
       "      <td>-96.764435</td>\n",
       "    </tr>\n",
       "    <tr>\n",
       "      <th>4</th>\n",
       "      <td>4</td>\n",
       "      <td>17965.0</td>\n",
       "      <td>10/30/2019</td>\n",
       "      <td>11:03 AM</td>\n",
       "      <td>75212.0</td>\n",
       "      <td>9</td>\n",
       "      <td>B</td>\n",
       "      <td>6.0</td>\n",
       "      <td>DWELLING</td>\n",
       "      <td>1.0</td>\n",
       "      <td>...</td>\n",
       "      <td>84000.0</td>\n",
       "      <td>-45000.0</td>\n",
       "      <td>-10000.0</td>\n",
       "      <td>29000.0</td>\n",
       "      <td>65.48</td>\n",
       "      <td>NaN</td>\n",
       "      <td>NaN</td>\n",
       "      <td>2212 LAPSLEY ST</td>\n",
       "      <td>32.769986</td>\n",
       "      <td>-96.908816</td>\n",
       "    </tr>\n",
       "  </tbody>\n",
       "</table>\n",
       "<p>5 rows × 22 columns</p>\n",
       "</div>"
      ],
      "text/plain": [
       "   index       ID        DATE      TIME      ZIP BATTALION SHIFT  \\\n",
       "0      0  17961.0  10/29/2019  08:21 PM  75216.0         6     A   \n",
       "1      1  17962.0  10/30/2019  03:42 AM  75229.0         7     A   \n",
       "2      2  17963.0  10/30/2019  10:47 AM  75241.0         5     B   \n",
       "3      3  17964.0  10/30/2019  05:32 PM  75243.0         2     B   \n",
       "4      4  17965.0  10/30/2019  11:03 AM  75212.0         9     B   \n",
       "\n",
       "   COUNCIL DISTRICT STRUCTURE TYPE  BUILDING STORIES  ... TOTAL VALUE  \\\n",
       "0               4.0       DWELLING               1.0  ...    166370.0   \n",
       "1              13.0       DWELLING               1.0  ...    535470.0   \n",
       "2               3.0       DWELLING               1.0  ...    306000.0   \n",
       "3              10.0       DWELLING               1.0  ...    126710.0   \n",
       "4               6.0       DWELLING               1.0  ...     84000.0   \n",
       "\n",
       "  STRUCTURE LOSS  CONTENTS LOSS  TOTAL SAVED  PERCENTAGE LOSS  \\\n",
       "0        -5000.0            0.0     161370.0             3.01   \n",
       "1       -10000.0            0.0     525470.0             1.87   \n",
       "2        -5000.0       -15000.0     286000.0             6.54   \n",
       "3        -8000.0        -4000.0     114710.0             9.47   \n",
       "4       -45000.0       -10000.0      29000.0            65.48   \n",
       "\n",
       "   SPRINKER SYSTEM  ALARM SYSTEM                   ADDRESS        Lat  \\\n",
       "0              NaN           NaN       1325 S MARSALIS AVE  32.732107   \n",
       "1              NaN           NaN          10728 LATHROP DR  32.894248   \n",
       "2              NaN           NaN  6205 S R L THORNTON SERV  32.694543   \n",
       "3              NaN           NaN       12044 WILLOWDELL DR  32.913584   \n",
       "4              NaN           NaN           2212 LAPSLEY ST  32.769986   \n",
       "\n",
       "         Lng  \n",
       "0 -96.814783  \n",
       "1 -96.857108  \n",
       "2 -96.824020  \n",
       "3 -96.764435  \n",
       "4 -96.908816  \n",
       "\n",
       "[5 rows x 22 columns]"
      ]
     },
     "execution_count": 3,
     "metadata": {},
     "output_type": "execute_result"
    }
   ],
   "source": [
    "construction_loss = pd.read_csv ('Fire.csv')\n",
    "construction_loss.head()"
   ]
  },
  {
   "cell_type": "code",
   "execution_count": 4,
   "id": "9ef41d86",
   "metadata": {},
   "outputs": [
    {
     "data": {
      "text/plain": [
       "542"
      ]
     },
     "execution_count": 4,
     "metadata": {},
     "output_type": "execute_result"
    }
   ],
   "source": [
    "construction_loss[\"CONSTRUCTION\"].count()"
   ]
  },
  {
   "cell_type": "code",
   "execution_count": 5,
   "id": "29b3a6aa",
   "metadata": {},
   "outputs": [
    {
     "data": {
      "text/plain": [
       "<bound method IndexOpsMixin.value_counts of 0       WOOD\n",
       "1       WOOD\n",
       "2       WOOD\n",
       "3       WOOD\n",
       "4       WOOD\n",
       "       ...  \n",
       "616     WOOD\n",
       "617     WOOD\n",
       "618     WOOD\n",
       "619    METAL\n",
       "620     WOOD\n",
       "Name: CONSTRUCTION, Length: 621, dtype: object>"
      ]
     },
     "execution_count": 5,
     "metadata": {},
     "output_type": "execute_result"
    }
   ],
   "source": [
    "construction_loss[\"CONSTRUCTION\"].value_counts"
   ]
  },
  {
   "cell_type": "code",
   "execution_count": 6,
   "id": "701a84f9",
   "metadata": {},
   "outputs": [
    {
     "data": {
      "text/plain": [
       "array(['WOOD', 'BRICK', nan, 'MASONRY', 'METAL', 'FRAME', 'BLOCK',\n",
       "       'CONCRETE', 'STUCCO', 'COMBO', 'STEEL'], dtype=object)"
      ]
     },
     "execution_count": 6,
     "metadata": {},
     "output_type": "execute_result"
    }
   ],
   "source": [
    "#unique structures included in the data set\n",
    "unique_construction_df = construction_loss[\"CONSTRUCTION\"].unique()\n",
    "\n",
    "unique_construction_df"
   ]
  },
  {
   "cell_type": "code",
   "execution_count": 7,
   "id": "8c5344c6",
   "metadata": {},
   "outputs": [
    {
     "data": {
      "text/plain": [
       "CONSTRUCTION\n",
       "BLOCK       13.000000\n",
       "BRICK        8.639459\n",
       "COMBO        0.050000\n",
       "CONCRETE     0.084167\n",
       "FRAME       24.490000\n",
       "MASONRY      3.975000\n",
       "METAL       22.154444\n",
       "STEEL        3.587500\n",
       "STUCCO       0.700000\n",
       "WOOD        11.623185\n",
       "Name: PERCENTAGE LOSS, dtype: float64"
      ]
     },
     "execution_count": 7,
     "metadata": {},
     "output_type": "execute_result"
    }
   ],
   "source": [
    "#average percent loss by structure type\n",
    "avg_loss_construction = construction_loss.groupby([\"CONSTRUCTION\"]).mean()[\"PERCENTAGE LOSS\"]\n",
    "\n",
    "avg_loss_construction"
   ]
  },
  {
   "cell_type": "code",
   "execution_count": 8,
   "id": "90ada9d6",
   "metadata": {},
   "outputs": [],
   "source": [
    "#what does frame stand for?\n",
    "#BLOCK=Concrete/Cinder Block\n",
    "\n",
    "#Top 5 \n",
    "# 1. Steel\n",
    "# 2. Concrete \n",
    "# 3. Wood\n",
    "# 4. Stone\n",
    "# 5. Brick/Masonry\n",
    "\n",
    "#CONCRETE \n",
    "#FRAME and WOOD\n",
    "#MASONRY and BRICK and BLOCK\n",
    "#STEEL and METAL\n",
    "#COMBO        \n",
    "#STUCCO    \n"
   ]
  },
  {
   "cell_type": "code",
   "execution_count": 9,
   "id": "2ad5c602",
   "metadata": {},
   "outputs": [
    {
     "data": {
      "text/html": [
       "<div>\n",
       "<style scoped>\n",
       "    .dataframe tbody tr th:only-of-type {\n",
       "        vertical-align: middle;\n",
       "    }\n",
       "\n",
       "    .dataframe tbody tr th {\n",
       "        vertical-align: top;\n",
       "    }\n",
       "\n",
       "    .dataframe thead th {\n",
       "        text-align: right;\n",
       "    }\n",
       "</style>\n",
       "<table border=\"1\" class=\"dataframe\">\n",
       "  <thead>\n",
       "    <tr style=\"text-align: right;\">\n",
       "      <th></th>\n",
       "      <th>index</th>\n",
       "      <th>ID</th>\n",
       "      <th>DATE</th>\n",
       "      <th>TIME</th>\n",
       "      <th>ZIP</th>\n",
       "      <th>BATTALION</th>\n",
       "      <th>SHIFT</th>\n",
       "      <th>COUNCIL DISTRICT</th>\n",
       "      <th>STRUCTURE TYPE</th>\n",
       "      <th>BUILDING STORIES</th>\n",
       "      <th>...</th>\n",
       "      <th>TOTAL VALUE</th>\n",
       "      <th>STRUCTURE LOSS</th>\n",
       "      <th>CONTENTS LOSS</th>\n",
       "      <th>TOTAL SAVED</th>\n",
       "      <th>PERCENTAGE LOSS</th>\n",
       "      <th>SPRINKER SYSTEM</th>\n",
       "      <th>ALARM SYSTEM</th>\n",
       "      <th>ADDRESS</th>\n",
       "      <th>Lat</th>\n",
       "      <th>Lng</th>\n",
       "    </tr>\n",
       "  </thead>\n",
       "  <tbody>\n",
       "    <tr>\n",
       "      <th>0</th>\n",
       "      <td>0</td>\n",
       "      <td>17961.0</td>\n",
       "      <td>10/29/2019</td>\n",
       "      <td>08:21 PM</td>\n",
       "      <td>75216.0</td>\n",
       "      <td>6</td>\n",
       "      <td>A</td>\n",
       "      <td>4.0</td>\n",
       "      <td>DWELLING</td>\n",
       "      <td>1.0</td>\n",
       "      <td>...</td>\n",
       "      <td>166370.0</td>\n",
       "      <td>-5000.0</td>\n",
       "      <td>0.0</td>\n",
       "      <td>161370.0</td>\n",
       "      <td>3.01</td>\n",
       "      <td>NaN</td>\n",
       "      <td>NaN</td>\n",
       "      <td>1325 S MARSALIS AVE</td>\n",
       "      <td>32.732107</td>\n",
       "      <td>-96.814783</td>\n",
       "    </tr>\n",
       "    <tr>\n",
       "      <th>1</th>\n",
       "      <td>1</td>\n",
       "      <td>17962.0</td>\n",
       "      <td>10/30/2019</td>\n",
       "      <td>03:42 AM</td>\n",
       "      <td>75229.0</td>\n",
       "      <td>7</td>\n",
       "      <td>A</td>\n",
       "      <td>13.0</td>\n",
       "      <td>DWELLING</td>\n",
       "      <td>1.0</td>\n",
       "      <td>...</td>\n",
       "      <td>535470.0</td>\n",
       "      <td>-10000.0</td>\n",
       "      <td>0.0</td>\n",
       "      <td>525470.0</td>\n",
       "      <td>1.87</td>\n",
       "      <td>NaN</td>\n",
       "      <td>NaN</td>\n",
       "      <td>10728 LATHROP DR</td>\n",
       "      <td>32.894248</td>\n",
       "      <td>-96.857108</td>\n",
       "    </tr>\n",
       "    <tr>\n",
       "      <th>2</th>\n",
       "      <td>2</td>\n",
       "      <td>17963.0</td>\n",
       "      <td>10/30/2019</td>\n",
       "      <td>10:47 AM</td>\n",
       "      <td>75241.0</td>\n",
       "      <td>5</td>\n",
       "      <td>B</td>\n",
       "      <td>3.0</td>\n",
       "      <td>DWELLING</td>\n",
       "      <td>1.0</td>\n",
       "      <td>...</td>\n",
       "      <td>306000.0</td>\n",
       "      <td>-5000.0</td>\n",
       "      <td>-15000.0</td>\n",
       "      <td>286000.0</td>\n",
       "      <td>6.54</td>\n",
       "      <td>NaN</td>\n",
       "      <td>NaN</td>\n",
       "      <td>6205 S R L THORNTON SERV</td>\n",
       "      <td>32.694543</td>\n",
       "      <td>-96.824020</td>\n",
       "    </tr>\n",
       "    <tr>\n",
       "      <th>3</th>\n",
       "      <td>3</td>\n",
       "      <td>17964.0</td>\n",
       "      <td>10/30/2019</td>\n",
       "      <td>05:32 PM</td>\n",
       "      <td>75243.0</td>\n",
       "      <td>2</td>\n",
       "      <td>B</td>\n",
       "      <td>10.0</td>\n",
       "      <td>DWELLING</td>\n",
       "      <td>1.0</td>\n",
       "      <td>...</td>\n",
       "      <td>126710.0</td>\n",
       "      <td>-8000.0</td>\n",
       "      <td>-4000.0</td>\n",
       "      <td>114710.0</td>\n",
       "      <td>9.47</td>\n",
       "      <td>NaN</td>\n",
       "      <td>NaN</td>\n",
       "      <td>12044 WILLOWDELL DR</td>\n",
       "      <td>32.913584</td>\n",
       "      <td>-96.764435</td>\n",
       "    </tr>\n",
       "    <tr>\n",
       "      <th>4</th>\n",
       "      <td>4</td>\n",
       "      <td>17965.0</td>\n",
       "      <td>10/30/2019</td>\n",
       "      <td>11:03 AM</td>\n",
       "      <td>75212.0</td>\n",
       "      <td>9</td>\n",
       "      <td>B</td>\n",
       "      <td>6.0</td>\n",
       "      <td>DWELLING</td>\n",
       "      <td>1.0</td>\n",
       "      <td>...</td>\n",
       "      <td>84000.0</td>\n",
       "      <td>-45000.0</td>\n",
       "      <td>-10000.0</td>\n",
       "      <td>29000.0</td>\n",
       "      <td>65.48</td>\n",
       "      <td>NaN</td>\n",
       "      <td>NaN</td>\n",
       "      <td>2212 LAPSLEY ST</td>\n",
       "      <td>32.769986</td>\n",
       "      <td>-96.908816</td>\n",
       "    </tr>\n",
       "  </tbody>\n",
       "</table>\n",
       "<p>5 rows × 22 columns</p>\n",
       "</div>"
      ],
      "text/plain": [
       "   index       ID        DATE      TIME      ZIP BATTALION SHIFT  \\\n",
       "0      0  17961.0  10/29/2019  08:21 PM  75216.0         6     A   \n",
       "1      1  17962.0  10/30/2019  03:42 AM  75229.0         7     A   \n",
       "2      2  17963.0  10/30/2019  10:47 AM  75241.0         5     B   \n",
       "3      3  17964.0  10/30/2019  05:32 PM  75243.0         2     B   \n",
       "4      4  17965.0  10/30/2019  11:03 AM  75212.0         9     B   \n",
       "\n",
       "   COUNCIL DISTRICT STRUCTURE TYPE  BUILDING STORIES  ... TOTAL VALUE  \\\n",
       "0               4.0       DWELLING               1.0  ...    166370.0   \n",
       "1              13.0       DWELLING               1.0  ...    535470.0   \n",
       "2               3.0       DWELLING               1.0  ...    306000.0   \n",
       "3              10.0       DWELLING               1.0  ...    126710.0   \n",
       "4               6.0       DWELLING               1.0  ...     84000.0   \n",
       "\n",
       "  STRUCTURE LOSS  CONTENTS LOSS  TOTAL SAVED  PERCENTAGE LOSS  \\\n",
       "0        -5000.0            0.0     161370.0             3.01   \n",
       "1       -10000.0            0.0     525470.0             1.87   \n",
       "2        -5000.0       -15000.0     286000.0             6.54   \n",
       "3        -8000.0        -4000.0     114710.0             9.47   \n",
       "4       -45000.0       -10000.0      29000.0            65.48   \n",
       "\n",
       "   SPRINKER SYSTEM  ALARM SYSTEM                   ADDRESS        Lat  \\\n",
       "0              NaN           NaN       1325 S MARSALIS AVE  32.732107   \n",
       "1              NaN           NaN          10728 LATHROP DR  32.894248   \n",
       "2              NaN           NaN  6205 S R L THORNTON SERV  32.694543   \n",
       "3              NaN           NaN       12044 WILLOWDELL DR  32.913584   \n",
       "4              NaN           NaN           2212 LAPSLEY ST  32.769986   \n",
       "\n",
       "         Lng  \n",
       "0 -96.814783  \n",
       "1 -96.857108  \n",
       "2 -96.824020  \n",
       "3 -96.764435  \n",
       "4 -96.908816  \n",
       "\n",
       "[5 rows x 22 columns]"
      ]
     },
     "execution_count": 9,
     "metadata": {},
     "output_type": "execute_result"
    }
   ],
   "source": [
    "#clean up structure types to consolidate \"like\" or \"same\" names\n",
    "cleaned_construction_loss = construction_loss.replace({\n",
    "     \"STEEL\":\"STEEL & METAL\",\n",
    "     \"METAL\":\"STEEL & METAL\",     \n",
    "    \n",
    "     \"FRAME\":\"WOOD\",                \n",
    "     \"WOOD\":\"WOOD\",                  \n",
    "     \n",
    "     \"MASONRY\": \"MASONRY & BRICK\",                   \n",
    "     \"BRICK\": \"MASONRY & BRICK\",                    \n",
    "     \"BLOCK\": \"MASONRY & BRICK\",\n",
    "     \n",
    "     \"COMBO\": \"OTHER\",\n",
    "     \"STUCCO\": \"OTHER\",\n",
    "     \n",
    "    })\n",
    "cleaned_construction_loss.head()"
   ]
  },
  {
   "cell_type": "code",
   "execution_count": 10,
   "id": "1e39f5e6",
   "metadata": {},
   "outputs": [
    {
     "data": {
      "text/plain": [
       "CONSTRUCTION\n",
       "CONCRETE            12\n",
       "MASONRY & BRICK     43\n",
       "OTHER                2\n",
       "STEEL & METAL       13\n",
       "WOOD               472\n",
       "Name: PERCENTAGE LOSS, dtype: int64"
      ]
     },
     "execution_count": 10,
     "metadata": {},
     "output_type": "execute_result"
    }
   ],
   "source": [
    "#total number of structures for structure type, grouped by percentage loss\n",
    "loss_construction = cleaned_construction_loss.groupby([\"CONSTRUCTION\"]).count()[\"PERCENTAGE LOSS\"]\n",
    "\n",
    "loss_construction"
   ]
  },
  {
   "cell_type": "code",
   "execution_count": 11,
   "id": "5cf5313a",
   "metadata": {},
   "outputs": [],
   "source": [
    "colors_list= [(0,1,0),(0,0,.99),(1,0,0),(1,1,0),(.6,.19,.8)] #[(0,255,0),(0,0,254),(255,0,0),(255,255,0),(153,50,204)]    \n",
    " \n",
    "#GREEN, #BLUE, #RED, #yellow1, #darkorchid\n"
   ]
  },
  {
   "cell_type": "code",
   "execution_count": 25,
   "id": "11304f69",
   "metadata": {},
   "outputs": [
    {
     "data": {
      "image/png": "[encoded data removed]",
      "text/plain": [
       "<Figure size 432x360 with 1 Axes>"
      ]
     },
     "metadata": {
      "needs_background": "light"
     },
     "output_type": "display_data"
    }
   ],
   "source": [
    "unique_construction_df=cleaned_construction_loss[['CONSTRUCTION', 'PERCENTAGE LOSS']]\n",
    "unique_construction_df=unique_construction_df.dropna()\n",
    "loss_construction_df = unique_construction_df.groupby([\"CONSTRUCTION\"]).count()\n",
    "loss_construction_df=loss_construction_df.reset_index()\n",
    "loss_construction = loss_construction_df[\"PERCENTAGE LOSS\"]\n",
    "unique_construction = loss_construction_df['CONSTRUCTION']\n",
    "\n",
    "x_axis = unique_construction\n",
    "y_axis = loss_construction\n",
    "plt.figure(figsize=(6,5))\n",
    "plt.xticks(rotation=90)\n",
    "plt.bar(x_axis, y_axis, color=colors_list)\n",
    "\n",
    "plt.xlabel(\"CONSTRUCTION TYPE\")\n",
    "plt.ylabel(\"TOTAL\")\n",
    "plt.title(\"TOTAL CONSTRUCTION TYPES BY AVERAGE % LOSS\")\n",
    "\n",
    "#plt.tight_layout()\n",
    "plt.show()"
   ]
  },
  {
   "cell_type": "code",
   "execution_count": 13,
   "id": "442cff0f",
   "metadata": {},
   "outputs": [
    {
     "data": {
      "image/png": "[encoded data removed]",
      "text/plain": [
       "<Figure size 864x864 with 1 Axes>"
      ]
     },
     "metadata": {},
     "output_type": "display_data"
    }
   ],
   "source": [
    "construction_type = cleaned_construction_loss['CONSTRUCTION'].value_counts()\n",
    "\n",
    "fig = plt.figure(figsize=(12,12))\n",
    "explode = (0.1, 0, 0, 0, 0)\n",
    "construction_type.plot(kind=\"pie\",autopct=\"%1.1f%%\", explode=explode, \n",
    "                       colors=colors_list, shadow=True, startangle=45)\n",
    "\n",
    "plt.xticks(rotation=90)\n",
    "plt.show()"
   ]
  },
  {
   "cell_type": "code",
   "execution_count": 14,
   "id": "2c59463e",
   "metadata": {},
   "outputs": [
    {
     "data": {
      "text/plain": [
       "CONSTRUCTION\n",
       "CONCRETE            0.084167\n",
       "MASONRY & BRICK     8.408372\n",
       "OTHER               0.375000\n",
       "STEEL & METAL      16.441538\n",
       "WOOD               11.650445\n",
       "Name: PERCENTAGE LOSS, dtype: float64"
      ]
     },
     "execution_count": 14,
     "metadata": {},
     "output_type": "execute_result"
    }
   ],
   "source": [
    "#new average percent loss by structure type\n",
    "avg_loss_construction = cleaned_construction_loss.groupby([\"CONSTRUCTION\"]).mean()[\"PERCENTAGE LOSS\"]\n",
    "\n",
    "avg_loss_construction"
   ]
  },
  {
   "cell_type": "code",
   "execution_count": 26,
   "id": "b3a8e495",
   "metadata": {},
   "outputs": [
    {
     "data": {
      "image/png": "[encoded data removed]",
      "text/plain": [
       "<Figure size 432x360 with 1 Axes>"
      ]
     },
     "metadata": {
      "needs_background": "light"
     },
     "output_type": "display_data"
    }
   ],
   "source": [
    "#removing nan from list\n",
    "unique_construction_df=cleaned_construction_loss[['CONSTRUCTION', 'PERCENTAGE LOSS']]\n",
    "unique_construction_df=unique_construction_df.dropna()\n",
    "avg_loss_construction_df = unique_construction_df.groupby([\"CONSTRUCTION\"]).mean()\n",
    "avg_loss_construction_df=avg_loss_construction_df.reset_index()\n",
    "avg_loss_construction = avg_loss_construction_df[\"PERCENTAGE LOSS\"]\n",
    "unique_construction = avg_loss_construction_df['CONSTRUCTION']\n",
    "\n",
    "x_axis = unique_construction\n",
    "y_axis = avg_loss_construction\n",
    "plt.figure(figsize=(6,5))\n",
    "plt.xticks(rotation=90)\n",
    "plt.bar(x_axis, y_axis, color=colors_list)\n",
    "\n",
    "plt.xlabel(\"CONSTRUCTION TYPE\")\n",
    "plt.ylabel(\"AVERAGE PERCENT LOSS\")\n",
    "plt.title(\"AVERAGE % LOSS IN FIRE BY CONSTRUCTION\")\n",
    "\n",
    "# #plt.tight_layout()\n",
    "plt.show()"
   ]
  },
  {
   "cell_type": "code",
   "execution_count": 16,
   "id": "d8d2043a",
   "metadata": {},
   "outputs": [],
   "source": [
    "# Configure gmaps.\n",
    "gmaps.configure(api_key=gkey)"
   ]
  },
  {
   "cell_type": "code",
   "execution_count": 17,
   "id": "ac07dcbb",
   "metadata": {},
   "outputs": [
    {
     "data": {
      "text/plain": [
       "0     -96.814783\n",
       "1     -96.857108\n",
       "2     -96.824020\n",
       "3     -96.764435\n",
       "4     -96.908816\n",
       "         ...    \n",
       "616   -96.694285\n",
       "617   -96.765385\n",
       "618   -96.726209\n",
       "619   -96.567056\n",
       "620   -96.802091\n",
       "Name: Lng, Length: 621, dtype: float64"
      ]
     },
     "execution_count": 17,
     "metadata": {},
     "output_type": "execute_result"
    }
   ],
   "source": [
    "lat_for_map=cleaned_construction_loss['Lat'].astype(float)\n",
    "lat_for_map.astype(float)\n",
    "\n",
    "lng_for_map=cleaned_construction_loss['Lng'].astype(float)\n",
    "lng_for_map.astype(float)"
   ]
  },
  {
   "cell_type": "code",
   "execution_count": 18,
   "id": "de0e2a34",
   "metadata": {},
   "outputs": [],
   "source": [
    "# Use the Lat and Lng as locations and Percentage Loss as the weight.\n",
    "locations = cleaned_construction_loss[[\"Lat\", \"Lng\"]]\n",
    "construction_type_pct_loss = cleaned_construction_loss[\"PERCENTAGE LOSS\"].astype(float)"
   ]
  },
  {
   "cell_type": "code",
   "execution_count": 19,
   "id": "e602d76c",
   "metadata": {},
   "outputs": [],
   "source": [
    "# Customize the size of the figure\n",
    "figure_layout = {\n",
    "    'width': '400px',\n",
    "    'height': '450px',\n",
    "    'border': '1px solid black',\n",
    "    'padding': '1px',\n",
    "    'margin': '0 auto 0 auto'\n",
    "}\n",
    "fig = gmaps.figure(layout=figure_layout)"
   ]
  },
  {
   "cell_type": "code",
   "execution_count": 27,
   "id": "ce8a4292",
   "metadata": {},
   "outputs": [
    {
     "data": {
      "application/vnd.jupyter.widget-view+json": {
       "model_id": "851e0610ddf2444c9c59b84db4361dbc",
       "version_major": 2,
       "version_minor": 0
      },
      "text/plain": [
       "Figure(layout=FigureLayout(border='1px solid black', height='550px', margin='0 auto 0 auto', padding='1px', wi…"
      ]
     },
     "metadata": {},
     "output_type": "display_data"
    }
   ],
   "source": [
    "# Add Heatmap layer to map.\n",
    "fig = gmaps.figure(layout=figure_layout, map_type=\"HYBRID\", center=(32.83, -96.75), zoom_level=10)\n",
    "\n",
    "heat_layer = gmaps.heatmap_layer(locations, weights=construction_type_pct_loss, \n",
    "                                 dissipating=False, max_intensity=200, \n",
    "                                 point_radius=0.02)\n",
    "fig.add_layer(heat_layer)\n",
    "fig"
   ]
  },
  {
   "cell_type": "code",
   "execution_count": 21,
   "id": "eaa805c4",
   "metadata": {},
   "outputs": [],
   "source": [
    "# Customize the size of the figure\n",
    "figure_layout = {\n",
    "    'width': '500px',\n",
    "    'height': '550px',\n",
    "    'border': '1px solid black',\n",
    "    'padding': '1px',\n",
    "    'margin': '0 auto 0 auto'\n",
    "}\n",
    "fig = gmaps.figure(layout=figure_layout)"
   ]
  },
  {
   "cell_type": "code",
   "execution_count": 22,
   "id": "a1c9e5c0",
   "metadata": {},
   "outputs": [
    {
     "data": {
      "application/vnd.jupyter.widget-view+json": {
       "model_id": "d4a7b30680e544a69ae8219d54f5bc44",
       "version_major": 2,
       "version_minor": 0
      },
      "text/plain": [
       "Figure(layout=FigureLayout(border='1px solid black', height='550px', margin='0 auto 0 auto', padding='1px', wi…"
      ]
     },
     "metadata": {},
     "output_type": "display_data"
    }
   ],
   "source": [
    "fires_df=cleaned_construction_loss[['Lat','Lng']]\n",
    "fires_layer=gmaps.symbol_layer(fires_df,fill_color=(255,165,0),stroke_color=(0,0,0),scale=2)\n",
    "fig=gmaps.figure(layout=figure_layout, center=(32.83, -96.74), zoom_level=10)\n",
    "fig.add_layer(fires_layer)\n",
    "fig"
   ]
  },
  {
   "cell_type": "code",
   "execution_count": 23,
   "id": "123aa2db",
   "metadata": {},
   "outputs": [
    {
     "data": {
      "application/vnd.jupyter.widget-view+json": {
       "model_id": "d416cda7d61f4925a9f959ba706c4a3d",
       "version_major": 2,
       "version_minor": 0
      },
      "text/plain": [
       "Figure(layout=FigureLayout(border='1px solid black', height='550px', margin='0 auto 0 auto', padding='1px', wi…"
      ]
     },
     "metadata": {},
     "output_type": "display_data"
    }
   ],
   "source": [
    "# Use the Lat and Lng as locations and Percentage Loss as the weight.\n",
    "locations = cleaned_construction_loss[[\"Lat\", \"Lng\"]]\n",
    "construction_type_pct_loss = cleaned_construction_loss[\"PERCENTAGE LOSS\"].astype(float)\n",
    "\n",
    "heat_layer = gmaps.heatmap_layer(locations, weights=construction_type_pct_loss, \n",
    "                                 dissipating=False, max_intensity=100, \n",
    "                                 point_radius=0.02)\n",
    "\n",
    "#marker_layer = gmaps.marker_layer(locations)\n",
    "\n",
    "marker_layer=gmaps.symbol_layer(fires_df,fill_color=(0,0,254),stroke_color=(0,0,254),scale=2)\n",
    "\n",
    "\n",
    "# Display figure\n",
    "fig = gmaps.figure()\n",
    "fig = gmaps.figure(layout=figure_layout, map_type=\"HYBRID\", center=(32.83, -96.74), zoom_level=10)\n",
    "fig.add_layer(heat_layer)\n",
    "fig.add_layer(marker_layer)\n",
    "fig"
   ]
  },
  {
   "cell_type": "code",
   "execution_count": 24,
   "id": "73c0f7fa",
   "metadata": {},
   "outputs": [
    {
     "data": {
      "application/vnd.jupyter.widget-view+json": {
       "model_id": "113043b795ac4e6e9c49ae4d479f0b18",
       "version_major": 2,
       "version_minor": 0
      },
      "text/plain": [
       "Figure(layout=FigureLayout(border='1px solid black', height='550px', margin='0 auto 0 auto', padding='1px', wi…"
      ]
     },
     "metadata": {},
     "output_type": "display_data"
    }
   ],
   "source": [
    "structure_df = cleaned_construction_loss.set_index('CONSTRUCTION')\n",
    "\n",
    "structure_church=structure_df.loc['CONCRETE']\n",
    "structure_layer_1=structure_church[['Lat','Lng']]\n",
    "\n",
    "structure_commercial=structure_df.loc['MASONRY & BRICK']\n",
    "structure_layer_2=structure_commercial[['Lat','Lng']]\n",
    "\n",
    "structure_garage=structure_df.loc['OTHER']\n",
    "structure_layer_3=structure_garage[['Lat','Lng']]\n",
    "\n",
    "structure_lodging=structure_df.loc['STEEL & METAL']\n",
    "structure_layer_4=structure_lodging[['Lat','Lng']]\n",
    "\n",
    "structure_office=structure_df.loc['WOOD']\n",
    "structure_layer_5=structure_office[['Lat','Lng']]\n",
    "\n",
    "heat_layer = gmaps.heatmap_layer(locations, weights=construction_type_pct_loss, \n",
    "                                 dissipating=False, max_intensity=100, \n",
    "                                 point_radius=0.02)\n",
    "\n",
    "layer_1=gmaps.symbol_layer(structure_layer_1,fill_color=(255,105,180),stroke_color=(255,105,180),scale=3)    #GREEN\n",
    "layer_2=gmaps.symbol_layer(structure_layer_2,fill_color=(153,50,204),stroke_color=(153,50,204),scale=3)    #darkorchid\n",
    "layer_3=gmaps.symbol_layer(structure_layer_3,fill_color=(255,0,0),stroke_color=(255,0,0),scale=4)    #RED\n",
    "layer_4=gmaps.symbol_layer(structure_layer_4,fill_color=(255,255,0),stroke_color=(255,255,0),scale=3)  #yellow1\n",
    "layer_5=gmaps.symbol_layer(structure_layer_5,fill_color=(0,0,254),stroke_color=(0,0,254),scale=2)   #BLUE \n",
    "\n",
    "fig=gmaps.figure(layout=figure_layout, map_type=\"TERRAIN\", center=(32.83, -96.74), zoom_level=10)\n",
    "\n",
    "fig.add_layer(heat_layer)\n",
    "\n",
    "fig.add_layer(layer_5)\n",
    "fig.add_layer(layer_1)\n",
    "fig.add_layer(layer_2)\n",
    "fig.add_layer(layer_3)\n",
    "fig.add_layer(layer_4)\n",
    "\n",
    "\n",
    "fig"
   ]
  },
  {
   "cell_type": "code",
   "execution_count": null,
   "id": "b40f8385",
   "metadata": {},
   "outputs": [],
   "source": []
  }
 ],
 "metadata": {
  "kernelspec": {
   "display_name": "Python 3 (ipykernel)",
   "language": "python",
   "name": "python3"
  },
  "language_info": {
   "codemirror_mode": {
    "name": "ipython",
    "version": 3
   },
   "file_extension": ".py",
   "mimetype": "text/x-python",
   "name": "python",
   "nbconvert_exporter": "python",
   "pygments_lexer": "ipython3",
   "version": "3.9.7"
  }
 },
 "nbformat": 4,
 "nbformat_minor": 5
}
